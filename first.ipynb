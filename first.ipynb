{
 "cells": [
  {
   "cell_type": "code",
   "execution_count": 1,
   "metadata": {
    "collapsed": true
   },
   "outputs": [
    {
     "name": "stderr",
     "output_type": "stream",
     "text": [
      "Using TensorFlow backend.\n",
      "/home/timothyxp/yes/lib/python3.7/site-packages/tensorflow/python/framework/dtypes.py:526: FutureWarning: Passing (type, 1) or '1type' as a synonym of type is deprecated; in a future version of numpy, it will be understood as (type, (1,)) / '(1,)type'.\n",
      "  _np_qint8 = np.dtype([(\"qint8\", np.int8, 1)])\n",
      "/home/timothyxp/yes/lib/python3.7/site-packages/tensorflow/python/framework/dtypes.py:527: FutureWarning: Passing (type, 1) or '1type' as a synonym of type is deprecated; in a future version of numpy, it will be understood as (type, (1,)) / '(1,)type'.\n",
      "  _np_quint8 = np.dtype([(\"quint8\", np.uint8, 1)])\n",
      "/home/timothyxp/yes/lib/python3.7/site-packages/tensorflow/python/framework/dtypes.py:528: FutureWarning: Passing (type, 1) or '1type' as a synonym of type is deprecated; in a future version of numpy, it will be understood as (type, (1,)) / '(1,)type'.\n",
      "  _np_qint16 = np.dtype([(\"qint16\", np.int16, 1)])\n",
      "/home/timothyxp/yes/lib/python3.7/site-packages/tensorflow/python/framework/dtypes.py:529: FutureWarning: Passing (type, 1) or '1type' as a synonym of type is deprecated; in a future version of numpy, it will be understood as (type, (1,)) / '(1,)type'.\n",
      "  _np_quint16 = np.dtype([(\"quint16\", np.uint16, 1)])\n",
      "/home/timothyxp/yes/lib/python3.7/site-packages/tensorflow/python/framework/dtypes.py:530: FutureWarning: Passing (type, 1) or '1type' as a synonym of type is deprecated; in a future version of numpy, it will be understood as (type, (1,)) / '(1,)type'.\n",
      "  _np_qint32 = np.dtype([(\"qint32\", np.int32, 1)])\n",
      "/home/timothyxp/yes/lib/python3.7/site-packages/tensorflow/python/framework/dtypes.py:535: FutureWarning: Passing (type, 1) or '1type' as a synonym of type is deprecated; in a future version of numpy, it will be understood as (type, (1,)) / '(1,)type'.\n",
      "  np_resource = np.dtype([(\"resource\", np.ubyte, 1)])\n"
     ]
    }
   ],
   "source": [
    "import pandas as pd\n",
    "import numpy as np\n",
    "import ipynb.fs.full.utils as utils\n",
    "import importlib\n",
    "importlib.reload(utils)\n",
    "from keras.models import Sequential, Model, load_model\n",
    "from keras.layers.core import Dense, Dropout, Reshape, Activation, Lambda, Flatten\n",
    "from keras.layers import TimeDistributed, BatchNormalization, Input, Conv1D\n",
    "from keras.layers.merge import dot\n",
    "from keras.optimizers import Adam\n",
    "from keras.callbacks import TensorBoard\n",
    "from tqdm import tqdm_notebook\n",
    "import keras\n",
    "import os\n",
    "import matplotlib.pyplot as pltё\n",
    "import seaborn as sns\n",
    "import lightgbm as lgb\n",
    "from sklearn import preprocessing, metrics\n",
    "import pyspark.sql.functions as SF\n",
    "import pyspark.sql.types as ST"
   ]
  },
  {
   "cell_type": "code",
   "execution_count": 2,
   "metadata": {},
   "outputs": [],
   "source": [
    "%matplotlib inline"
   ]
  },
  {
   "cell_type": "code",
   "execution_count": 3,
   "metadata": {},
   "outputs": [],
   "source": [
    "utils.setup_context()"
   ]
  },
  {
   "cell_type": "code",
   "execution_count": 35,
   "metadata": {},
   "outputs": [
    {
     "data": {
      "text/html": [
       "<div>\n",
       "<style scoped>\n",
       "    .dataframe tbody tr th:only-of-type {\n",
       "        vertical-align: middle;\n",
       "    }\n",
       "\n",
       "    .dataframe tbody tr th {\n",
       "        vertical-align: top;\n",
       "    }\n",
       "\n",
       "    .dataframe thead th {\n",
       "        text-align: right;\n",
       "    }\n",
       "</style>\n",
       "<table border=\"1\" class=\"dataframe\">\n",
       "  <thead>\n",
       "    <tr style=\"text-align: right;\">\n",
       "      <th></th>\n",
       "      <th>date</th>\n",
       "      <th>wm_yr_wk</th>\n",
       "      <th>weekday</th>\n",
       "      <th>wday</th>\n",
       "      <th>month</th>\n",
       "      <th>year</th>\n",
       "      <th>d</th>\n",
       "      <th>event_name_1</th>\n",
       "      <th>event_type_1</th>\n",
       "      <th>event_name_2</th>\n",
       "      <th>event_type_2</th>\n",
       "      <th>snap_CA</th>\n",
       "      <th>snap_TX</th>\n",
       "      <th>snap_WI</th>\n",
       "    </tr>\n",
       "  </thead>\n",
       "  <tbody>\n",
       "    <tr>\n",
       "      <th>0</th>\n",
       "      <td>2011-01-29</td>\n",
       "      <td>11101</td>\n",
       "      <td>Saturday</td>\n",
       "      <td>1</td>\n",
       "      <td>1</td>\n",
       "      <td>2011</td>\n",
       "      <td>d_1</td>\n",
       "      <td>NaN</td>\n",
       "      <td>NaN</td>\n",
       "      <td>NaN</td>\n",
       "      <td>NaN</td>\n",
       "      <td>0</td>\n",
       "      <td>0</td>\n",
       "      <td>0</td>\n",
       "    </tr>\n",
       "  </tbody>\n",
       "</table>\n",
       "</div>"
      ],
      "text/plain": [
       "         date  wm_yr_wk   weekday  wday  month  year    d event_name_1  \\\n",
       "0  2011-01-29     11101  Saturday     1      1  2011  d_1          NaN   \n",
       "\n",
       "  event_type_1 event_name_2 event_type_2  snap_CA  snap_TX  snap_WI  \n",
       "0          NaN          NaN          NaN        0        0        0  "
      ]
     },
     "execution_count": 35,
     "metadata": {},
     "output_type": "execute_result"
    }
   ],
   "source": [
    "calendar = pd.read_csv(\"calendar.csv\")\n",
    "calendar.head(1)"
   ]
  },
  {
   "cell_type": "code",
   "execution_count": 36,
   "metadata": {},
   "outputs": [],
   "source": [
    "def transform_event(event):\n",
    "    if event is None:\n",
    "        return 0\n",
    "    return 1\n",
    "\n",
    "calendar = calendar.drop(columns=[\"event_name_1\", \"event_name_2\"])\n",
    "calendar[\"event_type_1\"] = calendar[\"event_type_1\"].apply(transform_event)\n",
    "calendar[\"event_type_2\"] = calendar[\"event_type_2\"].apply(transform_event)"
   ]
  },
  {
   "cell_type": "code",
   "execution_count": 37,
   "metadata": {},
   "outputs": [
    {
     "data": {
      "text/html": [
       "<div>\n",
       "<style scoped>\n",
       "    .dataframe tbody tr th:only-of-type {\n",
       "        vertical-align: middle;\n",
       "    }\n",
       "\n",
       "    .dataframe tbody tr th {\n",
       "        vertical-align: top;\n",
       "    }\n",
       "\n",
       "    .dataframe thead th {\n",
       "        text-align: right;\n",
       "    }\n",
       "</style>\n",
       "<table border=\"1\" class=\"dataframe\">\n",
       "  <thead>\n",
       "    <tr style=\"text-align: right;\">\n",
       "      <th></th>\n",
       "      <th>store_id</th>\n",
       "      <th>item_id</th>\n",
       "      <th>wm_yr_wk</th>\n",
       "      <th>sell_price</th>\n",
       "    </tr>\n",
       "  </thead>\n",
       "  <tbody>\n",
       "    <tr>\n",
       "      <th>0</th>\n",
       "      <td>CA_1</td>\n",
       "      <td>HOBBIES_1_001</td>\n",
       "      <td>11325</td>\n",
       "      <td>9.58</td>\n",
       "    </tr>\n",
       "  </tbody>\n",
       "</table>\n",
       "</div>"
      ],
      "text/plain": [
       "  store_id        item_id  wm_yr_wk  sell_price\n",
       "0     CA_1  HOBBIES_1_001     11325        9.58"
      ]
     },
     "execution_count": 37,
     "metadata": {},
     "output_type": "execute_result"
    }
   ],
   "source": [
    "prices = pd.read_csv(\"sell_prices.csv\")\n",
    "prices.head(1)"
   ]
  },
  {
   "cell_type": "code",
   "execution_count": 38,
   "metadata": {},
   "outputs": [
    {
     "data": {
      "text/html": [
       "<div>\n",
       "<style scoped>\n",
       "    .dataframe tbody tr th:only-of-type {\n",
       "        vertical-align: middle;\n",
       "    }\n",
       "\n",
       "    .dataframe tbody tr th {\n",
       "        vertical-align: top;\n",
       "    }\n",
       "\n",
       "    .dataframe thead th {\n",
       "        text-align: right;\n",
       "    }\n",
       "</style>\n",
       "<table border=\"1\" class=\"dataframe\">\n",
       "  <thead>\n",
       "    <tr style=\"text-align: right;\">\n",
       "      <th></th>\n",
       "      <th>id</th>\n",
       "      <th>item_id</th>\n",
       "      <th>dept_id</th>\n",
       "      <th>cat_id</th>\n",
       "      <th>store_id</th>\n",
       "      <th>state_id</th>\n",
       "      <th>d_1</th>\n",
       "      <th>d_2</th>\n",
       "      <th>d_3</th>\n",
       "      <th>d_4</th>\n",
       "      <th>...</th>\n",
       "      <th>d_1904</th>\n",
       "      <th>d_1905</th>\n",
       "      <th>d_1906</th>\n",
       "      <th>d_1907</th>\n",
       "      <th>d_1908</th>\n",
       "      <th>d_1909</th>\n",
       "      <th>d_1910</th>\n",
       "      <th>d_1911</th>\n",
       "      <th>d_1912</th>\n",
       "      <th>d_1913</th>\n",
       "    </tr>\n",
       "  </thead>\n",
       "  <tbody>\n",
       "    <tr>\n",
       "      <th>0</th>\n",
       "      <td>HOBBIES_1_001_CA_1_validation</td>\n",
       "      <td>HOBBIES_1_001</td>\n",
       "      <td>HOBBIES_1</td>\n",
       "      <td>HOBBIES</td>\n",
       "      <td>CA_1</td>\n",
       "      <td>CA</td>\n",
       "      <td>0</td>\n",
       "      <td>0</td>\n",
       "      <td>0</td>\n",
       "      <td>0</td>\n",
       "      <td>...</td>\n",
       "      <td>1</td>\n",
       "      <td>3</td>\n",
       "      <td>0</td>\n",
       "      <td>1</td>\n",
       "      <td>1</td>\n",
       "      <td>1</td>\n",
       "      <td>3</td>\n",
       "      <td>0</td>\n",
       "      <td>1</td>\n",
       "      <td>1</td>\n",
       "    </tr>\n",
       "  </tbody>\n",
       "</table>\n",
       "<p>1 rows × 1919 columns</p>\n",
       "</div>"
      ],
      "text/plain": [
       "                              id        item_id    dept_id   cat_id store_id  \\\n",
       "0  HOBBIES_1_001_CA_1_validation  HOBBIES_1_001  HOBBIES_1  HOBBIES     CA_1   \n",
       "\n",
       "  state_id  d_1  d_2  d_3  d_4  ...  d_1904  d_1905  d_1906  d_1907  d_1908  \\\n",
       "0       CA    0    0    0    0  ...       1       3       0       1       1   \n",
       "\n",
       "   d_1909  d_1910  d_1911  d_1912  d_1913  \n",
       "0       1       3       0       1       1  \n",
       "\n",
       "[1 rows x 1919 columns]"
      ]
     },
     "execution_count": 38,
     "metadata": {},
     "output_type": "execute_result"
    }
   ],
   "source": [
    "sales = pd.read_csv(\"sales_train_validation.csv\")\n",
    "sales.head(1)"
   ]
  },
  {
   "cell_type": "code",
   "execution_count": 39,
   "metadata": {},
   "outputs": [],
   "source": [
    "prediction_columns = [f\"d_{i}\" for i in range(1914, 1914 + 28)]\n",
    "for column in prediction_columns:\n",
    "    sales[column] = None"
   ]
  },
  {
   "cell_type": "code",
   "execution_count": 40,
   "metadata": {},
   "outputs": [
    {
     "name": "stdout",
     "output_type": "stream",
     "text": [
      "Mem. usage decreased to 230.06 Mb (49.2% reduction)\n",
      "Mem. usage decreased to 130.48 Mb (37.5% reduction)\n",
      "Mem. usage decreased to  0.11 Mb (37.5% reduction)\n"
     ]
    }
   ],
   "source": [
    "sales = sales \\\n",
    "    .pipe(utils.encode_categorical, cols=[\"item_id\", \"dept_id\", \"cat_id\"]) \\\n",
    "    .pipe(utils.reduce_mem_usage)\n",
    "\n",
    "prices = prices \\\n",
    "    .pipe(utils.encode_categorical, cols=[\"item_id\"]) \\\n",
    "    .pipe(utils.reduce_mem_usage)\n",
    "\n",
    "calendar = calendar.pipe(utils.reduce_mem_usage)"
   ]
  },
  {
   "cell_type": "code",
   "execution_count": 41,
   "metadata": {},
   "outputs": [],
   "source": [
    "sales = pd.melt(sales, id_vars=[\"id\", \"item_id\", \"dept_id\", \"cat_id\", \"store_id\", \"state_id\"], var_name=\"day\", value_name=\"demand\")"
   ]
  },
  {
   "cell_type": "code",
   "execution_count": 42,
   "metadata": {},
   "outputs": [
    {
     "data": {
      "text/plain": [
       "id          object\n",
       "item_id      int32\n",
       "dept_id      int32\n",
       "cat_id       int32\n",
       "store_id    object\n",
       "state_id    object\n",
       "day         object\n",
       "demand      object\n",
       "dtype: object"
      ]
     },
     "execution_count": 42,
     "metadata": {},
     "output_type": "execute_result"
    }
   ],
   "source": [
    "sales.dtypes"
   ]
  },
  {
   "cell_type": "code",
   "execution_count": 43,
   "metadata": {},
   "outputs": [
    {
     "data": {
      "text/html": [
       "<div>\n",
       "<style scoped>\n",
       "    .dataframe tbody tr th:only-of-type {\n",
       "        vertical-align: middle;\n",
       "    }\n",
       "\n",
       "    .dataframe tbody tr th {\n",
       "        vertical-align: top;\n",
       "    }\n",
       "\n",
       "    .dataframe thead th {\n",
       "        text-align: right;\n",
       "    }\n",
       "</style>\n",
       "<table border=\"1\" class=\"dataframe\">\n",
       "  <thead>\n",
       "    <tr style=\"text-align: right;\">\n",
       "      <th></th>\n",
       "      <th>id</th>\n",
       "      <th>item_id</th>\n",
       "      <th>dept_id</th>\n",
       "      <th>cat_id</th>\n",
       "      <th>store_id</th>\n",
       "      <th>state_id</th>\n",
       "      <th>day</th>\n",
       "      <th>demand</th>\n",
       "    </tr>\n",
       "  </thead>\n",
       "  <tbody>\n",
       "    <tr>\n",
       "      <th>0</th>\n",
       "      <td>HOBBIES_1_001_CA_1_validation</td>\n",
       "      <td>1437</td>\n",
       "      <td>3</td>\n",
       "      <td>1</td>\n",
       "      <td>CA_1</td>\n",
       "      <td>CA</td>\n",
       "      <td>d_1</td>\n",
       "      <td>0</td>\n",
       "    </tr>\n",
       "  </tbody>\n",
       "</table>\n",
       "</div>"
      ],
      "text/plain": [
       "                              id  item_id  dept_id  cat_id store_id state_id  \\\n",
       "0  HOBBIES_1_001_CA_1_validation     1437        3       1     CA_1       CA   \n",
       "\n",
       "   day demand  \n",
       "0  d_1      0  "
      ]
     },
     "execution_count": 43,
     "metadata": {},
     "output_type": "execute_result"
    }
   ],
   "source": [
    "sales.head(1)"
   ]
  },
  {
   "cell_type": "code",
   "execution_count": 44,
   "metadata": {},
   "outputs": [
    {
     "data": {
      "text/plain": [
       "(59181090, 8)"
      ]
     },
     "execution_count": 44,
     "metadata": {},
     "output_type": "execute_result"
    }
   ],
   "source": [
    "sales.shape"
   ]
  },
  {
   "cell_type": "code",
   "execution_count": 45,
   "metadata": {},
   "outputs": [],
   "source": [
    "calendar.drop(columns=['weekday', 'wday', 'month', 'year'], inplace = True)"
   ]
  },
  {
   "cell_type": "code",
   "execution_count": 46,
   "metadata": {},
   "outputs": [],
   "source": [
    "sales = sales.merge(calendar, left_on=\"day\", right_on=\"d\", how=\"left\")"
   ]
  },
  {
   "cell_type": "code",
   "execution_count": 47,
   "metadata": {},
   "outputs": [],
   "source": [
    "sales = sales.merge(prices, on=[\"store_id\", \"item_id\", \"wm_yr_wk\"], how=\"left\")"
   ]
  },
  {
   "cell_type": "code",
   "execution_count": 48,
   "metadata": {},
   "outputs": [],
   "source": [
    "sales.drop(columns=[\"d\"], inplace=True)"
   ]
  },
  {
   "cell_type": "code",
   "execution_count": 49,
   "metadata": {},
   "outputs": [],
   "source": [
    "sales = sales[~sales.sell_price.isna()].reset_index(drop=True)"
   ]
  },
  {
   "cell_type": "code",
   "execution_count": 50,
   "metadata": {},
   "outputs": [],
   "source": [
    "sales[\"day\"] = sales[\"day\"].apply(lambda s: s[2:]).apply(int)"
   ]
  },
  {
   "cell_type": "code",
   "execution_count": 51,
   "metadata": {},
   "outputs": [
    {
     "data": {
      "text/html": [
       "<div>\n",
       "<style scoped>\n",
       "    .dataframe tbody tr th:only-of-type {\n",
       "        vertical-align: middle;\n",
       "    }\n",
       "\n",
       "    .dataframe tbody tr th {\n",
       "        vertical-align: top;\n",
       "    }\n",
       "\n",
       "    .dataframe thead th {\n",
       "        text-align: right;\n",
       "    }\n",
       "</style>\n",
       "<table border=\"1\" class=\"dataframe\">\n",
       "  <thead>\n",
       "    <tr style=\"text-align: right;\">\n",
       "      <th></th>\n",
       "      <th>id</th>\n",
       "      <th>item_id</th>\n",
       "      <th>dept_id</th>\n",
       "      <th>cat_id</th>\n",
       "      <th>store_id</th>\n",
       "      <th>state_id</th>\n",
       "      <th>day</th>\n",
       "      <th>demand</th>\n",
       "      <th>date</th>\n",
       "      <th>wm_yr_wk</th>\n",
       "      <th>event_type_1</th>\n",
       "      <th>event_type_2</th>\n",
       "      <th>snap_CA</th>\n",
       "      <th>snap_TX</th>\n",
       "      <th>snap_WI</th>\n",
       "      <th>sell_price</th>\n",
       "    </tr>\n",
       "  </thead>\n",
       "  <tbody>\n",
       "    <tr>\n",
       "      <th>46881675</th>\n",
       "      <td>FOODS_3_826_WI_3_validation</td>\n",
       "      <td>1435</td>\n",
       "      <td>2</td>\n",
       "      <td>0</td>\n",
       "      <td>WI_3</td>\n",
       "      <td>WI</td>\n",
       "      <td>1941</td>\n",
       "      <td>None</td>\n",
       "      <td>2016-05-22</td>\n",
       "      <td>11617</td>\n",
       "      <td>1</td>\n",
       "      <td>1</td>\n",
       "      <td>0</td>\n",
       "      <td>0</td>\n",
       "      <td>0</td>\n",
       "      <td>1.28</td>\n",
       "    </tr>\n",
       "    <tr>\n",
       "      <th>46881676</th>\n",
       "      <td>FOODS_3_827_WI_3_validation</td>\n",
       "      <td>1436</td>\n",
       "      <td>2</td>\n",
       "      <td>0</td>\n",
       "      <td>WI_3</td>\n",
       "      <td>WI</td>\n",
       "      <td>1941</td>\n",
       "      <td>None</td>\n",
       "      <td>2016-05-22</td>\n",
       "      <td>11617</td>\n",
       "      <td>1</td>\n",
       "      <td>1</td>\n",
       "      <td>0</td>\n",
       "      <td>0</td>\n",
       "      <td>0</td>\n",
       "      <td>1.00</td>\n",
       "    </tr>\n",
       "  </tbody>\n",
       "</table>\n",
       "</div>"
      ],
      "text/plain": [
       "                                   id  item_id  dept_id  cat_id store_id  \\\n",
       "46881675  FOODS_3_826_WI_3_validation     1435        2       0     WI_3   \n",
       "46881676  FOODS_3_827_WI_3_validation     1436        2       0     WI_3   \n",
       "\n",
       "         state_id   day demand        date  wm_yr_wk  event_type_1  \\\n",
       "46881675       WI  1941   None  2016-05-22     11617             1   \n",
       "46881676       WI  1941   None  2016-05-22     11617             1   \n",
       "\n",
       "          event_type_2  snap_CA  snap_TX  snap_WI  sell_price  \n",
       "46881675             1        0        0        0        1.28  \n",
       "46881676             1        0        0        0        1.00  "
      ]
     },
     "execution_count": 51,
     "metadata": {},
     "output_type": "execute_result"
    }
   ],
   "source": [
    "sales.tail(2)"
   ]
  },
  {
   "cell_type": "code",
   "execution_count": 52,
   "metadata": {},
   "outputs": [],
   "source": [
    "sales.to_parquet(\"/mnt/m5_train_data.parquet\", index=False)"
   ]
  },
  {
   "cell_type": "code",
   "execution_count": 4,
   "metadata": {},
   "outputs": [],
   "source": [
    "from pyspark.sql.window import Window\n",
    "from itertools import product\n",
    "import os\n",
    "\n",
    "window = Window()\n",
    "\n",
    "shift = 0\n",
    "\n",
    "def get_last_k_values(df, columns, k, group_columns = [\"item_id\"], agregate = False, agg_function = SF.sum):\n",
    "    window = Window().partitionBy(group_columns).orderBy(\"day\")\n",
    "    \n",
    "    agg_addition_name = \"\"\n",
    "    \n",
    "    agg_df = df\n",
    "    if agregate:\n",
    "        agg_addition_name = f\"agg_{agg_function.__name__}_\"\n",
    "        agg_df = agg_df \\\n",
    "            .groupby(group_columns + [\"day\"]) \\\n",
    "            .agg(*[agg_function(column).alias(column) for column in columns])\n",
    "    \n",
    "    agg_df = agg_df \\\n",
    "        .select(*(group_columns + [\"day\"] + \n",
    "                  [SF.lag(column, i + shift) \\\n",
    "                       .over(window) \\\n",
    "                       .alias(f\"previous_{column}_by_{'&'.join(group_columns)}_at_{i + shift}{agg_addition_name}\")\n",
    "                   for column, i in product(columns, range(1, k))\n",
    "        ]))\n",
    "    \n",
    "    df = df \\\n",
    "        .join(agg_df, on=group_columns + [\"day\"], how=\"left\")\n",
    "    \n",
    "    return df\n",
    "\n",
    "\n",
    "def group_stats(df, group_columns, columns_for_stats, k_arr, functions = [SF.mean, SF.min, SF.max, SF.stddev]):\n",
    "    if type(group_columns) is str:\n",
    "        group_columns = [group_columns]\n",
    "        \n",
    "    if type(k_arr) is int:\n",
    "        k_arr = [k_arr]\n",
    "            \n",
    "    if len(group_columns) == 2 and group_columns[0] == \"item_id\" and group_columns[1] == \"store_id\":\n",
    "        agg_df = df\n",
    "    else:\n",
    "        agg_df = df \\\n",
    "            .groupby(group_columns + [\"day\"]) \\\n",
    "            .agg(*[SF.sum(column).alias(column) for column in columns_for_stats])\n",
    "    \n",
    "    select_columns = group_columns + columns_for_stats + [\"day\"]\n",
    "    for k in k_arr:\n",
    "        window = Window().partitionBy(group_columns).orderBy(\"day\").rowsBetween(-k - shift, -shift)\n",
    "        agg_df = agg_df \\\n",
    "            .select(*(select_columns + [\n",
    "                func(column) \\\n",
    "                    .over(window) \\\n",
    "                    .alias(f\"{func.__name__}_by_{''.join(group_columns)}_on_{column}_at_{k}\")\n",
    "                for func, column in product(functions, columns_for_stats)\n",
    "        ]))\n",
    "        select_columns = agg_df.columns\n",
    "    \n",
    "    agg_df = agg_df.drop(*columns_for_stats)\n",
    "    return df \\\n",
    "            .join(agg_df, on=[\"day\"] + group_columns, how=\"left\")\n",
    "\n",
    "\n",
    "def get_date_features(df):\n",
    "    return df \\\n",
    "        .withColumn(\"day_of_month\", SF.dayofmonth(\"date\")) \\\n",
    "        .withColumn(\"day_of_week\", SF.dayofweek(\"date\")) \\\n",
    "        .withColumn(\"dat_of_year\", SF.dayofyear(\"date\")) \\\n",
    "        .withColumn(\"month\", SF.month(\"date\")) \\\n",
    "        .withColumn(\"year\", SF.year(\"date\")) \\\n",
    "        .withColumn(\"quarter\", SF.quarter(\"date\")) \\\n",
    "        .withColumn(\"week\", SF.weekofyear(\"date\"))\n",
    "    \n",
    "\n",
    "def get_features(df, cache_prefix = \"\"):\n",
    "    cache_prefix = \"/mnt/m5_all_train_data/\" + cache_prefix\n",
    "    initial_columns = df.columns\n",
    "    columns_for_stats = [\"sell_price\", \"demand\"]\n",
    "    \n",
    "    group_columns = [[\"item_id\", \"store_id\"], \"dept_id\", \"cat_id\", \"store_id\", \"state_id\", [\"dept_id\", \"store_id\"], [\"cat_id\", \"store_id\"]]\n",
    "    stat_days = [7, 14, 30, 60, 90]\n",
    "    \n",
    "    cache_path = f'{cache_prefix}shift={shift}_initial.parquet'\n",
    "    \n",
    "    if utils.check_path_exists(cache_path, is_spark_dir=True):\n",
    "        df = utils.read_parquet(cache_path).cache()\n",
    "    else:    \n",
    "        df = df.withColumn(\"date\", SF.to_timestamp(\"date\"))\n",
    "        df.cache()\n",
    "        print(df.count())\n",
    "\n",
    "        df = get_last_k_values(df, columns_for_stats, k=10, group_columns=[\"item_id\", \"store_id\"])\n",
    "        print(df.count())\n",
    "        df = get_date_features(df)\n",
    "        print(f\"save cache to {cache_path} with columns={len(df.columns)}\")\n",
    "        utils.write_parquet(df, cache_path)\n",
    "        df = utils.read_parquet(cache_path).cache()\n",
    "        print(df.count())\n",
    "    \n",
    "    print(df.columns)\n",
    "    for i, column in enumerate(group_columns):\n",
    "        cache_path = f'{cache_prefix}shift={shift}_i={i}.parquet'\n",
    "        if utils.check_path_exists(cache_path, is_spark_dir=True):\n",
    "            df = utils.read_parquet(cache_path)\n",
    "            continue\n",
    "            \n",
    "        if type(column) is str:\n",
    "            grp_col = [column]\n",
    "        else:\n",
    "            grp_col = column\n",
    "          \n",
    "        df = group_stats(df, grp_col, columns_for_stats, k_arr=stat_days)\n",
    "        print(df.columns)\n",
    "        print(f\"save cache to {cache_path} with columns={len(df.columns)}\")\n",
    "        utils.write_parquet(df, cache_path)\n",
    "        df = utils.read_parquet(cache_path).cache()\n",
    "        print(df.count())\n",
    "        \n",
    "    print(f\"generate {len(df.columns) - len(initial_columns)} features\")\n",
    "    return df\n",
    "        "
   ]
  },
  {
   "cell_type": "code",
   "execution_count": 4,
   "metadata": {},
   "outputs": [],
   "source": [
    "from sklearn.metrics import mean_squared_error\n",
    "\n",
    "stores = ['CA_1', 'CA_2', 'CA_3', 'CA_4', 'TX_1', 'TX_2', 'TX_3', 'WI_1', 'WI_2', 'WI_3']\n",
    "train_data_dir = \"/mnt/m5_all_train_data\"\n",
    "os.makedirs(train_data_dir, exist_ok=True)\n",
    "\n",
    "meta_columns = [\"store_id\", \"cat_id\", \"dept_id\", \"item_id\", \"id\", \"state_id\", \"date\"]\n",
    "cat_features = [\"cat_id\", \"dept_id\", \"store_id\"]\n",
    "non_feature_columns = [\"id\", \"date\", \"item_id\", \"day\", \"state_id\"]\n",
    "feature_meta_columns = [\"sell_price\", \"wm_yr_wk\", \"event_type_1\", \"event_type_2\", \"snap_CA\", \"snap_TX\", \"snap_WI\"]"
   ]
  },
  {
   "cell_type": "code",
   "execution_count": 6,
   "metadata": {},
   "outputs": [],
   "source": [
    "inference_data = utils.read_parquet(\"/mnt/m5_train_data.parquet\")"
   ]
  },
  {
   "cell_type": "code",
   "execution_count": 16,
   "metadata": {
    "collapsed": true
   },
   "outputs": [
    {
     "name": "stdout",
     "output_type": "stream",
     "text": [
      "save cache to /mnt/m5_all_train_data/ex1_shift=0_initial.parquet with columns=41\n",
      "36732524\n",
      "['item_id', 'store_id', 'day', 'id', 'dept_id', 'cat_id', 'state_id', 'demand', 'date', 'wm_yr_wk', 'event_type_1', 'event_type_2', 'snap_CA', 'snap_TX', 'snap_WI', 'sell_price', 'previous_sell_price_by_item_id&store_id_at_1', 'previous_sell_price_by_item_id&store_id_at_2', 'previous_sell_price_by_item_id&store_id_at_3', 'previous_sell_price_by_item_id&store_id_at_4', 'previous_sell_price_by_item_id&store_id_at_5', 'previous_sell_price_by_item_id&store_id_at_6', 'previous_sell_price_by_item_id&store_id_at_7', 'previous_sell_price_by_item_id&store_id_at_8', 'previous_sell_price_by_item_id&store_id_at_9', 'previous_demand_by_item_id&store_id_at_1', 'previous_demand_by_item_id&store_id_at_2', 'previous_demand_by_item_id&store_id_at_3', 'previous_demand_by_item_id&store_id_at_4', 'previous_demand_by_item_id&store_id_at_5', 'previous_demand_by_item_id&store_id_at_6', 'previous_demand_by_item_id&store_id_at_7', 'previous_demand_by_item_id&store_id_at_8', 'previous_demand_by_item_id&store_id_at_9', 'day_of_month', 'day_of_week', 'dat_of_year', 'month', 'year', 'quarter', 'week']\n",
      "['day', 'item_id', 'store_id', 'id', 'dept_id', 'cat_id', 'state_id', 'demand', 'date', 'wm_yr_wk', 'event_type_1', 'event_type_2', 'snap_CA', 'snap_TX', 'snap_WI', 'sell_price', 'previous_sell_price_by_item_id&store_id_at_1', 'previous_sell_price_by_item_id&store_id_at_2', 'previous_sell_price_by_item_id&store_id_at_3', 'previous_sell_price_by_item_id&store_id_at_4', 'previous_sell_price_by_item_id&store_id_at_5', 'previous_sell_price_by_item_id&store_id_at_6', 'previous_sell_price_by_item_id&store_id_at_7', 'previous_sell_price_by_item_id&store_id_at_8', 'previous_sell_price_by_item_id&store_id_at_9', 'previous_demand_by_item_id&store_id_at_1', 'previous_demand_by_item_id&store_id_at_2', 'previous_demand_by_item_id&store_id_at_3', 'previous_demand_by_item_id&store_id_at_4', 'previous_demand_by_item_id&store_id_at_5', 'previous_demand_by_item_id&store_id_at_6', 'previous_demand_by_item_id&store_id_at_7', 'previous_demand_by_item_id&store_id_at_8', 'previous_demand_by_item_id&store_id_at_9', 'day_of_month', 'day_of_week', 'dat_of_year', 'month', 'year', 'quarter', 'week', 'mean_by_item_idstore_id_on_sell_price_at_7', 'mean_by_item_idstore_id_on_demand_at_7', 'min_by_item_idstore_id_on_sell_price_at_7', 'min_by_item_idstore_id_on_demand_at_7', 'max_by_item_idstore_id_on_sell_price_at_7', 'max_by_item_idstore_id_on_demand_at_7', 'stddev_by_item_idstore_id_on_sell_price_at_7', 'stddev_by_item_idstore_id_on_demand_at_7', 'mean_by_item_idstore_id_on_sell_price_at_14', 'mean_by_item_idstore_id_on_demand_at_14', 'min_by_item_idstore_id_on_sell_price_at_14', 'min_by_item_idstore_id_on_demand_at_14', 'max_by_item_idstore_id_on_sell_price_at_14', 'max_by_item_idstore_id_on_demand_at_14', 'stddev_by_item_idstore_id_on_sell_price_at_14', 'stddev_by_item_idstore_id_on_demand_at_14', 'mean_by_item_idstore_id_on_sell_price_at_30', 'mean_by_item_idstore_id_on_demand_at_30', 'min_by_item_idstore_id_on_sell_price_at_30', 'min_by_item_idstore_id_on_demand_at_30', 'max_by_item_idstore_id_on_sell_price_at_30', 'max_by_item_idstore_id_on_demand_at_30', 'stddev_by_item_idstore_id_on_sell_price_at_30', 'stddev_by_item_idstore_id_on_demand_at_30', 'mean_by_item_idstore_id_on_sell_price_at_60', 'mean_by_item_idstore_id_on_demand_at_60', 'min_by_item_idstore_id_on_sell_price_at_60', 'min_by_item_idstore_id_on_demand_at_60', 'max_by_item_idstore_id_on_sell_price_at_60', 'max_by_item_idstore_id_on_demand_at_60', 'stddev_by_item_idstore_id_on_sell_price_at_60', 'stddev_by_item_idstore_id_on_demand_at_60', 'mean_by_item_idstore_id_on_sell_price_at_90', 'mean_by_item_idstore_id_on_demand_at_90', 'min_by_item_idstore_id_on_sell_price_at_90', 'min_by_item_idstore_id_on_demand_at_90', 'max_by_item_idstore_id_on_sell_price_at_90', 'max_by_item_idstore_id_on_demand_at_90', 'stddev_by_item_idstore_id_on_sell_price_at_90', 'stddev_by_item_idstore_id_on_demand_at_90']\n",
      "save cache to /mnt/m5_all_train_data/ex1_shift=0_i=0.parquet with columns=81\n",
      "['day', 'dept_id', 'item_id', 'store_id', 'id', 'cat_id', 'state_id', 'demand', 'date', 'wm_yr_wk', 'event_type_1', 'event_type_2', 'snap_CA', 'snap_TX', 'snap_WI', 'sell_price', 'previous_sell_price_by_item_id&store_id_at_1', 'previous_sell_price_by_item_id&store_id_at_2', 'previous_sell_price_by_item_id&store_id_at_3', 'previous_sell_price_by_item_id&store_id_at_4', 'previous_sell_price_by_item_id&store_id_at_5', 'previous_sell_price_by_item_id&store_id_at_6', 'previous_sell_price_by_item_id&store_id_at_7', 'previous_sell_price_by_item_id&store_id_at_8', 'previous_sell_price_by_item_id&store_id_at_9', 'previous_demand_by_item_id&store_id_at_1', 'previous_demand_by_item_id&store_id_at_2', 'previous_demand_by_item_id&store_id_at_3', 'previous_demand_by_item_id&store_id_at_4', 'previous_demand_by_item_id&store_id_at_5', 'previous_demand_by_item_id&store_id_at_6', 'previous_demand_by_item_id&store_id_at_7', 'previous_demand_by_item_id&store_id_at_8', 'previous_demand_by_item_id&store_id_at_9', 'day_of_month', 'day_of_week', 'dat_of_year', 'month', 'year', 'quarter', 'week', 'mean_by_item_idstore_id_on_sell_price_at_7', 'mean_by_item_idstore_id_on_demand_at_7', 'min_by_item_idstore_id_on_sell_price_at_7', 'min_by_item_idstore_id_on_demand_at_7', 'max_by_item_idstore_id_on_sell_price_at_7', 'max_by_item_idstore_id_on_demand_at_7', 'stddev_by_item_idstore_id_on_sell_price_at_7', 'stddev_by_item_idstore_id_on_demand_at_7', 'mean_by_item_idstore_id_on_sell_price_at_14', 'mean_by_item_idstore_id_on_demand_at_14', 'min_by_item_idstore_id_on_sell_price_at_14', 'min_by_item_idstore_id_on_demand_at_14', 'max_by_item_idstore_id_on_sell_price_at_14', 'max_by_item_idstore_id_on_demand_at_14', 'stddev_by_item_idstore_id_on_sell_price_at_14', 'stddev_by_item_idstore_id_on_demand_at_14', 'mean_by_item_idstore_id_on_sell_price_at_30', 'mean_by_item_idstore_id_on_demand_at_30', 'min_by_item_idstore_id_on_sell_price_at_30', 'min_by_item_idstore_id_on_demand_at_30', 'max_by_item_idstore_id_on_sell_price_at_30', 'max_by_item_idstore_id_on_demand_at_30', 'stddev_by_item_idstore_id_on_sell_price_at_30', 'stddev_by_item_idstore_id_on_demand_at_30', 'mean_by_item_idstore_id_on_sell_price_at_60', 'mean_by_item_idstore_id_on_demand_at_60', 'min_by_item_idstore_id_on_sell_price_at_60', 'min_by_item_idstore_id_on_demand_at_60', 'max_by_item_idstore_id_on_sell_price_at_60', 'max_by_item_idstore_id_on_demand_at_60', 'stddev_by_item_idstore_id_on_sell_price_at_60', 'stddev_by_item_idstore_id_on_demand_at_60', 'mean_by_item_idstore_id_on_sell_price_at_90', 'mean_by_item_idstore_id_on_demand_at_90', 'min_by_item_idstore_id_on_sell_price_at_90', 'min_by_item_idstore_id_on_demand_at_90', 'max_by_item_idstore_id_on_sell_price_at_90', 'max_by_item_idstore_id_on_demand_at_90', 'stddev_by_item_idstore_id_on_sell_price_at_90', 'stddev_by_item_idstore_id_on_demand_at_90', 'mean_by_dept_id_on_sell_price_at_7', 'mean_by_dept_id_on_demand_at_7', 'min_by_dept_id_on_sell_price_at_7', 'min_by_dept_id_on_demand_at_7', 'max_by_dept_id_on_sell_price_at_7', 'max_by_dept_id_on_demand_at_7', 'stddev_by_dept_id_on_sell_price_at_7', 'stddev_by_dept_id_on_demand_at_7', 'mean_by_dept_id_on_sell_price_at_14', 'mean_by_dept_id_on_demand_at_14', 'min_by_dept_id_on_sell_price_at_14', 'min_by_dept_id_on_demand_at_14', 'max_by_dept_id_on_sell_price_at_14', 'max_by_dept_id_on_demand_at_14', 'stddev_by_dept_id_on_sell_price_at_14', 'stddev_by_dept_id_on_demand_at_14', 'mean_by_dept_id_on_sell_price_at_30', 'mean_by_dept_id_on_demand_at_30', 'min_by_dept_id_on_sell_price_at_30', 'min_by_dept_id_on_demand_at_30', 'max_by_dept_id_on_sell_price_at_30', 'max_by_dept_id_on_demand_at_30', 'stddev_by_dept_id_on_sell_price_at_30', 'stddev_by_dept_id_on_demand_at_30', 'mean_by_dept_id_on_sell_price_at_60', 'mean_by_dept_id_on_demand_at_60', 'min_by_dept_id_on_sell_price_at_60', 'min_by_dept_id_on_demand_at_60', 'max_by_dept_id_on_sell_price_at_60', 'max_by_dept_id_on_demand_at_60', 'stddev_by_dept_id_on_sell_price_at_60', 'stddev_by_dept_id_on_demand_at_60', 'mean_by_dept_id_on_sell_price_at_90', 'mean_by_dept_id_on_demand_at_90', 'min_by_dept_id_on_sell_price_at_90', 'min_by_dept_id_on_demand_at_90', 'max_by_dept_id_on_sell_price_at_90', 'max_by_dept_id_on_demand_at_90', 'stddev_by_dept_id_on_sell_price_at_90', 'stddev_by_dept_id_on_demand_at_90']\n",
      "save cache to /mnt/m5_all_train_data/ex1_shift=0_i=1.parquet with columns=121\n"
     ]
    },
    {
     "name": "stdout",
     "output_type": "stream",
     "text": [
      "['day', 'cat_id', 'dept_id', 'item_id', 'store_id', 'id', 'state_id', 'demand', 'date', 'wm_yr_wk', 'event_type_1', 'event_type_2', 'snap_CA', 'snap_TX', 'snap_WI', 'sell_price', 'previous_sell_price_by_item_id&store_id_at_1', 'previous_sell_price_by_item_id&store_id_at_2', 'previous_sell_price_by_item_id&store_id_at_3', 'previous_sell_price_by_item_id&store_id_at_4', 'previous_sell_price_by_item_id&store_id_at_5', 'previous_sell_price_by_item_id&store_id_at_6', 'previous_sell_price_by_item_id&store_id_at_7', 'previous_sell_price_by_item_id&store_id_at_8', 'previous_sell_price_by_item_id&store_id_at_9', 'previous_demand_by_item_id&store_id_at_1', 'previous_demand_by_item_id&store_id_at_2', 'previous_demand_by_item_id&store_id_at_3', 'previous_demand_by_item_id&store_id_at_4', 'previous_demand_by_item_id&store_id_at_5', 'previous_demand_by_item_id&store_id_at_6', 'previous_demand_by_item_id&store_id_at_7', 'previous_demand_by_item_id&store_id_at_8', 'previous_demand_by_item_id&store_id_at_9', 'day_of_month', 'day_of_week', 'dat_of_year', 'month', 'year', 'quarter', 'week', 'mean_by_item_idstore_id_on_sell_price_at_7', 'mean_by_item_idstore_id_on_demand_at_7', 'min_by_item_idstore_id_on_sell_price_at_7', 'min_by_item_idstore_id_on_demand_at_7', 'max_by_item_idstore_id_on_sell_price_at_7', 'max_by_item_idstore_id_on_demand_at_7', 'stddev_by_item_idstore_id_on_sell_price_at_7', 'stddev_by_item_idstore_id_on_demand_at_7', 'mean_by_item_idstore_id_on_sell_price_at_14', 'mean_by_item_idstore_id_on_demand_at_14', 'min_by_item_idstore_id_on_sell_price_at_14', 'min_by_item_idstore_id_on_demand_at_14', 'max_by_item_idstore_id_on_sell_price_at_14', 'max_by_item_idstore_id_on_demand_at_14', 'stddev_by_item_idstore_id_on_sell_price_at_14', 'stddev_by_item_idstore_id_on_demand_at_14', 'mean_by_item_idstore_id_on_sell_price_at_30', 'mean_by_item_idstore_id_on_demand_at_30', 'min_by_item_idstore_id_on_sell_price_at_30', 'min_by_item_idstore_id_on_demand_at_30', 'max_by_item_idstore_id_on_sell_price_at_30', 'max_by_item_idstore_id_on_demand_at_30', 'stddev_by_item_idstore_id_on_sell_price_at_30', 'stddev_by_item_idstore_id_on_demand_at_30', 'mean_by_item_idstore_id_on_sell_price_at_60', 'mean_by_item_idstore_id_on_demand_at_60', 'min_by_item_idstore_id_on_sell_price_at_60', 'min_by_item_idstore_id_on_demand_at_60', 'max_by_item_idstore_id_on_sell_price_at_60', 'max_by_item_idstore_id_on_demand_at_60', 'stddev_by_item_idstore_id_on_sell_price_at_60', 'stddev_by_item_idstore_id_on_demand_at_60', 'mean_by_item_idstore_id_on_sell_price_at_90', 'mean_by_item_idstore_id_on_demand_at_90', 'min_by_item_idstore_id_on_sell_price_at_90', 'min_by_item_idstore_id_on_demand_at_90', 'max_by_item_idstore_id_on_sell_price_at_90', 'max_by_item_idstore_id_on_demand_at_90', 'stddev_by_item_idstore_id_on_sell_price_at_90', 'stddev_by_item_idstore_id_on_demand_at_90', 'mean_by_dept_id_on_sell_price_at_7', 'mean_by_dept_id_on_demand_at_7', 'min_by_dept_id_on_sell_price_at_7', 'min_by_dept_id_on_demand_at_7', 'max_by_dept_id_on_sell_price_at_7', 'max_by_dept_id_on_demand_at_7', 'stddev_by_dept_id_on_sell_price_at_7', 'stddev_by_dept_id_on_demand_at_7', 'mean_by_dept_id_on_sell_price_at_14', 'mean_by_dept_id_on_demand_at_14', 'min_by_dept_id_on_sell_price_at_14', 'min_by_dept_id_on_demand_at_14', 'max_by_dept_id_on_sell_price_at_14', 'max_by_dept_id_on_demand_at_14', 'stddev_by_dept_id_on_sell_price_at_14', 'stddev_by_dept_id_on_demand_at_14', 'mean_by_dept_id_on_sell_price_at_30', 'mean_by_dept_id_on_demand_at_30', 'min_by_dept_id_on_sell_price_at_30', 'min_by_dept_id_on_demand_at_30', 'max_by_dept_id_on_sell_price_at_30', 'max_by_dept_id_on_demand_at_30', 'stddev_by_dept_id_on_sell_price_at_30', 'stddev_by_dept_id_on_demand_at_30', 'mean_by_dept_id_on_sell_price_at_60', 'mean_by_dept_id_on_demand_at_60', 'min_by_dept_id_on_sell_price_at_60', 'min_by_dept_id_on_demand_at_60', 'max_by_dept_id_on_sell_price_at_60', 'max_by_dept_id_on_demand_at_60', 'stddev_by_dept_id_on_sell_price_at_60', 'stddev_by_dept_id_on_demand_at_60', 'mean_by_dept_id_on_sell_price_at_90', 'mean_by_dept_id_on_demand_at_90', 'min_by_dept_id_on_sell_price_at_90', 'min_by_dept_id_on_demand_at_90', 'max_by_dept_id_on_sell_price_at_90', 'max_by_dept_id_on_demand_at_90', 'stddev_by_dept_id_on_sell_price_at_90', 'stddev_by_dept_id_on_demand_at_90', 'mean_by_cat_id_on_sell_price_at_7', 'mean_by_cat_id_on_demand_at_7', 'min_by_cat_id_on_sell_price_at_7', 'min_by_cat_id_on_demand_at_7', 'max_by_cat_id_on_sell_price_at_7', 'max_by_cat_id_on_demand_at_7', 'stddev_by_cat_id_on_sell_price_at_7', 'stddev_by_cat_id_on_demand_at_7', 'mean_by_cat_id_on_sell_price_at_14', 'mean_by_cat_id_on_demand_at_14', 'min_by_cat_id_on_sell_price_at_14', 'min_by_cat_id_on_demand_at_14', 'max_by_cat_id_on_sell_price_at_14', 'max_by_cat_id_on_demand_at_14', 'stddev_by_cat_id_on_sell_price_at_14', 'stddev_by_cat_id_on_demand_at_14', 'mean_by_cat_id_on_sell_price_at_30', 'mean_by_cat_id_on_demand_at_30', 'min_by_cat_id_on_sell_price_at_30', 'min_by_cat_id_on_demand_at_30', 'max_by_cat_id_on_sell_price_at_30', 'max_by_cat_id_on_demand_at_30', 'stddev_by_cat_id_on_sell_price_at_30', 'stddev_by_cat_id_on_demand_at_30', 'mean_by_cat_id_on_sell_price_at_60', 'mean_by_cat_id_on_demand_at_60', 'min_by_cat_id_on_sell_price_at_60', 'min_by_cat_id_on_demand_at_60', 'max_by_cat_id_on_sell_price_at_60', 'max_by_cat_id_on_demand_at_60', 'stddev_by_cat_id_on_sell_price_at_60', 'stddev_by_cat_id_on_demand_at_60', 'mean_by_cat_id_on_sell_price_at_90', 'mean_by_cat_id_on_demand_at_90', 'min_by_cat_id_on_sell_price_at_90', 'min_by_cat_id_on_demand_at_90', 'max_by_cat_id_on_sell_price_at_90', 'max_by_cat_id_on_demand_at_90', 'stddev_by_cat_id_on_sell_price_at_90', 'stddev_by_cat_id_on_demand_at_90']\n",
      "save cache to /mnt/m5_all_train_data/ex1_shift=0_i=2.parquet with columns=161\n",
      "['day', 'store_id', 'cat_id', 'dept_id', 'item_id', 'id', 'state_id', 'demand', 'date', 'wm_yr_wk', 'event_type_1', 'event_type_2', 'snap_CA', 'snap_TX', 'snap_WI', 'sell_price', 'previous_sell_price_by_item_id&store_id_at_1', 'previous_sell_price_by_item_id&store_id_at_2', 'previous_sell_price_by_item_id&store_id_at_3', 'previous_sell_price_by_item_id&store_id_at_4', 'previous_sell_price_by_item_id&store_id_at_5', 'previous_sell_price_by_item_id&store_id_at_6', 'previous_sell_price_by_item_id&store_id_at_7', 'previous_sell_price_by_item_id&store_id_at_8', 'previous_sell_price_by_item_id&store_id_at_9', 'previous_demand_by_item_id&store_id_at_1', 'previous_demand_by_item_id&store_id_at_2', 'previous_demand_by_item_id&store_id_at_3', 'previous_demand_by_item_id&store_id_at_4', 'previous_demand_by_item_id&store_id_at_5', 'previous_demand_by_item_id&store_id_at_6', 'previous_demand_by_item_id&store_id_at_7', 'previous_demand_by_item_id&store_id_at_8', 'previous_demand_by_item_id&store_id_at_9', 'day_of_month', 'day_of_week', 'dat_of_year', 'month', 'year', 'quarter', 'week', 'mean_by_item_idstore_id_on_sell_price_at_7', 'mean_by_item_idstore_id_on_demand_at_7', 'min_by_item_idstore_id_on_sell_price_at_7', 'min_by_item_idstore_id_on_demand_at_7', 'max_by_item_idstore_id_on_sell_price_at_7', 'max_by_item_idstore_id_on_demand_at_7', 'stddev_by_item_idstore_id_on_sell_price_at_7', 'stddev_by_item_idstore_id_on_demand_at_7', 'mean_by_item_idstore_id_on_sell_price_at_14', 'mean_by_item_idstore_id_on_demand_at_14', 'min_by_item_idstore_id_on_sell_price_at_14', 'min_by_item_idstore_id_on_demand_at_14', 'max_by_item_idstore_id_on_sell_price_at_14', 'max_by_item_idstore_id_on_demand_at_14', 'stddev_by_item_idstore_id_on_sell_price_at_14', 'stddev_by_item_idstore_id_on_demand_at_14', 'mean_by_item_idstore_id_on_sell_price_at_30', 'mean_by_item_idstore_id_on_demand_at_30', 'min_by_item_idstore_id_on_sell_price_at_30', 'min_by_item_idstore_id_on_demand_at_30', 'max_by_item_idstore_id_on_sell_price_at_30', 'max_by_item_idstore_id_on_demand_at_30', 'stddev_by_item_idstore_id_on_sell_price_at_30', 'stddev_by_item_idstore_id_on_demand_at_30', 'mean_by_item_idstore_id_on_sell_price_at_60', 'mean_by_item_idstore_id_on_demand_at_60', 'min_by_item_idstore_id_on_sell_price_at_60', 'min_by_item_idstore_id_on_demand_at_60', 'max_by_item_idstore_id_on_sell_price_at_60', 'max_by_item_idstore_id_on_demand_at_60', 'stddev_by_item_idstore_id_on_sell_price_at_60', 'stddev_by_item_idstore_id_on_demand_at_60', 'mean_by_item_idstore_id_on_sell_price_at_90', 'mean_by_item_idstore_id_on_demand_at_90', 'min_by_item_idstore_id_on_sell_price_at_90', 'min_by_item_idstore_id_on_demand_at_90', 'max_by_item_idstore_id_on_sell_price_at_90', 'max_by_item_idstore_id_on_demand_at_90', 'stddev_by_item_idstore_id_on_sell_price_at_90', 'stddev_by_item_idstore_id_on_demand_at_90', 'mean_by_dept_id_on_sell_price_at_7', 'mean_by_dept_id_on_demand_at_7', 'min_by_dept_id_on_sell_price_at_7', 'min_by_dept_id_on_demand_at_7', 'max_by_dept_id_on_sell_price_at_7', 'max_by_dept_id_on_demand_at_7', 'stddev_by_dept_id_on_sell_price_at_7', 'stddev_by_dept_id_on_demand_at_7', 'mean_by_dept_id_on_sell_price_at_14', 'mean_by_dept_id_on_demand_at_14', 'min_by_dept_id_on_sell_price_at_14', 'min_by_dept_id_on_demand_at_14', 'max_by_dept_id_on_sell_price_at_14', 'max_by_dept_id_on_demand_at_14', 'stddev_by_dept_id_on_sell_price_at_14', 'stddev_by_dept_id_on_demand_at_14', 'mean_by_dept_id_on_sell_price_at_30', 'mean_by_dept_id_on_demand_at_30', 'min_by_dept_id_on_sell_price_at_30', 'min_by_dept_id_on_demand_at_30', 'max_by_dept_id_on_sell_price_at_30', 'max_by_dept_id_on_demand_at_30', 'stddev_by_dept_id_on_sell_price_at_30', 'stddev_by_dept_id_on_demand_at_30', 'mean_by_dept_id_on_sell_price_at_60', 'mean_by_dept_id_on_demand_at_60', 'min_by_dept_id_on_sell_price_at_60', 'min_by_dept_id_on_demand_at_60', 'max_by_dept_id_on_sell_price_at_60', 'max_by_dept_id_on_demand_at_60', 'stddev_by_dept_id_on_sell_price_at_60', 'stddev_by_dept_id_on_demand_at_60', 'mean_by_dept_id_on_sell_price_at_90', 'mean_by_dept_id_on_demand_at_90', 'min_by_dept_id_on_sell_price_at_90', 'min_by_dept_id_on_demand_at_90', 'max_by_dept_id_on_sell_price_at_90', 'max_by_dept_id_on_demand_at_90', 'stddev_by_dept_id_on_sell_price_at_90', 'stddev_by_dept_id_on_demand_at_90', 'mean_by_cat_id_on_sell_price_at_7', 'mean_by_cat_id_on_demand_at_7', 'min_by_cat_id_on_sell_price_at_7', 'min_by_cat_id_on_demand_at_7', 'max_by_cat_id_on_sell_price_at_7', 'max_by_cat_id_on_demand_at_7', 'stddev_by_cat_id_on_sell_price_at_7', 'stddev_by_cat_id_on_demand_at_7', 'mean_by_cat_id_on_sell_price_at_14', 'mean_by_cat_id_on_demand_at_14', 'min_by_cat_id_on_sell_price_at_14', 'min_by_cat_id_on_demand_at_14', 'max_by_cat_id_on_sell_price_at_14', 'max_by_cat_id_on_demand_at_14', 'stddev_by_cat_id_on_sell_price_at_14', 'stddev_by_cat_id_on_demand_at_14', 'mean_by_cat_id_on_sell_price_at_30', 'mean_by_cat_id_on_demand_at_30', 'min_by_cat_id_on_sell_price_at_30', 'min_by_cat_id_on_demand_at_30', 'max_by_cat_id_on_sell_price_at_30', 'max_by_cat_id_on_demand_at_30', 'stddev_by_cat_id_on_sell_price_at_30', 'stddev_by_cat_id_on_demand_at_30', 'mean_by_cat_id_on_sell_price_at_60', 'mean_by_cat_id_on_demand_at_60', 'min_by_cat_id_on_sell_price_at_60', 'min_by_cat_id_on_demand_at_60', 'max_by_cat_id_on_sell_price_at_60', 'max_by_cat_id_on_demand_at_60', 'stddev_by_cat_id_on_sell_price_at_60', 'stddev_by_cat_id_on_demand_at_60', 'mean_by_cat_id_on_sell_price_at_90', 'mean_by_cat_id_on_demand_at_90', 'min_by_cat_id_on_sell_price_at_90', 'min_by_cat_id_on_demand_at_90', 'max_by_cat_id_on_sell_price_at_90', 'max_by_cat_id_on_demand_at_90', 'stddev_by_cat_id_on_sell_price_at_90', 'stddev_by_cat_id_on_demand_at_90', 'mean_by_store_id_on_sell_price_at_7', 'mean_by_store_id_on_demand_at_7', 'min_by_store_id_on_sell_price_at_7', 'min_by_store_id_on_demand_at_7', 'max_by_store_id_on_sell_price_at_7', 'max_by_store_id_on_demand_at_7', 'stddev_by_store_id_on_sell_price_at_7', 'stddev_by_store_id_on_demand_at_7', 'mean_by_store_id_on_sell_price_at_14', 'mean_by_store_id_on_demand_at_14', 'min_by_store_id_on_sell_price_at_14', 'min_by_store_id_on_demand_at_14', 'max_by_store_id_on_sell_price_at_14', 'max_by_store_id_on_demand_at_14', 'stddev_by_store_id_on_sell_price_at_14', 'stddev_by_store_id_on_demand_at_14', 'mean_by_store_id_on_sell_price_at_30', 'mean_by_store_id_on_demand_at_30', 'min_by_store_id_on_sell_price_at_30', 'min_by_store_id_on_demand_at_30', 'max_by_store_id_on_sell_price_at_30', 'max_by_store_id_on_demand_at_30', 'stddev_by_store_id_on_sell_price_at_30', 'stddev_by_store_id_on_demand_at_30', 'mean_by_store_id_on_sell_price_at_60', 'mean_by_store_id_on_demand_at_60', 'min_by_store_id_on_sell_price_at_60', 'min_by_store_id_on_demand_at_60', 'max_by_store_id_on_sell_price_at_60', 'max_by_store_id_on_demand_at_60', 'stddev_by_store_id_on_sell_price_at_60', 'stddev_by_store_id_on_demand_at_60', 'mean_by_store_id_on_sell_price_at_90', 'mean_by_store_id_on_demand_at_90', 'min_by_store_id_on_sell_price_at_90', 'min_by_store_id_on_demand_at_90', 'max_by_store_id_on_sell_price_at_90', 'max_by_store_id_on_demand_at_90', 'stddev_by_store_id_on_sell_price_at_90', 'stddev_by_store_id_on_demand_at_90']\n",
      "save cache to /mnt/m5_all_train_data/ex1_shift=0_i=3.parquet with columns=201\n"
     ]
    },
    {
     "name": "stdout",
     "output_type": "stream",
     "text": [
      "['day', 'state_id', 'store_id', 'cat_id', 'dept_id', 'item_id', 'id', 'demand', 'date', 'wm_yr_wk', 'event_type_1', 'event_type_2', 'snap_CA', 'snap_TX', 'snap_WI', 'sell_price', 'previous_sell_price_by_item_id&store_id_at_1', 'previous_sell_price_by_item_id&store_id_at_2', 'previous_sell_price_by_item_id&store_id_at_3', 'previous_sell_price_by_item_id&store_id_at_4', 'previous_sell_price_by_item_id&store_id_at_5', 'previous_sell_price_by_item_id&store_id_at_6', 'previous_sell_price_by_item_id&store_id_at_7', 'previous_sell_price_by_item_id&store_id_at_8', 'previous_sell_price_by_item_id&store_id_at_9', 'previous_demand_by_item_id&store_id_at_1', 'previous_demand_by_item_id&store_id_at_2', 'previous_demand_by_item_id&store_id_at_3', 'previous_demand_by_item_id&store_id_at_4', 'previous_demand_by_item_id&store_id_at_5', 'previous_demand_by_item_id&store_id_at_6', 'previous_demand_by_item_id&store_id_at_7', 'previous_demand_by_item_id&store_id_at_8', 'previous_demand_by_item_id&store_id_at_9', 'day_of_month', 'day_of_week', 'dat_of_year', 'month', 'year', 'quarter', 'week', 'mean_by_item_idstore_id_on_sell_price_at_7', 'mean_by_item_idstore_id_on_demand_at_7', 'min_by_item_idstore_id_on_sell_price_at_7', 'min_by_item_idstore_id_on_demand_at_7', 'max_by_item_idstore_id_on_sell_price_at_7', 'max_by_item_idstore_id_on_demand_at_7', 'stddev_by_item_idstore_id_on_sell_price_at_7', 'stddev_by_item_idstore_id_on_demand_at_7', 'mean_by_item_idstore_id_on_sell_price_at_14', 'mean_by_item_idstore_id_on_demand_at_14', 'min_by_item_idstore_id_on_sell_price_at_14', 'min_by_item_idstore_id_on_demand_at_14', 'max_by_item_idstore_id_on_sell_price_at_14', 'max_by_item_idstore_id_on_demand_at_14', 'stddev_by_item_idstore_id_on_sell_price_at_14', 'stddev_by_item_idstore_id_on_demand_at_14', 'mean_by_item_idstore_id_on_sell_price_at_30', 'mean_by_item_idstore_id_on_demand_at_30', 'min_by_item_idstore_id_on_sell_price_at_30', 'min_by_item_idstore_id_on_demand_at_30', 'max_by_item_idstore_id_on_sell_price_at_30', 'max_by_item_idstore_id_on_demand_at_30', 'stddev_by_item_idstore_id_on_sell_price_at_30', 'stddev_by_item_idstore_id_on_demand_at_30', 'mean_by_item_idstore_id_on_sell_price_at_60', 'mean_by_item_idstore_id_on_demand_at_60', 'min_by_item_idstore_id_on_sell_price_at_60', 'min_by_item_idstore_id_on_demand_at_60', 'max_by_item_idstore_id_on_sell_price_at_60', 'max_by_item_idstore_id_on_demand_at_60', 'stddev_by_item_idstore_id_on_sell_price_at_60', 'stddev_by_item_idstore_id_on_demand_at_60', 'mean_by_item_idstore_id_on_sell_price_at_90', 'mean_by_item_idstore_id_on_demand_at_90', 'min_by_item_idstore_id_on_sell_price_at_90', 'min_by_item_idstore_id_on_demand_at_90', 'max_by_item_idstore_id_on_sell_price_at_90', 'max_by_item_idstore_id_on_demand_at_90', 'stddev_by_item_idstore_id_on_sell_price_at_90', 'stddev_by_item_idstore_id_on_demand_at_90', 'mean_by_dept_id_on_sell_price_at_7', 'mean_by_dept_id_on_demand_at_7', 'min_by_dept_id_on_sell_price_at_7', 'min_by_dept_id_on_demand_at_7', 'max_by_dept_id_on_sell_price_at_7', 'max_by_dept_id_on_demand_at_7', 'stddev_by_dept_id_on_sell_price_at_7', 'stddev_by_dept_id_on_demand_at_7', 'mean_by_dept_id_on_sell_price_at_14', 'mean_by_dept_id_on_demand_at_14', 'min_by_dept_id_on_sell_price_at_14', 'min_by_dept_id_on_demand_at_14', 'max_by_dept_id_on_sell_price_at_14', 'max_by_dept_id_on_demand_at_14', 'stddev_by_dept_id_on_sell_price_at_14', 'stddev_by_dept_id_on_demand_at_14', 'mean_by_dept_id_on_sell_price_at_30', 'mean_by_dept_id_on_demand_at_30', 'min_by_dept_id_on_sell_price_at_30', 'min_by_dept_id_on_demand_at_30', 'max_by_dept_id_on_sell_price_at_30', 'max_by_dept_id_on_demand_at_30', 'stddev_by_dept_id_on_sell_price_at_30', 'stddev_by_dept_id_on_demand_at_30', 'mean_by_dept_id_on_sell_price_at_60', 'mean_by_dept_id_on_demand_at_60', 'min_by_dept_id_on_sell_price_at_60', 'min_by_dept_id_on_demand_at_60', 'max_by_dept_id_on_sell_price_at_60', 'max_by_dept_id_on_demand_at_60', 'stddev_by_dept_id_on_sell_price_at_60', 'stddev_by_dept_id_on_demand_at_60', 'mean_by_dept_id_on_sell_price_at_90', 'mean_by_dept_id_on_demand_at_90', 'min_by_dept_id_on_sell_price_at_90', 'min_by_dept_id_on_demand_at_90', 'max_by_dept_id_on_sell_price_at_90', 'max_by_dept_id_on_demand_at_90', 'stddev_by_dept_id_on_sell_price_at_90', 'stddev_by_dept_id_on_demand_at_90', 'mean_by_cat_id_on_sell_price_at_7', 'mean_by_cat_id_on_demand_at_7', 'min_by_cat_id_on_sell_price_at_7', 'min_by_cat_id_on_demand_at_7', 'max_by_cat_id_on_sell_price_at_7', 'max_by_cat_id_on_demand_at_7', 'stddev_by_cat_id_on_sell_price_at_7', 'stddev_by_cat_id_on_demand_at_7', 'mean_by_cat_id_on_sell_price_at_14', 'mean_by_cat_id_on_demand_at_14', 'min_by_cat_id_on_sell_price_at_14', 'min_by_cat_id_on_demand_at_14', 'max_by_cat_id_on_sell_price_at_14', 'max_by_cat_id_on_demand_at_14', 'stddev_by_cat_id_on_sell_price_at_14', 'stddev_by_cat_id_on_demand_at_14', 'mean_by_cat_id_on_sell_price_at_30', 'mean_by_cat_id_on_demand_at_30', 'min_by_cat_id_on_sell_price_at_30', 'min_by_cat_id_on_demand_at_30', 'max_by_cat_id_on_sell_price_at_30', 'max_by_cat_id_on_demand_at_30', 'stddev_by_cat_id_on_sell_price_at_30', 'stddev_by_cat_id_on_demand_at_30', 'mean_by_cat_id_on_sell_price_at_60', 'mean_by_cat_id_on_demand_at_60', 'min_by_cat_id_on_sell_price_at_60', 'min_by_cat_id_on_demand_at_60', 'max_by_cat_id_on_sell_price_at_60', 'max_by_cat_id_on_demand_at_60', 'stddev_by_cat_id_on_sell_price_at_60', 'stddev_by_cat_id_on_demand_at_60', 'mean_by_cat_id_on_sell_price_at_90', 'mean_by_cat_id_on_demand_at_90', 'min_by_cat_id_on_sell_price_at_90', 'min_by_cat_id_on_demand_at_90', 'max_by_cat_id_on_sell_price_at_90', 'max_by_cat_id_on_demand_at_90', 'stddev_by_cat_id_on_sell_price_at_90', 'stddev_by_cat_id_on_demand_at_90', 'mean_by_store_id_on_sell_price_at_7', 'mean_by_store_id_on_demand_at_7', 'min_by_store_id_on_sell_price_at_7', 'min_by_store_id_on_demand_at_7', 'max_by_store_id_on_sell_price_at_7', 'max_by_store_id_on_demand_at_7', 'stddev_by_store_id_on_sell_price_at_7', 'stddev_by_store_id_on_demand_at_7', 'mean_by_store_id_on_sell_price_at_14', 'mean_by_store_id_on_demand_at_14', 'min_by_store_id_on_sell_price_at_14', 'min_by_store_id_on_demand_at_14', 'max_by_store_id_on_sell_price_at_14', 'max_by_store_id_on_demand_at_14', 'stddev_by_store_id_on_sell_price_at_14', 'stddev_by_store_id_on_demand_at_14', 'mean_by_store_id_on_sell_price_at_30', 'mean_by_store_id_on_demand_at_30', 'min_by_store_id_on_sell_price_at_30', 'min_by_store_id_on_demand_at_30', 'max_by_store_id_on_sell_price_at_30', 'max_by_store_id_on_demand_at_30', 'stddev_by_store_id_on_sell_price_at_30', 'stddev_by_store_id_on_demand_at_30', 'mean_by_store_id_on_sell_price_at_60', 'mean_by_store_id_on_demand_at_60', 'min_by_store_id_on_sell_price_at_60', 'min_by_store_id_on_demand_at_60', 'max_by_store_id_on_sell_price_at_60', 'max_by_store_id_on_demand_at_60', 'stddev_by_store_id_on_sell_price_at_60', 'stddev_by_store_id_on_demand_at_60', 'mean_by_store_id_on_sell_price_at_90', 'mean_by_store_id_on_demand_at_90', 'min_by_store_id_on_sell_price_at_90', 'min_by_store_id_on_demand_at_90', 'max_by_store_id_on_sell_price_at_90', 'max_by_store_id_on_demand_at_90', 'stddev_by_store_id_on_sell_price_at_90', 'stddev_by_store_id_on_demand_at_90', 'mean_by_state_id_on_sell_price_at_7', 'mean_by_state_id_on_demand_at_7', 'min_by_state_id_on_sell_price_at_7', 'min_by_state_id_on_demand_at_7', 'max_by_state_id_on_sell_price_at_7', 'max_by_state_id_on_demand_at_7', 'stddev_by_state_id_on_sell_price_at_7', 'stddev_by_state_id_on_demand_at_7', 'mean_by_state_id_on_sell_price_at_14', 'mean_by_state_id_on_demand_at_14', 'min_by_state_id_on_sell_price_at_14', 'min_by_state_id_on_demand_at_14', 'max_by_state_id_on_sell_price_at_14', 'max_by_state_id_on_demand_at_14', 'stddev_by_state_id_on_sell_price_at_14', 'stddev_by_state_id_on_demand_at_14', 'mean_by_state_id_on_sell_price_at_30', 'mean_by_state_id_on_demand_at_30', 'min_by_state_id_on_sell_price_at_30', 'min_by_state_id_on_demand_at_30', 'max_by_state_id_on_sell_price_at_30', 'max_by_state_id_on_demand_at_30', 'stddev_by_state_id_on_sell_price_at_30', 'stddev_by_state_id_on_demand_at_30', 'mean_by_state_id_on_sell_price_at_60', 'mean_by_state_id_on_demand_at_60', 'min_by_state_id_on_sell_price_at_60', 'min_by_state_id_on_demand_at_60', 'max_by_state_id_on_sell_price_at_60', 'max_by_state_id_on_demand_at_60', 'stddev_by_state_id_on_sell_price_at_60', 'stddev_by_state_id_on_demand_at_60', 'mean_by_state_id_on_sell_price_at_90', 'mean_by_state_id_on_demand_at_90', 'min_by_state_id_on_sell_price_at_90', 'min_by_state_id_on_demand_at_90', 'max_by_state_id_on_sell_price_at_90', 'max_by_state_id_on_demand_at_90', 'stddev_by_state_id_on_sell_price_at_90', 'stddev_by_state_id_on_demand_at_90']\n",
      "save cache to /mnt/m5_all_train_data/ex1_shift=0_i=4.parquet with columns=241\n"
     ]
    },
    {
     "name": "stdout",
     "output_type": "stream",
     "text": [
      "['day', 'dept_id', 'store_id', 'state_id', 'cat_id', 'item_id', 'id', 'demand', 'date', 'wm_yr_wk', 'event_type_1', 'event_type_2', 'snap_CA', 'snap_TX', 'snap_WI', 'sell_price', 'previous_sell_price_by_item_id&store_id_at_1', 'previous_sell_price_by_item_id&store_id_at_2', 'previous_sell_price_by_item_id&store_id_at_3', 'previous_sell_price_by_item_id&store_id_at_4', 'previous_sell_price_by_item_id&store_id_at_5', 'previous_sell_price_by_item_id&store_id_at_6', 'previous_sell_price_by_item_id&store_id_at_7', 'previous_sell_price_by_item_id&store_id_at_8', 'previous_sell_price_by_item_id&store_id_at_9', 'previous_demand_by_item_id&store_id_at_1', 'previous_demand_by_item_id&store_id_at_2', 'previous_demand_by_item_id&store_id_at_3', 'previous_demand_by_item_id&store_id_at_4', 'previous_demand_by_item_id&store_id_at_5', 'previous_demand_by_item_id&store_id_at_6', 'previous_demand_by_item_id&store_id_at_7', 'previous_demand_by_item_id&store_id_at_8', 'previous_demand_by_item_id&store_id_at_9', 'day_of_month', 'day_of_week', 'dat_of_year', 'month', 'year', 'quarter', 'week', 'mean_by_item_idstore_id_on_sell_price_at_7', 'mean_by_item_idstore_id_on_demand_at_7', 'min_by_item_idstore_id_on_sell_price_at_7', 'min_by_item_idstore_id_on_demand_at_7', 'max_by_item_idstore_id_on_sell_price_at_7', 'max_by_item_idstore_id_on_demand_at_7', 'stddev_by_item_idstore_id_on_sell_price_at_7', 'stddev_by_item_idstore_id_on_demand_at_7', 'mean_by_item_idstore_id_on_sell_price_at_14', 'mean_by_item_idstore_id_on_demand_at_14', 'min_by_item_idstore_id_on_sell_price_at_14', 'min_by_item_idstore_id_on_demand_at_14', 'max_by_item_idstore_id_on_sell_price_at_14', 'max_by_item_idstore_id_on_demand_at_14', 'stddev_by_item_idstore_id_on_sell_price_at_14', 'stddev_by_item_idstore_id_on_demand_at_14', 'mean_by_item_idstore_id_on_sell_price_at_30', 'mean_by_item_idstore_id_on_demand_at_30', 'min_by_item_idstore_id_on_sell_price_at_30', 'min_by_item_idstore_id_on_demand_at_30', 'max_by_item_idstore_id_on_sell_price_at_30', 'max_by_item_idstore_id_on_demand_at_30', 'stddev_by_item_idstore_id_on_sell_price_at_30', 'stddev_by_item_idstore_id_on_demand_at_30', 'mean_by_item_idstore_id_on_sell_price_at_60', 'mean_by_item_idstore_id_on_demand_at_60', 'min_by_item_idstore_id_on_sell_price_at_60', 'min_by_item_idstore_id_on_demand_at_60', 'max_by_item_idstore_id_on_sell_price_at_60', 'max_by_item_idstore_id_on_demand_at_60', 'stddev_by_item_idstore_id_on_sell_price_at_60', 'stddev_by_item_idstore_id_on_demand_at_60', 'mean_by_item_idstore_id_on_sell_price_at_90', 'mean_by_item_idstore_id_on_demand_at_90', 'min_by_item_idstore_id_on_sell_price_at_90', 'min_by_item_idstore_id_on_demand_at_90', 'max_by_item_idstore_id_on_sell_price_at_90', 'max_by_item_idstore_id_on_demand_at_90', 'stddev_by_item_idstore_id_on_sell_price_at_90', 'stddev_by_item_idstore_id_on_demand_at_90', 'mean_by_dept_id_on_sell_price_at_7', 'mean_by_dept_id_on_demand_at_7', 'min_by_dept_id_on_sell_price_at_7', 'min_by_dept_id_on_demand_at_7', 'max_by_dept_id_on_sell_price_at_7', 'max_by_dept_id_on_demand_at_7', 'stddev_by_dept_id_on_sell_price_at_7', 'stddev_by_dept_id_on_demand_at_7', 'mean_by_dept_id_on_sell_price_at_14', 'mean_by_dept_id_on_demand_at_14', 'min_by_dept_id_on_sell_price_at_14', 'min_by_dept_id_on_demand_at_14', 'max_by_dept_id_on_sell_price_at_14', 'max_by_dept_id_on_demand_at_14', 'stddev_by_dept_id_on_sell_price_at_14', 'stddev_by_dept_id_on_demand_at_14', 'mean_by_dept_id_on_sell_price_at_30', 'mean_by_dept_id_on_demand_at_30', 'min_by_dept_id_on_sell_price_at_30', 'min_by_dept_id_on_demand_at_30', 'max_by_dept_id_on_sell_price_at_30', 'max_by_dept_id_on_demand_at_30', 'stddev_by_dept_id_on_sell_price_at_30', 'stddev_by_dept_id_on_demand_at_30', 'mean_by_dept_id_on_sell_price_at_60', 'mean_by_dept_id_on_demand_at_60', 'min_by_dept_id_on_sell_price_at_60', 'min_by_dept_id_on_demand_at_60', 'max_by_dept_id_on_sell_price_at_60', 'max_by_dept_id_on_demand_at_60', 'stddev_by_dept_id_on_sell_price_at_60', 'stddev_by_dept_id_on_demand_at_60', 'mean_by_dept_id_on_sell_price_at_90', 'mean_by_dept_id_on_demand_at_90', 'min_by_dept_id_on_sell_price_at_90', 'min_by_dept_id_on_demand_at_90', 'max_by_dept_id_on_sell_price_at_90', 'max_by_dept_id_on_demand_at_90', 'stddev_by_dept_id_on_sell_price_at_90', 'stddev_by_dept_id_on_demand_at_90', 'mean_by_cat_id_on_sell_price_at_7', 'mean_by_cat_id_on_demand_at_7', 'min_by_cat_id_on_sell_price_at_7', 'min_by_cat_id_on_demand_at_7', 'max_by_cat_id_on_sell_price_at_7', 'max_by_cat_id_on_demand_at_7', 'stddev_by_cat_id_on_sell_price_at_7', 'stddev_by_cat_id_on_demand_at_7', 'mean_by_cat_id_on_sell_price_at_14', 'mean_by_cat_id_on_demand_at_14', 'min_by_cat_id_on_sell_price_at_14', 'min_by_cat_id_on_demand_at_14', 'max_by_cat_id_on_sell_price_at_14', 'max_by_cat_id_on_demand_at_14', 'stddev_by_cat_id_on_sell_price_at_14', 'stddev_by_cat_id_on_demand_at_14', 'mean_by_cat_id_on_sell_price_at_30', 'mean_by_cat_id_on_demand_at_30', 'min_by_cat_id_on_sell_price_at_30', 'min_by_cat_id_on_demand_at_30', 'max_by_cat_id_on_sell_price_at_30', 'max_by_cat_id_on_demand_at_30', 'stddev_by_cat_id_on_sell_price_at_30', 'stddev_by_cat_id_on_demand_at_30', 'mean_by_cat_id_on_sell_price_at_60', 'mean_by_cat_id_on_demand_at_60', 'min_by_cat_id_on_sell_price_at_60', 'min_by_cat_id_on_demand_at_60', 'max_by_cat_id_on_sell_price_at_60', 'max_by_cat_id_on_demand_at_60', 'stddev_by_cat_id_on_sell_price_at_60', 'stddev_by_cat_id_on_demand_at_60', 'mean_by_cat_id_on_sell_price_at_90', 'mean_by_cat_id_on_demand_at_90', 'min_by_cat_id_on_sell_price_at_90', 'min_by_cat_id_on_demand_at_90', 'max_by_cat_id_on_sell_price_at_90', 'max_by_cat_id_on_demand_at_90', 'stddev_by_cat_id_on_sell_price_at_90', 'stddev_by_cat_id_on_demand_at_90', 'mean_by_store_id_on_sell_price_at_7', 'mean_by_store_id_on_demand_at_7', 'min_by_store_id_on_sell_price_at_7', 'min_by_store_id_on_demand_at_7', 'max_by_store_id_on_sell_price_at_7', 'max_by_store_id_on_demand_at_7', 'stddev_by_store_id_on_sell_price_at_7', 'stddev_by_store_id_on_demand_at_7', 'mean_by_store_id_on_sell_price_at_14', 'mean_by_store_id_on_demand_at_14', 'min_by_store_id_on_sell_price_at_14', 'min_by_store_id_on_demand_at_14', 'max_by_store_id_on_sell_price_at_14', 'max_by_store_id_on_demand_at_14', 'stddev_by_store_id_on_sell_price_at_14', 'stddev_by_store_id_on_demand_at_14', 'mean_by_store_id_on_sell_price_at_30', 'mean_by_store_id_on_demand_at_30', 'min_by_store_id_on_sell_price_at_30', 'min_by_store_id_on_demand_at_30', 'max_by_store_id_on_sell_price_at_30', 'max_by_store_id_on_demand_at_30', 'stddev_by_store_id_on_sell_price_at_30', 'stddev_by_store_id_on_demand_at_30', 'mean_by_store_id_on_sell_price_at_60', 'mean_by_store_id_on_demand_at_60', 'min_by_store_id_on_sell_price_at_60', 'min_by_store_id_on_demand_at_60', 'max_by_store_id_on_sell_price_at_60', 'max_by_store_id_on_demand_at_60', 'stddev_by_store_id_on_sell_price_at_60', 'stddev_by_store_id_on_demand_at_60', 'mean_by_store_id_on_sell_price_at_90', 'mean_by_store_id_on_demand_at_90', 'min_by_store_id_on_sell_price_at_90', 'min_by_store_id_on_demand_at_90', 'max_by_store_id_on_sell_price_at_90', 'max_by_store_id_on_demand_at_90', 'stddev_by_store_id_on_sell_price_at_90', 'stddev_by_store_id_on_demand_at_90', 'mean_by_state_id_on_sell_price_at_7', 'mean_by_state_id_on_demand_at_7', 'min_by_state_id_on_sell_price_at_7', 'min_by_state_id_on_demand_at_7', 'max_by_state_id_on_sell_price_at_7', 'max_by_state_id_on_demand_at_7', 'stddev_by_state_id_on_sell_price_at_7', 'stddev_by_state_id_on_demand_at_7', 'mean_by_state_id_on_sell_price_at_14', 'mean_by_state_id_on_demand_at_14', 'min_by_state_id_on_sell_price_at_14', 'min_by_state_id_on_demand_at_14', 'max_by_state_id_on_sell_price_at_14', 'max_by_state_id_on_demand_at_14', 'stddev_by_state_id_on_sell_price_at_14', 'stddev_by_state_id_on_demand_at_14', 'mean_by_state_id_on_sell_price_at_30', 'mean_by_state_id_on_demand_at_30', 'min_by_state_id_on_sell_price_at_30', 'min_by_state_id_on_demand_at_30', 'max_by_state_id_on_sell_price_at_30', 'max_by_state_id_on_demand_at_30', 'stddev_by_state_id_on_sell_price_at_30', 'stddev_by_state_id_on_demand_at_30', 'mean_by_state_id_on_sell_price_at_60', 'mean_by_state_id_on_demand_at_60', 'min_by_state_id_on_sell_price_at_60', 'min_by_state_id_on_demand_at_60', 'max_by_state_id_on_sell_price_at_60', 'max_by_state_id_on_demand_at_60', 'stddev_by_state_id_on_sell_price_at_60', 'stddev_by_state_id_on_demand_at_60', 'mean_by_state_id_on_sell_price_at_90', 'mean_by_state_id_on_demand_at_90', 'min_by_state_id_on_sell_price_at_90', 'min_by_state_id_on_demand_at_90', 'max_by_state_id_on_sell_price_at_90', 'max_by_state_id_on_demand_at_90', 'stddev_by_state_id_on_sell_price_at_90', 'stddev_by_state_id_on_demand_at_90', 'mean_by_dept_idstore_id_on_sell_price_at_7', 'mean_by_dept_idstore_id_on_demand_at_7', 'min_by_dept_idstore_id_on_sell_price_at_7', 'min_by_dept_idstore_id_on_demand_at_7', 'max_by_dept_idstore_id_on_sell_price_at_7', 'max_by_dept_idstore_id_on_demand_at_7', 'stddev_by_dept_idstore_id_on_sell_price_at_7', 'stddev_by_dept_idstore_id_on_demand_at_7', 'mean_by_dept_idstore_id_on_sell_price_at_14', 'mean_by_dept_idstore_id_on_demand_at_14', 'min_by_dept_idstore_id_on_sell_price_at_14', 'min_by_dept_idstore_id_on_demand_at_14', 'max_by_dept_idstore_id_on_sell_price_at_14', 'max_by_dept_idstore_id_on_demand_at_14', 'stddev_by_dept_idstore_id_on_sell_price_at_14', 'stddev_by_dept_idstore_id_on_demand_at_14', 'mean_by_dept_idstore_id_on_sell_price_at_30', 'mean_by_dept_idstore_id_on_demand_at_30', 'min_by_dept_idstore_id_on_sell_price_at_30', 'min_by_dept_idstore_id_on_demand_at_30', 'max_by_dept_idstore_id_on_sell_price_at_30', 'max_by_dept_idstore_id_on_demand_at_30', 'stddev_by_dept_idstore_id_on_sell_price_at_30', 'stddev_by_dept_idstore_id_on_demand_at_30', 'mean_by_dept_idstore_id_on_sell_price_at_60', 'mean_by_dept_idstore_id_on_demand_at_60', 'min_by_dept_idstore_id_on_sell_price_at_60', 'min_by_dept_idstore_id_on_demand_at_60', 'max_by_dept_idstore_id_on_sell_price_at_60', 'max_by_dept_idstore_id_on_demand_at_60', 'stddev_by_dept_idstore_id_on_sell_price_at_60', 'stddev_by_dept_idstore_id_on_demand_at_60', 'mean_by_dept_idstore_id_on_sell_price_at_90', 'mean_by_dept_idstore_id_on_demand_at_90', 'min_by_dept_idstore_id_on_sell_price_at_90', 'min_by_dept_idstore_id_on_demand_at_90', 'max_by_dept_idstore_id_on_sell_price_at_90', 'max_by_dept_idstore_id_on_demand_at_90', 'stddev_by_dept_idstore_id_on_sell_price_at_90', 'stddev_by_dept_idstore_id_on_demand_at_90']\n",
      "save cache to /mnt/m5_all_train_data/ex1_shift=0_i=5.parquet with columns=281\n"
     ]
    },
    {
     "name": "stdout",
     "output_type": "stream",
     "text": [
      "['day', 'cat_id', 'store_id', 'dept_id', 'state_id', 'item_id', 'id', 'demand', 'date', 'wm_yr_wk', 'event_type_1', 'event_type_2', 'snap_CA', 'snap_TX', 'snap_WI', 'sell_price', 'previous_sell_price_by_item_id&store_id_at_1', 'previous_sell_price_by_item_id&store_id_at_2', 'previous_sell_price_by_item_id&store_id_at_3', 'previous_sell_price_by_item_id&store_id_at_4', 'previous_sell_price_by_item_id&store_id_at_5', 'previous_sell_price_by_item_id&store_id_at_6', 'previous_sell_price_by_item_id&store_id_at_7', 'previous_sell_price_by_item_id&store_id_at_8', 'previous_sell_price_by_item_id&store_id_at_9', 'previous_demand_by_item_id&store_id_at_1', 'previous_demand_by_item_id&store_id_at_2', 'previous_demand_by_item_id&store_id_at_3', 'previous_demand_by_item_id&store_id_at_4', 'previous_demand_by_item_id&store_id_at_5', 'previous_demand_by_item_id&store_id_at_6', 'previous_demand_by_item_id&store_id_at_7', 'previous_demand_by_item_id&store_id_at_8', 'previous_demand_by_item_id&store_id_at_9', 'day_of_month', 'day_of_week', 'dat_of_year', 'month', 'year', 'quarter', 'week', 'mean_by_item_idstore_id_on_sell_price_at_7', 'mean_by_item_idstore_id_on_demand_at_7', 'min_by_item_idstore_id_on_sell_price_at_7', 'min_by_item_idstore_id_on_demand_at_7', 'max_by_item_idstore_id_on_sell_price_at_7', 'max_by_item_idstore_id_on_demand_at_7', 'stddev_by_item_idstore_id_on_sell_price_at_7', 'stddev_by_item_idstore_id_on_demand_at_7', 'mean_by_item_idstore_id_on_sell_price_at_14', 'mean_by_item_idstore_id_on_demand_at_14', 'min_by_item_idstore_id_on_sell_price_at_14', 'min_by_item_idstore_id_on_demand_at_14', 'max_by_item_idstore_id_on_sell_price_at_14', 'max_by_item_idstore_id_on_demand_at_14', 'stddev_by_item_idstore_id_on_sell_price_at_14', 'stddev_by_item_idstore_id_on_demand_at_14', 'mean_by_item_idstore_id_on_sell_price_at_30', 'mean_by_item_idstore_id_on_demand_at_30', 'min_by_item_idstore_id_on_sell_price_at_30', 'min_by_item_idstore_id_on_demand_at_30', 'max_by_item_idstore_id_on_sell_price_at_30', 'max_by_item_idstore_id_on_demand_at_30', 'stddev_by_item_idstore_id_on_sell_price_at_30', 'stddev_by_item_idstore_id_on_demand_at_30', 'mean_by_item_idstore_id_on_sell_price_at_60', 'mean_by_item_idstore_id_on_demand_at_60', 'min_by_item_idstore_id_on_sell_price_at_60', 'min_by_item_idstore_id_on_demand_at_60', 'max_by_item_idstore_id_on_sell_price_at_60', 'max_by_item_idstore_id_on_demand_at_60', 'stddev_by_item_idstore_id_on_sell_price_at_60', 'stddev_by_item_idstore_id_on_demand_at_60', 'mean_by_item_idstore_id_on_sell_price_at_90', 'mean_by_item_idstore_id_on_demand_at_90', 'min_by_item_idstore_id_on_sell_price_at_90', 'min_by_item_idstore_id_on_demand_at_90', 'max_by_item_idstore_id_on_sell_price_at_90', 'max_by_item_idstore_id_on_demand_at_90', 'stddev_by_item_idstore_id_on_sell_price_at_90', 'stddev_by_item_idstore_id_on_demand_at_90', 'mean_by_dept_id_on_sell_price_at_7', 'mean_by_dept_id_on_demand_at_7', 'min_by_dept_id_on_sell_price_at_7', 'min_by_dept_id_on_demand_at_7', 'max_by_dept_id_on_sell_price_at_7', 'max_by_dept_id_on_demand_at_7', 'stddev_by_dept_id_on_sell_price_at_7', 'stddev_by_dept_id_on_demand_at_7', 'mean_by_dept_id_on_sell_price_at_14', 'mean_by_dept_id_on_demand_at_14', 'min_by_dept_id_on_sell_price_at_14', 'min_by_dept_id_on_demand_at_14', 'max_by_dept_id_on_sell_price_at_14', 'max_by_dept_id_on_demand_at_14', 'stddev_by_dept_id_on_sell_price_at_14', 'stddev_by_dept_id_on_demand_at_14', 'mean_by_dept_id_on_sell_price_at_30', 'mean_by_dept_id_on_demand_at_30', 'min_by_dept_id_on_sell_price_at_30', 'min_by_dept_id_on_demand_at_30', 'max_by_dept_id_on_sell_price_at_30', 'max_by_dept_id_on_demand_at_30', 'stddev_by_dept_id_on_sell_price_at_30', 'stddev_by_dept_id_on_demand_at_30', 'mean_by_dept_id_on_sell_price_at_60', 'mean_by_dept_id_on_demand_at_60', 'min_by_dept_id_on_sell_price_at_60', 'min_by_dept_id_on_demand_at_60', 'max_by_dept_id_on_sell_price_at_60', 'max_by_dept_id_on_demand_at_60', 'stddev_by_dept_id_on_sell_price_at_60', 'stddev_by_dept_id_on_demand_at_60', 'mean_by_dept_id_on_sell_price_at_90', 'mean_by_dept_id_on_demand_at_90', 'min_by_dept_id_on_sell_price_at_90', 'min_by_dept_id_on_demand_at_90', 'max_by_dept_id_on_sell_price_at_90', 'max_by_dept_id_on_demand_at_90', 'stddev_by_dept_id_on_sell_price_at_90', 'stddev_by_dept_id_on_demand_at_90', 'mean_by_cat_id_on_sell_price_at_7', 'mean_by_cat_id_on_demand_at_7', 'min_by_cat_id_on_sell_price_at_7', 'min_by_cat_id_on_demand_at_7', 'max_by_cat_id_on_sell_price_at_7', 'max_by_cat_id_on_demand_at_7', 'stddev_by_cat_id_on_sell_price_at_7', 'stddev_by_cat_id_on_demand_at_7', 'mean_by_cat_id_on_sell_price_at_14', 'mean_by_cat_id_on_demand_at_14', 'min_by_cat_id_on_sell_price_at_14', 'min_by_cat_id_on_demand_at_14', 'max_by_cat_id_on_sell_price_at_14', 'max_by_cat_id_on_demand_at_14', 'stddev_by_cat_id_on_sell_price_at_14', 'stddev_by_cat_id_on_demand_at_14', 'mean_by_cat_id_on_sell_price_at_30', 'mean_by_cat_id_on_demand_at_30', 'min_by_cat_id_on_sell_price_at_30', 'min_by_cat_id_on_demand_at_30', 'max_by_cat_id_on_sell_price_at_30', 'max_by_cat_id_on_demand_at_30', 'stddev_by_cat_id_on_sell_price_at_30', 'stddev_by_cat_id_on_demand_at_30', 'mean_by_cat_id_on_sell_price_at_60', 'mean_by_cat_id_on_demand_at_60', 'min_by_cat_id_on_sell_price_at_60', 'min_by_cat_id_on_demand_at_60', 'max_by_cat_id_on_sell_price_at_60', 'max_by_cat_id_on_demand_at_60', 'stddev_by_cat_id_on_sell_price_at_60', 'stddev_by_cat_id_on_demand_at_60', 'mean_by_cat_id_on_sell_price_at_90', 'mean_by_cat_id_on_demand_at_90', 'min_by_cat_id_on_sell_price_at_90', 'min_by_cat_id_on_demand_at_90', 'max_by_cat_id_on_sell_price_at_90', 'max_by_cat_id_on_demand_at_90', 'stddev_by_cat_id_on_sell_price_at_90', 'stddev_by_cat_id_on_demand_at_90', 'mean_by_store_id_on_sell_price_at_7', 'mean_by_store_id_on_demand_at_7', 'min_by_store_id_on_sell_price_at_7', 'min_by_store_id_on_demand_at_7', 'max_by_store_id_on_sell_price_at_7', 'max_by_store_id_on_demand_at_7', 'stddev_by_store_id_on_sell_price_at_7', 'stddev_by_store_id_on_demand_at_7', 'mean_by_store_id_on_sell_price_at_14', 'mean_by_store_id_on_demand_at_14', 'min_by_store_id_on_sell_price_at_14', 'min_by_store_id_on_demand_at_14', 'max_by_store_id_on_sell_price_at_14', 'max_by_store_id_on_demand_at_14', 'stddev_by_store_id_on_sell_price_at_14', 'stddev_by_store_id_on_demand_at_14', 'mean_by_store_id_on_sell_price_at_30', 'mean_by_store_id_on_demand_at_30', 'min_by_store_id_on_sell_price_at_30', 'min_by_store_id_on_demand_at_30', 'max_by_store_id_on_sell_price_at_30', 'max_by_store_id_on_demand_at_30', 'stddev_by_store_id_on_sell_price_at_30', 'stddev_by_store_id_on_demand_at_30', 'mean_by_store_id_on_sell_price_at_60', 'mean_by_store_id_on_demand_at_60', 'min_by_store_id_on_sell_price_at_60', 'min_by_store_id_on_demand_at_60', 'max_by_store_id_on_sell_price_at_60', 'max_by_store_id_on_demand_at_60', 'stddev_by_store_id_on_sell_price_at_60', 'stddev_by_store_id_on_demand_at_60', 'mean_by_store_id_on_sell_price_at_90', 'mean_by_store_id_on_demand_at_90', 'min_by_store_id_on_sell_price_at_90', 'min_by_store_id_on_demand_at_90', 'max_by_store_id_on_sell_price_at_90', 'max_by_store_id_on_demand_at_90', 'stddev_by_store_id_on_sell_price_at_90', 'stddev_by_store_id_on_demand_at_90', 'mean_by_state_id_on_sell_price_at_7', 'mean_by_state_id_on_demand_at_7', 'min_by_state_id_on_sell_price_at_7', 'min_by_state_id_on_demand_at_7', 'max_by_state_id_on_sell_price_at_7', 'max_by_state_id_on_demand_at_7', 'stddev_by_state_id_on_sell_price_at_7', 'stddev_by_state_id_on_demand_at_7', 'mean_by_state_id_on_sell_price_at_14', 'mean_by_state_id_on_demand_at_14', 'min_by_state_id_on_sell_price_at_14', 'min_by_state_id_on_demand_at_14', 'max_by_state_id_on_sell_price_at_14', 'max_by_state_id_on_demand_at_14', 'stddev_by_state_id_on_sell_price_at_14', 'stddev_by_state_id_on_demand_at_14', 'mean_by_state_id_on_sell_price_at_30', 'mean_by_state_id_on_demand_at_30', 'min_by_state_id_on_sell_price_at_30', 'min_by_state_id_on_demand_at_30', 'max_by_state_id_on_sell_price_at_30', 'max_by_state_id_on_demand_at_30', 'stddev_by_state_id_on_sell_price_at_30', 'stddev_by_state_id_on_demand_at_30', 'mean_by_state_id_on_sell_price_at_60', 'mean_by_state_id_on_demand_at_60', 'min_by_state_id_on_sell_price_at_60', 'min_by_state_id_on_demand_at_60', 'max_by_state_id_on_sell_price_at_60', 'max_by_state_id_on_demand_at_60', 'stddev_by_state_id_on_sell_price_at_60', 'stddev_by_state_id_on_demand_at_60', 'mean_by_state_id_on_sell_price_at_90', 'mean_by_state_id_on_demand_at_90', 'min_by_state_id_on_sell_price_at_90', 'min_by_state_id_on_demand_at_90', 'max_by_state_id_on_sell_price_at_90', 'max_by_state_id_on_demand_at_90', 'stddev_by_state_id_on_sell_price_at_90', 'stddev_by_state_id_on_demand_at_90', 'mean_by_dept_idstore_id_on_sell_price_at_7', 'mean_by_dept_idstore_id_on_demand_at_7', 'min_by_dept_idstore_id_on_sell_price_at_7', 'min_by_dept_idstore_id_on_demand_at_7', 'max_by_dept_idstore_id_on_sell_price_at_7', 'max_by_dept_idstore_id_on_demand_at_7', 'stddev_by_dept_idstore_id_on_sell_price_at_7', 'stddev_by_dept_idstore_id_on_demand_at_7', 'mean_by_dept_idstore_id_on_sell_price_at_14', 'mean_by_dept_idstore_id_on_demand_at_14', 'min_by_dept_idstore_id_on_sell_price_at_14', 'min_by_dept_idstore_id_on_demand_at_14', 'max_by_dept_idstore_id_on_sell_price_at_14', 'max_by_dept_idstore_id_on_demand_at_14', 'stddev_by_dept_idstore_id_on_sell_price_at_14', 'stddev_by_dept_idstore_id_on_demand_at_14', 'mean_by_dept_idstore_id_on_sell_price_at_30', 'mean_by_dept_idstore_id_on_demand_at_30', 'min_by_dept_idstore_id_on_sell_price_at_30', 'min_by_dept_idstore_id_on_demand_at_30', 'max_by_dept_idstore_id_on_sell_price_at_30', 'max_by_dept_idstore_id_on_demand_at_30', 'stddev_by_dept_idstore_id_on_sell_price_at_30', 'stddev_by_dept_idstore_id_on_demand_at_30', 'mean_by_dept_idstore_id_on_sell_price_at_60', 'mean_by_dept_idstore_id_on_demand_at_60', 'min_by_dept_idstore_id_on_sell_price_at_60', 'min_by_dept_idstore_id_on_demand_at_60', 'max_by_dept_idstore_id_on_sell_price_at_60', 'max_by_dept_idstore_id_on_demand_at_60', 'stddev_by_dept_idstore_id_on_sell_price_at_60', 'stddev_by_dept_idstore_id_on_demand_at_60', 'mean_by_dept_idstore_id_on_sell_price_at_90', 'mean_by_dept_idstore_id_on_demand_at_90', 'min_by_dept_idstore_id_on_sell_price_at_90', 'min_by_dept_idstore_id_on_demand_at_90', 'max_by_dept_idstore_id_on_sell_price_at_90', 'max_by_dept_idstore_id_on_demand_at_90', 'stddev_by_dept_idstore_id_on_sell_price_at_90', 'stddev_by_dept_idstore_id_on_demand_at_90', 'mean_by_cat_idstore_id_on_sell_price_at_7', 'mean_by_cat_idstore_id_on_demand_at_7', 'min_by_cat_idstore_id_on_sell_price_at_7', 'min_by_cat_idstore_id_on_demand_at_7', 'max_by_cat_idstore_id_on_sell_price_at_7', 'max_by_cat_idstore_id_on_demand_at_7', 'stddev_by_cat_idstore_id_on_sell_price_at_7', 'stddev_by_cat_idstore_id_on_demand_at_7', 'mean_by_cat_idstore_id_on_sell_price_at_14', 'mean_by_cat_idstore_id_on_demand_at_14', 'min_by_cat_idstore_id_on_sell_price_at_14', 'min_by_cat_idstore_id_on_demand_at_14', 'max_by_cat_idstore_id_on_sell_price_at_14', 'max_by_cat_idstore_id_on_demand_at_14', 'stddev_by_cat_idstore_id_on_sell_price_at_14', 'stddev_by_cat_idstore_id_on_demand_at_14', 'mean_by_cat_idstore_id_on_sell_price_at_30', 'mean_by_cat_idstore_id_on_demand_at_30', 'min_by_cat_idstore_id_on_sell_price_at_30', 'min_by_cat_idstore_id_on_demand_at_30', 'max_by_cat_idstore_id_on_sell_price_at_30', 'max_by_cat_idstore_id_on_demand_at_30', 'stddev_by_cat_idstore_id_on_sell_price_at_30', 'stddev_by_cat_idstore_id_on_demand_at_30', 'mean_by_cat_idstore_id_on_sell_price_at_60', 'mean_by_cat_idstore_id_on_demand_at_60', 'min_by_cat_idstore_id_on_sell_price_at_60', 'min_by_cat_idstore_id_on_demand_at_60', 'max_by_cat_idstore_id_on_sell_price_at_60', 'max_by_cat_idstore_id_on_demand_at_60', 'stddev_by_cat_idstore_id_on_sell_price_at_60', 'stddev_by_cat_idstore_id_on_demand_at_60', 'mean_by_cat_idstore_id_on_sell_price_at_90', 'mean_by_cat_idstore_id_on_demand_at_90', 'min_by_cat_idstore_id_on_sell_price_at_90', 'min_by_cat_idstore_id_on_demand_at_90', 'max_by_cat_idstore_id_on_sell_price_at_90', 'max_by_cat_idstore_id_on_demand_at_90', 'stddev_by_cat_idstore_id_on_sell_price_at_90', 'stddev_by_cat_idstore_id_on_demand_at_90']\n",
      "save cache to /mnt/m5_all_train_data/ex1_shift=0_i=6.parquet with columns=321\n"
     ]
    },
    {
     "name": "stdout",
     "output_type": "stream",
     "text": [
      "generate 305 features\n"
     ]
    }
   ],
   "source": [
    "for_eval = inference_data.where(SF.col(\"day\") >= 1914).drop(\"demand\")\n",
    "prediction = utils.read_csv(\"melt_mlp_predictions.csv\")\n",
    "for_eval = for_eval.join(prediction, on=[\"id\", \"day\"], how=\"left\")\n",
    "\n",
    "inference_data = inference_data \\\n",
    "    .where(SF.col(\"day\") > 1120 - 560) \\\n",
    "    .where(SF.col(\"day\") <= 1913)\n",
    "\n",
    "inference_data = utils.concatenate([inference_data, for_eval])\n",
    "\n",
    "features = get_features(\n",
    "    inference_data,\n",
    "    cache_prefix=\"ex1_\"\n",
    ")\n",
    "utils.write_parquet(features, f\"{train_data_dir}/ex1_train_data.parquet\")"
   ]
  },
  {
   "cell_type": "code",
   "execution_count": 7,
   "metadata": {},
   "outputs": [],
   "source": [
    "inference_data = inference_data \\\n",
    "    .where(SF.col(\"day\") > 1913 - 100) \\\n",
    "\n",
    "for_eval = inference_data.where(SF.col(\"day\") >= 1914).drop(\"demand\")\n",
    "prediction = utils.read_csv(\"melt_mlp_predictions.csv\")\n",
    "for_eval = for_eval.join(prediction, on=[\"id\", \"day\"], how=\"left\")\n",
    "\n",
    "inference_data = inference_data.where(SF.col(\"day\") <= 1913)\n",
    "inference_data = utils.concatenate([inference_data, for_eval])"
   ]
  },
  {
   "cell_type": "code",
   "execution_count": 8,
   "metadata": {
    "collapsed": true
   },
   "outputs": [
    {
     "name": "stdout",
     "output_type": "stream",
     "text": [
      "3902440\n",
      "3902440\n",
      "save cache to /mnt/m5_all_train_data/ex1_inference_shift=0_initial.parquet with columns=41\n",
      "3902440\n",
      "['item_id', 'store_id', 'day', 'id', 'dept_id', 'cat_id', 'state_id', 'demand', 'date', 'wm_yr_wk', 'event_type_1', 'event_type_2', 'snap_CA', 'snap_TX', 'snap_WI', 'sell_price', 'previous_sell_price_by_item_id&store_id_at_1', 'previous_sell_price_by_item_id&store_id_at_2', 'previous_sell_price_by_item_id&store_id_at_3', 'previous_sell_price_by_item_id&store_id_at_4', 'previous_sell_price_by_item_id&store_id_at_5', 'previous_sell_price_by_item_id&store_id_at_6', 'previous_sell_price_by_item_id&store_id_at_7', 'previous_sell_price_by_item_id&store_id_at_8', 'previous_sell_price_by_item_id&store_id_at_9', 'previous_demand_by_item_id&store_id_at_1', 'previous_demand_by_item_id&store_id_at_2', 'previous_demand_by_item_id&store_id_at_3', 'previous_demand_by_item_id&store_id_at_4', 'previous_demand_by_item_id&store_id_at_5', 'previous_demand_by_item_id&store_id_at_6', 'previous_demand_by_item_id&store_id_at_7', 'previous_demand_by_item_id&store_id_at_8', 'previous_demand_by_item_id&store_id_at_9', 'day_of_month', 'day_of_week', 'dat_of_year', 'month', 'year', 'quarter', 'week']\n",
      "['day', 'item_id', 'store_id', 'id', 'dept_id', 'cat_id', 'state_id', 'demand', 'date', 'wm_yr_wk', 'event_type_1', 'event_type_2', 'snap_CA', 'snap_TX', 'snap_WI', 'sell_price', 'previous_sell_price_by_item_id&store_id_at_1', 'previous_sell_price_by_item_id&store_id_at_2', 'previous_sell_price_by_item_id&store_id_at_3', 'previous_sell_price_by_item_id&store_id_at_4', 'previous_sell_price_by_item_id&store_id_at_5', 'previous_sell_price_by_item_id&store_id_at_6', 'previous_sell_price_by_item_id&store_id_at_7', 'previous_sell_price_by_item_id&store_id_at_8', 'previous_sell_price_by_item_id&store_id_at_9', 'previous_demand_by_item_id&store_id_at_1', 'previous_demand_by_item_id&store_id_at_2', 'previous_demand_by_item_id&store_id_at_3', 'previous_demand_by_item_id&store_id_at_4', 'previous_demand_by_item_id&store_id_at_5', 'previous_demand_by_item_id&store_id_at_6', 'previous_demand_by_item_id&store_id_at_7', 'previous_demand_by_item_id&store_id_at_8', 'previous_demand_by_item_id&store_id_at_9', 'day_of_month', 'day_of_week', 'dat_of_year', 'month', 'year', 'quarter', 'week', 'mean_by_item_idstore_id_on_sell_price_at_7', 'mean_by_item_idstore_id_on_demand_at_7', 'min_by_item_idstore_id_on_sell_price_at_7', 'min_by_item_idstore_id_on_demand_at_7', 'max_by_item_idstore_id_on_sell_price_at_7', 'max_by_item_idstore_id_on_demand_at_7', 'stddev_by_item_idstore_id_on_sell_price_at_7', 'stddev_by_item_idstore_id_on_demand_at_7', 'mean_by_item_idstore_id_on_sell_price_at_14', 'mean_by_item_idstore_id_on_demand_at_14', 'min_by_item_idstore_id_on_sell_price_at_14', 'min_by_item_idstore_id_on_demand_at_14', 'max_by_item_idstore_id_on_sell_price_at_14', 'max_by_item_idstore_id_on_demand_at_14', 'stddev_by_item_idstore_id_on_sell_price_at_14', 'stddev_by_item_idstore_id_on_demand_at_14', 'mean_by_item_idstore_id_on_sell_price_at_30', 'mean_by_item_idstore_id_on_demand_at_30', 'min_by_item_idstore_id_on_sell_price_at_30', 'min_by_item_idstore_id_on_demand_at_30', 'max_by_item_idstore_id_on_sell_price_at_30', 'max_by_item_idstore_id_on_demand_at_30', 'stddev_by_item_idstore_id_on_sell_price_at_30', 'stddev_by_item_idstore_id_on_demand_at_30', 'mean_by_item_idstore_id_on_sell_price_at_60', 'mean_by_item_idstore_id_on_demand_at_60', 'min_by_item_idstore_id_on_sell_price_at_60', 'min_by_item_idstore_id_on_demand_at_60', 'max_by_item_idstore_id_on_sell_price_at_60', 'max_by_item_idstore_id_on_demand_at_60', 'stddev_by_item_idstore_id_on_sell_price_at_60', 'stddev_by_item_idstore_id_on_demand_at_60', 'mean_by_item_idstore_id_on_sell_price_at_90', 'mean_by_item_idstore_id_on_demand_at_90', 'min_by_item_idstore_id_on_sell_price_at_90', 'min_by_item_idstore_id_on_demand_at_90', 'max_by_item_idstore_id_on_sell_price_at_90', 'max_by_item_idstore_id_on_demand_at_90', 'stddev_by_item_idstore_id_on_sell_price_at_90', 'stddev_by_item_idstore_id_on_demand_at_90']\n",
      "save cache to /mnt/m5_all_train_data/ex1_inference_shift=0_i=0.parquet with columns=81\n",
      "3902440\n",
      "['day', 'dept_id', 'item_id', 'store_id', 'id', 'cat_id', 'state_id', 'demand', 'date', 'wm_yr_wk', 'event_type_1', 'event_type_2', 'snap_CA', 'snap_TX', 'snap_WI', 'sell_price', 'previous_sell_price_by_item_id&store_id_at_1', 'previous_sell_price_by_item_id&store_id_at_2', 'previous_sell_price_by_item_id&store_id_at_3', 'previous_sell_price_by_item_id&store_id_at_4', 'previous_sell_price_by_item_id&store_id_at_5', 'previous_sell_price_by_item_id&store_id_at_6', 'previous_sell_price_by_item_id&store_id_at_7', 'previous_sell_price_by_item_id&store_id_at_8', 'previous_sell_price_by_item_id&store_id_at_9', 'previous_demand_by_item_id&store_id_at_1', 'previous_demand_by_item_id&store_id_at_2', 'previous_demand_by_item_id&store_id_at_3', 'previous_demand_by_item_id&store_id_at_4', 'previous_demand_by_item_id&store_id_at_5', 'previous_demand_by_item_id&store_id_at_6', 'previous_demand_by_item_id&store_id_at_7', 'previous_demand_by_item_id&store_id_at_8', 'previous_demand_by_item_id&store_id_at_9', 'day_of_month', 'day_of_week', 'dat_of_year', 'month', 'year', 'quarter', 'week', 'mean_by_item_idstore_id_on_sell_price_at_7', 'mean_by_item_idstore_id_on_demand_at_7', 'min_by_item_idstore_id_on_sell_price_at_7', 'min_by_item_idstore_id_on_demand_at_7', 'max_by_item_idstore_id_on_sell_price_at_7', 'max_by_item_idstore_id_on_demand_at_7', 'stddev_by_item_idstore_id_on_sell_price_at_7', 'stddev_by_item_idstore_id_on_demand_at_7', 'mean_by_item_idstore_id_on_sell_price_at_14', 'mean_by_item_idstore_id_on_demand_at_14', 'min_by_item_idstore_id_on_sell_price_at_14', 'min_by_item_idstore_id_on_demand_at_14', 'max_by_item_idstore_id_on_sell_price_at_14', 'max_by_item_idstore_id_on_demand_at_14', 'stddev_by_item_idstore_id_on_sell_price_at_14', 'stddev_by_item_idstore_id_on_demand_at_14', 'mean_by_item_idstore_id_on_sell_price_at_30', 'mean_by_item_idstore_id_on_demand_at_30', 'min_by_item_idstore_id_on_sell_price_at_30', 'min_by_item_idstore_id_on_demand_at_30', 'max_by_item_idstore_id_on_sell_price_at_30', 'max_by_item_idstore_id_on_demand_at_30', 'stddev_by_item_idstore_id_on_sell_price_at_30', 'stddev_by_item_idstore_id_on_demand_at_30', 'mean_by_item_idstore_id_on_sell_price_at_60', 'mean_by_item_idstore_id_on_demand_at_60', 'min_by_item_idstore_id_on_sell_price_at_60', 'min_by_item_idstore_id_on_demand_at_60', 'max_by_item_idstore_id_on_sell_price_at_60', 'max_by_item_idstore_id_on_demand_at_60', 'stddev_by_item_idstore_id_on_sell_price_at_60', 'stddev_by_item_idstore_id_on_demand_at_60', 'mean_by_item_idstore_id_on_sell_price_at_90', 'mean_by_item_idstore_id_on_demand_at_90', 'min_by_item_idstore_id_on_sell_price_at_90', 'min_by_item_idstore_id_on_demand_at_90', 'max_by_item_idstore_id_on_sell_price_at_90', 'max_by_item_idstore_id_on_demand_at_90', 'stddev_by_item_idstore_id_on_sell_price_at_90', 'stddev_by_item_idstore_id_on_demand_at_90', 'mean_by_dept_id_on_sell_price_at_7', 'mean_by_dept_id_on_demand_at_7', 'min_by_dept_id_on_sell_price_at_7', 'min_by_dept_id_on_demand_at_7', 'max_by_dept_id_on_sell_price_at_7', 'max_by_dept_id_on_demand_at_7', 'stddev_by_dept_id_on_sell_price_at_7', 'stddev_by_dept_id_on_demand_at_7', 'mean_by_dept_id_on_sell_price_at_14', 'mean_by_dept_id_on_demand_at_14', 'min_by_dept_id_on_sell_price_at_14', 'min_by_dept_id_on_demand_at_14', 'max_by_dept_id_on_sell_price_at_14', 'max_by_dept_id_on_demand_at_14', 'stddev_by_dept_id_on_sell_price_at_14', 'stddev_by_dept_id_on_demand_at_14', 'mean_by_dept_id_on_sell_price_at_30', 'mean_by_dept_id_on_demand_at_30', 'min_by_dept_id_on_sell_price_at_30', 'min_by_dept_id_on_demand_at_30', 'max_by_dept_id_on_sell_price_at_30', 'max_by_dept_id_on_demand_at_30', 'stddev_by_dept_id_on_sell_price_at_30', 'stddev_by_dept_id_on_demand_at_30', 'mean_by_dept_id_on_sell_price_at_60', 'mean_by_dept_id_on_demand_at_60', 'min_by_dept_id_on_sell_price_at_60', 'min_by_dept_id_on_demand_at_60', 'max_by_dept_id_on_sell_price_at_60', 'max_by_dept_id_on_demand_at_60', 'stddev_by_dept_id_on_sell_price_at_60', 'stddev_by_dept_id_on_demand_at_60', 'mean_by_dept_id_on_sell_price_at_90', 'mean_by_dept_id_on_demand_at_90', 'min_by_dept_id_on_sell_price_at_90', 'min_by_dept_id_on_demand_at_90', 'max_by_dept_id_on_sell_price_at_90', 'max_by_dept_id_on_demand_at_90', 'stddev_by_dept_id_on_sell_price_at_90', 'stddev_by_dept_id_on_demand_at_90']\n",
      "save cache to /mnt/m5_all_train_data/ex1_inference_shift=0_i=1.parquet with columns=121\n"
     ]
    },
    {
     "name": "stdout",
     "output_type": "stream",
     "text": [
      "3902440\n",
      "['day', 'cat_id', 'dept_id', 'item_id', 'store_id', 'id', 'state_id', 'demand', 'date', 'wm_yr_wk', 'event_type_1', 'event_type_2', 'snap_CA', 'snap_TX', 'snap_WI', 'sell_price', 'previous_sell_price_by_item_id&store_id_at_1', 'previous_sell_price_by_item_id&store_id_at_2', 'previous_sell_price_by_item_id&store_id_at_3', 'previous_sell_price_by_item_id&store_id_at_4', 'previous_sell_price_by_item_id&store_id_at_5', 'previous_sell_price_by_item_id&store_id_at_6', 'previous_sell_price_by_item_id&store_id_at_7', 'previous_sell_price_by_item_id&store_id_at_8', 'previous_sell_price_by_item_id&store_id_at_9', 'previous_demand_by_item_id&store_id_at_1', 'previous_demand_by_item_id&store_id_at_2', 'previous_demand_by_item_id&store_id_at_3', 'previous_demand_by_item_id&store_id_at_4', 'previous_demand_by_item_id&store_id_at_5', 'previous_demand_by_item_id&store_id_at_6', 'previous_demand_by_item_id&store_id_at_7', 'previous_demand_by_item_id&store_id_at_8', 'previous_demand_by_item_id&store_id_at_9', 'day_of_month', 'day_of_week', 'dat_of_year', 'month', 'year', 'quarter', 'week', 'mean_by_item_idstore_id_on_sell_price_at_7', 'mean_by_item_idstore_id_on_demand_at_7', 'min_by_item_idstore_id_on_sell_price_at_7', 'min_by_item_idstore_id_on_demand_at_7', 'max_by_item_idstore_id_on_sell_price_at_7', 'max_by_item_idstore_id_on_demand_at_7', 'stddev_by_item_idstore_id_on_sell_price_at_7', 'stddev_by_item_idstore_id_on_demand_at_7', 'mean_by_item_idstore_id_on_sell_price_at_14', 'mean_by_item_idstore_id_on_demand_at_14', 'min_by_item_idstore_id_on_sell_price_at_14', 'min_by_item_idstore_id_on_demand_at_14', 'max_by_item_idstore_id_on_sell_price_at_14', 'max_by_item_idstore_id_on_demand_at_14', 'stddev_by_item_idstore_id_on_sell_price_at_14', 'stddev_by_item_idstore_id_on_demand_at_14', 'mean_by_item_idstore_id_on_sell_price_at_30', 'mean_by_item_idstore_id_on_demand_at_30', 'min_by_item_idstore_id_on_sell_price_at_30', 'min_by_item_idstore_id_on_demand_at_30', 'max_by_item_idstore_id_on_sell_price_at_30', 'max_by_item_idstore_id_on_demand_at_30', 'stddev_by_item_idstore_id_on_sell_price_at_30', 'stddev_by_item_idstore_id_on_demand_at_30', 'mean_by_item_idstore_id_on_sell_price_at_60', 'mean_by_item_idstore_id_on_demand_at_60', 'min_by_item_idstore_id_on_sell_price_at_60', 'min_by_item_idstore_id_on_demand_at_60', 'max_by_item_idstore_id_on_sell_price_at_60', 'max_by_item_idstore_id_on_demand_at_60', 'stddev_by_item_idstore_id_on_sell_price_at_60', 'stddev_by_item_idstore_id_on_demand_at_60', 'mean_by_item_idstore_id_on_sell_price_at_90', 'mean_by_item_idstore_id_on_demand_at_90', 'min_by_item_idstore_id_on_sell_price_at_90', 'min_by_item_idstore_id_on_demand_at_90', 'max_by_item_idstore_id_on_sell_price_at_90', 'max_by_item_idstore_id_on_demand_at_90', 'stddev_by_item_idstore_id_on_sell_price_at_90', 'stddev_by_item_idstore_id_on_demand_at_90', 'mean_by_dept_id_on_sell_price_at_7', 'mean_by_dept_id_on_demand_at_7', 'min_by_dept_id_on_sell_price_at_7', 'min_by_dept_id_on_demand_at_7', 'max_by_dept_id_on_sell_price_at_7', 'max_by_dept_id_on_demand_at_7', 'stddev_by_dept_id_on_sell_price_at_7', 'stddev_by_dept_id_on_demand_at_7', 'mean_by_dept_id_on_sell_price_at_14', 'mean_by_dept_id_on_demand_at_14', 'min_by_dept_id_on_sell_price_at_14', 'min_by_dept_id_on_demand_at_14', 'max_by_dept_id_on_sell_price_at_14', 'max_by_dept_id_on_demand_at_14', 'stddev_by_dept_id_on_sell_price_at_14', 'stddev_by_dept_id_on_demand_at_14', 'mean_by_dept_id_on_sell_price_at_30', 'mean_by_dept_id_on_demand_at_30', 'min_by_dept_id_on_sell_price_at_30', 'min_by_dept_id_on_demand_at_30', 'max_by_dept_id_on_sell_price_at_30', 'max_by_dept_id_on_demand_at_30', 'stddev_by_dept_id_on_sell_price_at_30', 'stddev_by_dept_id_on_demand_at_30', 'mean_by_dept_id_on_sell_price_at_60', 'mean_by_dept_id_on_demand_at_60', 'min_by_dept_id_on_sell_price_at_60', 'min_by_dept_id_on_demand_at_60', 'max_by_dept_id_on_sell_price_at_60', 'max_by_dept_id_on_demand_at_60', 'stddev_by_dept_id_on_sell_price_at_60', 'stddev_by_dept_id_on_demand_at_60', 'mean_by_dept_id_on_sell_price_at_90', 'mean_by_dept_id_on_demand_at_90', 'min_by_dept_id_on_sell_price_at_90', 'min_by_dept_id_on_demand_at_90', 'max_by_dept_id_on_sell_price_at_90', 'max_by_dept_id_on_demand_at_90', 'stddev_by_dept_id_on_sell_price_at_90', 'stddev_by_dept_id_on_demand_at_90', 'mean_by_cat_id_on_sell_price_at_7', 'mean_by_cat_id_on_demand_at_7', 'min_by_cat_id_on_sell_price_at_7', 'min_by_cat_id_on_demand_at_7', 'max_by_cat_id_on_sell_price_at_7', 'max_by_cat_id_on_demand_at_7', 'stddev_by_cat_id_on_sell_price_at_7', 'stddev_by_cat_id_on_demand_at_7', 'mean_by_cat_id_on_sell_price_at_14', 'mean_by_cat_id_on_demand_at_14', 'min_by_cat_id_on_sell_price_at_14', 'min_by_cat_id_on_demand_at_14', 'max_by_cat_id_on_sell_price_at_14', 'max_by_cat_id_on_demand_at_14', 'stddev_by_cat_id_on_sell_price_at_14', 'stddev_by_cat_id_on_demand_at_14', 'mean_by_cat_id_on_sell_price_at_30', 'mean_by_cat_id_on_demand_at_30', 'min_by_cat_id_on_sell_price_at_30', 'min_by_cat_id_on_demand_at_30', 'max_by_cat_id_on_sell_price_at_30', 'max_by_cat_id_on_demand_at_30', 'stddev_by_cat_id_on_sell_price_at_30', 'stddev_by_cat_id_on_demand_at_30', 'mean_by_cat_id_on_sell_price_at_60', 'mean_by_cat_id_on_demand_at_60', 'min_by_cat_id_on_sell_price_at_60', 'min_by_cat_id_on_demand_at_60', 'max_by_cat_id_on_sell_price_at_60', 'max_by_cat_id_on_demand_at_60', 'stddev_by_cat_id_on_sell_price_at_60', 'stddev_by_cat_id_on_demand_at_60', 'mean_by_cat_id_on_sell_price_at_90', 'mean_by_cat_id_on_demand_at_90', 'min_by_cat_id_on_sell_price_at_90', 'min_by_cat_id_on_demand_at_90', 'max_by_cat_id_on_sell_price_at_90', 'max_by_cat_id_on_demand_at_90', 'stddev_by_cat_id_on_sell_price_at_90', 'stddev_by_cat_id_on_demand_at_90']\n",
      "save cache to /mnt/m5_all_train_data/ex1_inference_shift=0_i=2.parquet with columns=161\n",
      "3902440\n",
      "['day', 'store_id', 'cat_id', 'dept_id', 'item_id', 'id', 'state_id', 'demand', 'date', 'wm_yr_wk', 'event_type_1', 'event_type_2', 'snap_CA', 'snap_TX', 'snap_WI', 'sell_price', 'previous_sell_price_by_item_id&store_id_at_1', 'previous_sell_price_by_item_id&store_id_at_2', 'previous_sell_price_by_item_id&store_id_at_3', 'previous_sell_price_by_item_id&store_id_at_4', 'previous_sell_price_by_item_id&store_id_at_5', 'previous_sell_price_by_item_id&store_id_at_6', 'previous_sell_price_by_item_id&store_id_at_7', 'previous_sell_price_by_item_id&store_id_at_8', 'previous_sell_price_by_item_id&store_id_at_9', 'previous_demand_by_item_id&store_id_at_1', 'previous_demand_by_item_id&store_id_at_2', 'previous_demand_by_item_id&store_id_at_3', 'previous_demand_by_item_id&store_id_at_4', 'previous_demand_by_item_id&store_id_at_5', 'previous_demand_by_item_id&store_id_at_6', 'previous_demand_by_item_id&store_id_at_7', 'previous_demand_by_item_id&store_id_at_8', 'previous_demand_by_item_id&store_id_at_9', 'day_of_month', 'day_of_week', 'dat_of_year', 'month', 'year', 'quarter', 'week', 'mean_by_item_idstore_id_on_sell_price_at_7', 'mean_by_item_idstore_id_on_demand_at_7', 'min_by_item_idstore_id_on_sell_price_at_7', 'min_by_item_idstore_id_on_demand_at_7', 'max_by_item_idstore_id_on_sell_price_at_7', 'max_by_item_idstore_id_on_demand_at_7', 'stddev_by_item_idstore_id_on_sell_price_at_7', 'stddev_by_item_idstore_id_on_demand_at_7', 'mean_by_item_idstore_id_on_sell_price_at_14', 'mean_by_item_idstore_id_on_demand_at_14', 'min_by_item_idstore_id_on_sell_price_at_14', 'min_by_item_idstore_id_on_demand_at_14', 'max_by_item_idstore_id_on_sell_price_at_14', 'max_by_item_idstore_id_on_demand_at_14', 'stddev_by_item_idstore_id_on_sell_price_at_14', 'stddev_by_item_idstore_id_on_demand_at_14', 'mean_by_item_idstore_id_on_sell_price_at_30', 'mean_by_item_idstore_id_on_demand_at_30', 'min_by_item_idstore_id_on_sell_price_at_30', 'min_by_item_idstore_id_on_demand_at_30', 'max_by_item_idstore_id_on_sell_price_at_30', 'max_by_item_idstore_id_on_demand_at_30', 'stddev_by_item_idstore_id_on_sell_price_at_30', 'stddev_by_item_idstore_id_on_demand_at_30', 'mean_by_item_idstore_id_on_sell_price_at_60', 'mean_by_item_idstore_id_on_demand_at_60', 'min_by_item_idstore_id_on_sell_price_at_60', 'min_by_item_idstore_id_on_demand_at_60', 'max_by_item_idstore_id_on_sell_price_at_60', 'max_by_item_idstore_id_on_demand_at_60', 'stddev_by_item_idstore_id_on_sell_price_at_60', 'stddev_by_item_idstore_id_on_demand_at_60', 'mean_by_item_idstore_id_on_sell_price_at_90', 'mean_by_item_idstore_id_on_demand_at_90', 'min_by_item_idstore_id_on_sell_price_at_90', 'min_by_item_idstore_id_on_demand_at_90', 'max_by_item_idstore_id_on_sell_price_at_90', 'max_by_item_idstore_id_on_demand_at_90', 'stddev_by_item_idstore_id_on_sell_price_at_90', 'stddev_by_item_idstore_id_on_demand_at_90', 'mean_by_dept_id_on_sell_price_at_7', 'mean_by_dept_id_on_demand_at_7', 'min_by_dept_id_on_sell_price_at_7', 'min_by_dept_id_on_demand_at_7', 'max_by_dept_id_on_sell_price_at_7', 'max_by_dept_id_on_demand_at_7', 'stddev_by_dept_id_on_sell_price_at_7', 'stddev_by_dept_id_on_demand_at_7', 'mean_by_dept_id_on_sell_price_at_14', 'mean_by_dept_id_on_demand_at_14', 'min_by_dept_id_on_sell_price_at_14', 'min_by_dept_id_on_demand_at_14', 'max_by_dept_id_on_sell_price_at_14', 'max_by_dept_id_on_demand_at_14', 'stddev_by_dept_id_on_sell_price_at_14', 'stddev_by_dept_id_on_demand_at_14', 'mean_by_dept_id_on_sell_price_at_30', 'mean_by_dept_id_on_demand_at_30', 'min_by_dept_id_on_sell_price_at_30', 'min_by_dept_id_on_demand_at_30', 'max_by_dept_id_on_sell_price_at_30', 'max_by_dept_id_on_demand_at_30', 'stddev_by_dept_id_on_sell_price_at_30', 'stddev_by_dept_id_on_demand_at_30', 'mean_by_dept_id_on_sell_price_at_60', 'mean_by_dept_id_on_demand_at_60', 'min_by_dept_id_on_sell_price_at_60', 'min_by_dept_id_on_demand_at_60', 'max_by_dept_id_on_sell_price_at_60', 'max_by_dept_id_on_demand_at_60', 'stddev_by_dept_id_on_sell_price_at_60', 'stddev_by_dept_id_on_demand_at_60', 'mean_by_dept_id_on_sell_price_at_90', 'mean_by_dept_id_on_demand_at_90', 'min_by_dept_id_on_sell_price_at_90', 'min_by_dept_id_on_demand_at_90', 'max_by_dept_id_on_sell_price_at_90', 'max_by_dept_id_on_demand_at_90', 'stddev_by_dept_id_on_sell_price_at_90', 'stddev_by_dept_id_on_demand_at_90', 'mean_by_cat_id_on_sell_price_at_7', 'mean_by_cat_id_on_demand_at_7', 'min_by_cat_id_on_sell_price_at_7', 'min_by_cat_id_on_demand_at_7', 'max_by_cat_id_on_sell_price_at_7', 'max_by_cat_id_on_demand_at_7', 'stddev_by_cat_id_on_sell_price_at_7', 'stddev_by_cat_id_on_demand_at_7', 'mean_by_cat_id_on_sell_price_at_14', 'mean_by_cat_id_on_demand_at_14', 'min_by_cat_id_on_sell_price_at_14', 'min_by_cat_id_on_demand_at_14', 'max_by_cat_id_on_sell_price_at_14', 'max_by_cat_id_on_demand_at_14', 'stddev_by_cat_id_on_sell_price_at_14', 'stddev_by_cat_id_on_demand_at_14', 'mean_by_cat_id_on_sell_price_at_30', 'mean_by_cat_id_on_demand_at_30', 'min_by_cat_id_on_sell_price_at_30', 'min_by_cat_id_on_demand_at_30', 'max_by_cat_id_on_sell_price_at_30', 'max_by_cat_id_on_demand_at_30', 'stddev_by_cat_id_on_sell_price_at_30', 'stddev_by_cat_id_on_demand_at_30', 'mean_by_cat_id_on_sell_price_at_60', 'mean_by_cat_id_on_demand_at_60', 'min_by_cat_id_on_sell_price_at_60', 'min_by_cat_id_on_demand_at_60', 'max_by_cat_id_on_sell_price_at_60', 'max_by_cat_id_on_demand_at_60', 'stddev_by_cat_id_on_sell_price_at_60', 'stddev_by_cat_id_on_demand_at_60', 'mean_by_cat_id_on_sell_price_at_90', 'mean_by_cat_id_on_demand_at_90', 'min_by_cat_id_on_sell_price_at_90', 'min_by_cat_id_on_demand_at_90', 'max_by_cat_id_on_sell_price_at_90', 'max_by_cat_id_on_demand_at_90', 'stddev_by_cat_id_on_sell_price_at_90', 'stddev_by_cat_id_on_demand_at_90', 'mean_by_store_id_on_sell_price_at_7', 'mean_by_store_id_on_demand_at_7', 'min_by_store_id_on_sell_price_at_7', 'min_by_store_id_on_demand_at_7', 'max_by_store_id_on_sell_price_at_7', 'max_by_store_id_on_demand_at_7', 'stddev_by_store_id_on_sell_price_at_7', 'stddev_by_store_id_on_demand_at_7', 'mean_by_store_id_on_sell_price_at_14', 'mean_by_store_id_on_demand_at_14', 'min_by_store_id_on_sell_price_at_14', 'min_by_store_id_on_demand_at_14', 'max_by_store_id_on_sell_price_at_14', 'max_by_store_id_on_demand_at_14', 'stddev_by_store_id_on_sell_price_at_14', 'stddev_by_store_id_on_demand_at_14', 'mean_by_store_id_on_sell_price_at_30', 'mean_by_store_id_on_demand_at_30', 'min_by_store_id_on_sell_price_at_30', 'min_by_store_id_on_demand_at_30', 'max_by_store_id_on_sell_price_at_30', 'max_by_store_id_on_demand_at_30', 'stddev_by_store_id_on_sell_price_at_30', 'stddev_by_store_id_on_demand_at_30', 'mean_by_store_id_on_sell_price_at_60', 'mean_by_store_id_on_demand_at_60', 'min_by_store_id_on_sell_price_at_60', 'min_by_store_id_on_demand_at_60', 'max_by_store_id_on_sell_price_at_60', 'max_by_store_id_on_demand_at_60', 'stddev_by_store_id_on_sell_price_at_60', 'stddev_by_store_id_on_demand_at_60', 'mean_by_store_id_on_sell_price_at_90', 'mean_by_store_id_on_demand_at_90', 'min_by_store_id_on_sell_price_at_90', 'min_by_store_id_on_demand_at_90', 'max_by_store_id_on_sell_price_at_90', 'max_by_store_id_on_demand_at_90', 'stddev_by_store_id_on_sell_price_at_90', 'stddev_by_store_id_on_demand_at_90']\n",
      "save cache to /mnt/m5_all_train_data/ex1_inference_shift=0_i=3.parquet with columns=201\n"
     ]
    },
    {
     "name": "stdout",
     "output_type": "stream",
     "text": [
      "3902440\n",
      "['day', 'state_id', 'store_id', 'cat_id', 'dept_id', 'item_id', 'id', 'demand', 'date', 'wm_yr_wk', 'event_type_1', 'event_type_2', 'snap_CA', 'snap_TX', 'snap_WI', 'sell_price', 'previous_sell_price_by_item_id&store_id_at_1', 'previous_sell_price_by_item_id&store_id_at_2', 'previous_sell_price_by_item_id&store_id_at_3', 'previous_sell_price_by_item_id&store_id_at_4', 'previous_sell_price_by_item_id&store_id_at_5', 'previous_sell_price_by_item_id&store_id_at_6', 'previous_sell_price_by_item_id&store_id_at_7', 'previous_sell_price_by_item_id&store_id_at_8', 'previous_sell_price_by_item_id&store_id_at_9', 'previous_demand_by_item_id&store_id_at_1', 'previous_demand_by_item_id&store_id_at_2', 'previous_demand_by_item_id&store_id_at_3', 'previous_demand_by_item_id&store_id_at_4', 'previous_demand_by_item_id&store_id_at_5', 'previous_demand_by_item_id&store_id_at_6', 'previous_demand_by_item_id&store_id_at_7', 'previous_demand_by_item_id&store_id_at_8', 'previous_demand_by_item_id&store_id_at_9', 'day_of_month', 'day_of_week', 'dat_of_year', 'month', 'year', 'quarter', 'week', 'mean_by_item_idstore_id_on_sell_price_at_7', 'mean_by_item_idstore_id_on_demand_at_7', 'min_by_item_idstore_id_on_sell_price_at_7', 'min_by_item_idstore_id_on_demand_at_7', 'max_by_item_idstore_id_on_sell_price_at_7', 'max_by_item_idstore_id_on_demand_at_7', 'stddev_by_item_idstore_id_on_sell_price_at_7', 'stddev_by_item_idstore_id_on_demand_at_7', 'mean_by_item_idstore_id_on_sell_price_at_14', 'mean_by_item_idstore_id_on_demand_at_14', 'min_by_item_idstore_id_on_sell_price_at_14', 'min_by_item_idstore_id_on_demand_at_14', 'max_by_item_idstore_id_on_sell_price_at_14', 'max_by_item_idstore_id_on_demand_at_14', 'stddev_by_item_idstore_id_on_sell_price_at_14', 'stddev_by_item_idstore_id_on_demand_at_14', 'mean_by_item_idstore_id_on_sell_price_at_30', 'mean_by_item_idstore_id_on_demand_at_30', 'min_by_item_idstore_id_on_sell_price_at_30', 'min_by_item_idstore_id_on_demand_at_30', 'max_by_item_idstore_id_on_sell_price_at_30', 'max_by_item_idstore_id_on_demand_at_30', 'stddev_by_item_idstore_id_on_sell_price_at_30', 'stddev_by_item_idstore_id_on_demand_at_30', 'mean_by_item_idstore_id_on_sell_price_at_60', 'mean_by_item_idstore_id_on_demand_at_60', 'min_by_item_idstore_id_on_sell_price_at_60', 'min_by_item_idstore_id_on_demand_at_60', 'max_by_item_idstore_id_on_sell_price_at_60', 'max_by_item_idstore_id_on_demand_at_60', 'stddev_by_item_idstore_id_on_sell_price_at_60', 'stddev_by_item_idstore_id_on_demand_at_60', 'mean_by_item_idstore_id_on_sell_price_at_90', 'mean_by_item_idstore_id_on_demand_at_90', 'min_by_item_idstore_id_on_sell_price_at_90', 'min_by_item_idstore_id_on_demand_at_90', 'max_by_item_idstore_id_on_sell_price_at_90', 'max_by_item_idstore_id_on_demand_at_90', 'stddev_by_item_idstore_id_on_sell_price_at_90', 'stddev_by_item_idstore_id_on_demand_at_90', 'mean_by_dept_id_on_sell_price_at_7', 'mean_by_dept_id_on_demand_at_7', 'min_by_dept_id_on_sell_price_at_7', 'min_by_dept_id_on_demand_at_7', 'max_by_dept_id_on_sell_price_at_7', 'max_by_dept_id_on_demand_at_7', 'stddev_by_dept_id_on_sell_price_at_7', 'stddev_by_dept_id_on_demand_at_7', 'mean_by_dept_id_on_sell_price_at_14', 'mean_by_dept_id_on_demand_at_14', 'min_by_dept_id_on_sell_price_at_14', 'min_by_dept_id_on_demand_at_14', 'max_by_dept_id_on_sell_price_at_14', 'max_by_dept_id_on_demand_at_14', 'stddev_by_dept_id_on_sell_price_at_14', 'stddev_by_dept_id_on_demand_at_14', 'mean_by_dept_id_on_sell_price_at_30', 'mean_by_dept_id_on_demand_at_30', 'min_by_dept_id_on_sell_price_at_30', 'min_by_dept_id_on_demand_at_30', 'max_by_dept_id_on_sell_price_at_30', 'max_by_dept_id_on_demand_at_30', 'stddev_by_dept_id_on_sell_price_at_30', 'stddev_by_dept_id_on_demand_at_30', 'mean_by_dept_id_on_sell_price_at_60', 'mean_by_dept_id_on_demand_at_60', 'min_by_dept_id_on_sell_price_at_60', 'min_by_dept_id_on_demand_at_60', 'max_by_dept_id_on_sell_price_at_60', 'max_by_dept_id_on_demand_at_60', 'stddev_by_dept_id_on_sell_price_at_60', 'stddev_by_dept_id_on_demand_at_60', 'mean_by_dept_id_on_sell_price_at_90', 'mean_by_dept_id_on_demand_at_90', 'min_by_dept_id_on_sell_price_at_90', 'min_by_dept_id_on_demand_at_90', 'max_by_dept_id_on_sell_price_at_90', 'max_by_dept_id_on_demand_at_90', 'stddev_by_dept_id_on_sell_price_at_90', 'stddev_by_dept_id_on_demand_at_90', 'mean_by_cat_id_on_sell_price_at_7', 'mean_by_cat_id_on_demand_at_7', 'min_by_cat_id_on_sell_price_at_7', 'min_by_cat_id_on_demand_at_7', 'max_by_cat_id_on_sell_price_at_7', 'max_by_cat_id_on_demand_at_7', 'stddev_by_cat_id_on_sell_price_at_7', 'stddev_by_cat_id_on_demand_at_7', 'mean_by_cat_id_on_sell_price_at_14', 'mean_by_cat_id_on_demand_at_14', 'min_by_cat_id_on_sell_price_at_14', 'min_by_cat_id_on_demand_at_14', 'max_by_cat_id_on_sell_price_at_14', 'max_by_cat_id_on_demand_at_14', 'stddev_by_cat_id_on_sell_price_at_14', 'stddev_by_cat_id_on_demand_at_14', 'mean_by_cat_id_on_sell_price_at_30', 'mean_by_cat_id_on_demand_at_30', 'min_by_cat_id_on_sell_price_at_30', 'min_by_cat_id_on_demand_at_30', 'max_by_cat_id_on_sell_price_at_30', 'max_by_cat_id_on_demand_at_30', 'stddev_by_cat_id_on_sell_price_at_30', 'stddev_by_cat_id_on_demand_at_30', 'mean_by_cat_id_on_sell_price_at_60', 'mean_by_cat_id_on_demand_at_60', 'min_by_cat_id_on_sell_price_at_60', 'min_by_cat_id_on_demand_at_60', 'max_by_cat_id_on_sell_price_at_60', 'max_by_cat_id_on_demand_at_60', 'stddev_by_cat_id_on_sell_price_at_60', 'stddev_by_cat_id_on_demand_at_60', 'mean_by_cat_id_on_sell_price_at_90', 'mean_by_cat_id_on_demand_at_90', 'min_by_cat_id_on_sell_price_at_90', 'min_by_cat_id_on_demand_at_90', 'max_by_cat_id_on_sell_price_at_90', 'max_by_cat_id_on_demand_at_90', 'stddev_by_cat_id_on_sell_price_at_90', 'stddev_by_cat_id_on_demand_at_90', 'mean_by_store_id_on_sell_price_at_7', 'mean_by_store_id_on_demand_at_7', 'min_by_store_id_on_sell_price_at_7', 'min_by_store_id_on_demand_at_7', 'max_by_store_id_on_sell_price_at_7', 'max_by_store_id_on_demand_at_7', 'stddev_by_store_id_on_sell_price_at_7', 'stddev_by_store_id_on_demand_at_7', 'mean_by_store_id_on_sell_price_at_14', 'mean_by_store_id_on_demand_at_14', 'min_by_store_id_on_sell_price_at_14', 'min_by_store_id_on_demand_at_14', 'max_by_store_id_on_sell_price_at_14', 'max_by_store_id_on_demand_at_14', 'stddev_by_store_id_on_sell_price_at_14', 'stddev_by_store_id_on_demand_at_14', 'mean_by_store_id_on_sell_price_at_30', 'mean_by_store_id_on_demand_at_30', 'min_by_store_id_on_sell_price_at_30', 'min_by_store_id_on_demand_at_30', 'max_by_store_id_on_sell_price_at_30', 'max_by_store_id_on_demand_at_30', 'stddev_by_store_id_on_sell_price_at_30', 'stddev_by_store_id_on_demand_at_30', 'mean_by_store_id_on_sell_price_at_60', 'mean_by_store_id_on_demand_at_60', 'min_by_store_id_on_sell_price_at_60', 'min_by_store_id_on_demand_at_60', 'max_by_store_id_on_sell_price_at_60', 'max_by_store_id_on_demand_at_60', 'stddev_by_store_id_on_sell_price_at_60', 'stddev_by_store_id_on_demand_at_60', 'mean_by_store_id_on_sell_price_at_90', 'mean_by_store_id_on_demand_at_90', 'min_by_store_id_on_sell_price_at_90', 'min_by_store_id_on_demand_at_90', 'max_by_store_id_on_sell_price_at_90', 'max_by_store_id_on_demand_at_90', 'stddev_by_store_id_on_sell_price_at_90', 'stddev_by_store_id_on_demand_at_90', 'mean_by_state_id_on_sell_price_at_7', 'mean_by_state_id_on_demand_at_7', 'min_by_state_id_on_sell_price_at_7', 'min_by_state_id_on_demand_at_7', 'max_by_state_id_on_sell_price_at_7', 'max_by_state_id_on_demand_at_7', 'stddev_by_state_id_on_sell_price_at_7', 'stddev_by_state_id_on_demand_at_7', 'mean_by_state_id_on_sell_price_at_14', 'mean_by_state_id_on_demand_at_14', 'min_by_state_id_on_sell_price_at_14', 'min_by_state_id_on_demand_at_14', 'max_by_state_id_on_sell_price_at_14', 'max_by_state_id_on_demand_at_14', 'stddev_by_state_id_on_sell_price_at_14', 'stddev_by_state_id_on_demand_at_14', 'mean_by_state_id_on_sell_price_at_30', 'mean_by_state_id_on_demand_at_30', 'min_by_state_id_on_sell_price_at_30', 'min_by_state_id_on_demand_at_30', 'max_by_state_id_on_sell_price_at_30', 'max_by_state_id_on_demand_at_30', 'stddev_by_state_id_on_sell_price_at_30', 'stddev_by_state_id_on_demand_at_30', 'mean_by_state_id_on_sell_price_at_60', 'mean_by_state_id_on_demand_at_60', 'min_by_state_id_on_sell_price_at_60', 'min_by_state_id_on_demand_at_60', 'max_by_state_id_on_sell_price_at_60', 'max_by_state_id_on_demand_at_60', 'stddev_by_state_id_on_sell_price_at_60', 'stddev_by_state_id_on_demand_at_60', 'mean_by_state_id_on_sell_price_at_90', 'mean_by_state_id_on_demand_at_90', 'min_by_state_id_on_sell_price_at_90', 'min_by_state_id_on_demand_at_90', 'max_by_state_id_on_sell_price_at_90', 'max_by_state_id_on_demand_at_90', 'stddev_by_state_id_on_sell_price_at_90', 'stddev_by_state_id_on_demand_at_90']\n",
      "save cache to /mnt/m5_all_train_data/ex1_inference_shift=0_i=4.parquet with columns=241\n"
     ]
    },
    {
     "name": "stdout",
     "output_type": "stream",
     "text": [
      "3902440\n",
      "['day', 'dept_id', 'store_id', 'state_id', 'cat_id', 'item_id', 'id', 'demand', 'date', 'wm_yr_wk', 'event_type_1', 'event_type_2', 'snap_CA', 'snap_TX', 'snap_WI', 'sell_price', 'previous_sell_price_by_item_id&store_id_at_1', 'previous_sell_price_by_item_id&store_id_at_2', 'previous_sell_price_by_item_id&store_id_at_3', 'previous_sell_price_by_item_id&store_id_at_4', 'previous_sell_price_by_item_id&store_id_at_5', 'previous_sell_price_by_item_id&store_id_at_6', 'previous_sell_price_by_item_id&store_id_at_7', 'previous_sell_price_by_item_id&store_id_at_8', 'previous_sell_price_by_item_id&store_id_at_9', 'previous_demand_by_item_id&store_id_at_1', 'previous_demand_by_item_id&store_id_at_2', 'previous_demand_by_item_id&store_id_at_3', 'previous_demand_by_item_id&store_id_at_4', 'previous_demand_by_item_id&store_id_at_5', 'previous_demand_by_item_id&store_id_at_6', 'previous_demand_by_item_id&store_id_at_7', 'previous_demand_by_item_id&store_id_at_8', 'previous_demand_by_item_id&store_id_at_9', 'day_of_month', 'day_of_week', 'dat_of_year', 'month', 'year', 'quarter', 'week', 'mean_by_item_idstore_id_on_sell_price_at_7', 'mean_by_item_idstore_id_on_demand_at_7', 'min_by_item_idstore_id_on_sell_price_at_7', 'min_by_item_idstore_id_on_demand_at_7', 'max_by_item_idstore_id_on_sell_price_at_7', 'max_by_item_idstore_id_on_demand_at_7', 'stddev_by_item_idstore_id_on_sell_price_at_7', 'stddev_by_item_idstore_id_on_demand_at_7', 'mean_by_item_idstore_id_on_sell_price_at_14', 'mean_by_item_idstore_id_on_demand_at_14', 'min_by_item_idstore_id_on_sell_price_at_14', 'min_by_item_idstore_id_on_demand_at_14', 'max_by_item_idstore_id_on_sell_price_at_14', 'max_by_item_idstore_id_on_demand_at_14', 'stddev_by_item_idstore_id_on_sell_price_at_14', 'stddev_by_item_idstore_id_on_demand_at_14', 'mean_by_item_idstore_id_on_sell_price_at_30', 'mean_by_item_idstore_id_on_demand_at_30', 'min_by_item_idstore_id_on_sell_price_at_30', 'min_by_item_idstore_id_on_demand_at_30', 'max_by_item_idstore_id_on_sell_price_at_30', 'max_by_item_idstore_id_on_demand_at_30', 'stddev_by_item_idstore_id_on_sell_price_at_30', 'stddev_by_item_idstore_id_on_demand_at_30', 'mean_by_item_idstore_id_on_sell_price_at_60', 'mean_by_item_idstore_id_on_demand_at_60', 'min_by_item_idstore_id_on_sell_price_at_60', 'min_by_item_idstore_id_on_demand_at_60', 'max_by_item_idstore_id_on_sell_price_at_60', 'max_by_item_idstore_id_on_demand_at_60', 'stddev_by_item_idstore_id_on_sell_price_at_60', 'stddev_by_item_idstore_id_on_demand_at_60', 'mean_by_item_idstore_id_on_sell_price_at_90', 'mean_by_item_idstore_id_on_demand_at_90', 'min_by_item_idstore_id_on_sell_price_at_90', 'min_by_item_idstore_id_on_demand_at_90', 'max_by_item_idstore_id_on_sell_price_at_90', 'max_by_item_idstore_id_on_demand_at_90', 'stddev_by_item_idstore_id_on_sell_price_at_90', 'stddev_by_item_idstore_id_on_demand_at_90', 'mean_by_dept_id_on_sell_price_at_7', 'mean_by_dept_id_on_demand_at_7', 'min_by_dept_id_on_sell_price_at_7', 'min_by_dept_id_on_demand_at_7', 'max_by_dept_id_on_sell_price_at_7', 'max_by_dept_id_on_demand_at_7', 'stddev_by_dept_id_on_sell_price_at_7', 'stddev_by_dept_id_on_demand_at_7', 'mean_by_dept_id_on_sell_price_at_14', 'mean_by_dept_id_on_demand_at_14', 'min_by_dept_id_on_sell_price_at_14', 'min_by_dept_id_on_demand_at_14', 'max_by_dept_id_on_sell_price_at_14', 'max_by_dept_id_on_demand_at_14', 'stddev_by_dept_id_on_sell_price_at_14', 'stddev_by_dept_id_on_demand_at_14', 'mean_by_dept_id_on_sell_price_at_30', 'mean_by_dept_id_on_demand_at_30', 'min_by_dept_id_on_sell_price_at_30', 'min_by_dept_id_on_demand_at_30', 'max_by_dept_id_on_sell_price_at_30', 'max_by_dept_id_on_demand_at_30', 'stddev_by_dept_id_on_sell_price_at_30', 'stddev_by_dept_id_on_demand_at_30', 'mean_by_dept_id_on_sell_price_at_60', 'mean_by_dept_id_on_demand_at_60', 'min_by_dept_id_on_sell_price_at_60', 'min_by_dept_id_on_demand_at_60', 'max_by_dept_id_on_sell_price_at_60', 'max_by_dept_id_on_demand_at_60', 'stddev_by_dept_id_on_sell_price_at_60', 'stddev_by_dept_id_on_demand_at_60', 'mean_by_dept_id_on_sell_price_at_90', 'mean_by_dept_id_on_demand_at_90', 'min_by_dept_id_on_sell_price_at_90', 'min_by_dept_id_on_demand_at_90', 'max_by_dept_id_on_sell_price_at_90', 'max_by_dept_id_on_demand_at_90', 'stddev_by_dept_id_on_sell_price_at_90', 'stddev_by_dept_id_on_demand_at_90', 'mean_by_cat_id_on_sell_price_at_7', 'mean_by_cat_id_on_demand_at_7', 'min_by_cat_id_on_sell_price_at_7', 'min_by_cat_id_on_demand_at_7', 'max_by_cat_id_on_sell_price_at_7', 'max_by_cat_id_on_demand_at_7', 'stddev_by_cat_id_on_sell_price_at_7', 'stddev_by_cat_id_on_demand_at_7', 'mean_by_cat_id_on_sell_price_at_14', 'mean_by_cat_id_on_demand_at_14', 'min_by_cat_id_on_sell_price_at_14', 'min_by_cat_id_on_demand_at_14', 'max_by_cat_id_on_sell_price_at_14', 'max_by_cat_id_on_demand_at_14', 'stddev_by_cat_id_on_sell_price_at_14', 'stddev_by_cat_id_on_demand_at_14', 'mean_by_cat_id_on_sell_price_at_30', 'mean_by_cat_id_on_demand_at_30', 'min_by_cat_id_on_sell_price_at_30', 'min_by_cat_id_on_demand_at_30', 'max_by_cat_id_on_sell_price_at_30', 'max_by_cat_id_on_demand_at_30', 'stddev_by_cat_id_on_sell_price_at_30', 'stddev_by_cat_id_on_demand_at_30', 'mean_by_cat_id_on_sell_price_at_60', 'mean_by_cat_id_on_demand_at_60', 'min_by_cat_id_on_sell_price_at_60', 'min_by_cat_id_on_demand_at_60', 'max_by_cat_id_on_sell_price_at_60', 'max_by_cat_id_on_demand_at_60', 'stddev_by_cat_id_on_sell_price_at_60', 'stddev_by_cat_id_on_demand_at_60', 'mean_by_cat_id_on_sell_price_at_90', 'mean_by_cat_id_on_demand_at_90', 'min_by_cat_id_on_sell_price_at_90', 'min_by_cat_id_on_demand_at_90', 'max_by_cat_id_on_sell_price_at_90', 'max_by_cat_id_on_demand_at_90', 'stddev_by_cat_id_on_sell_price_at_90', 'stddev_by_cat_id_on_demand_at_90', 'mean_by_store_id_on_sell_price_at_7', 'mean_by_store_id_on_demand_at_7', 'min_by_store_id_on_sell_price_at_7', 'min_by_store_id_on_demand_at_7', 'max_by_store_id_on_sell_price_at_7', 'max_by_store_id_on_demand_at_7', 'stddev_by_store_id_on_sell_price_at_7', 'stddev_by_store_id_on_demand_at_7', 'mean_by_store_id_on_sell_price_at_14', 'mean_by_store_id_on_demand_at_14', 'min_by_store_id_on_sell_price_at_14', 'min_by_store_id_on_demand_at_14', 'max_by_store_id_on_sell_price_at_14', 'max_by_store_id_on_demand_at_14', 'stddev_by_store_id_on_sell_price_at_14', 'stddev_by_store_id_on_demand_at_14', 'mean_by_store_id_on_sell_price_at_30', 'mean_by_store_id_on_demand_at_30', 'min_by_store_id_on_sell_price_at_30', 'min_by_store_id_on_demand_at_30', 'max_by_store_id_on_sell_price_at_30', 'max_by_store_id_on_demand_at_30', 'stddev_by_store_id_on_sell_price_at_30', 'stddev_by_store_id_on_demand_at_30', 'mean_by_store_id_on_sell_price_at_60', 'mean_by_store_id_on_demand_at_60', 'min_by_store_id_on_sell_price_at_60', 'min_by_store_id_on_demand_at_60', 'max_by_store_id_on_sell_price_at_60', 'max_by_store_id_on_demand_at_60', 'stddev_by_store_id_on_sell_price_at_60', 'stddev_by_store_id_on_demand_at_60', 'mean_by_store_id_on_sell_price_at_90', 'mean_by_store_id_on_demand_at_90', 'min_by_store_id_on_sell_price_at_90', 'min_by_store_id_on_demand_at_90', 'max_by_store_id_on_sell_price_at_90', 'max_by_store_id_on_demand_at_90', 'stddev_by_store_id_on_sell_price_at_90', 'stddev_by_store_id_on_demand_at_90', 'mean_by_state_id_on_sell_price_at_7', 'mean_by_state_id_on_demand_at_7', 'min_by_state_id_on_sell_price_at_7', 'min_by_state_id_on_demand_at_7', 'max_by_state_id_on_sell_price_at_7', 'max_by_state_id_on_demand_at_7', 'stddev_by_state_id_on_sell_price_at_7', 'stddev_by_state_id_on_demand_at_7', 'mean_by_state_id_on_sell_price_at_14', 'mean_by_state_id_on_demand_at_14', 'min_by_state_id_on_sell_price_at_14', 'min_by_state_id_on_demand_at_14', 'max_by_state_id_on_sell_price_at_14', 'max_by_state_id_on_demand_at_14', 'stddev_by_state_id_on_sell_price_at_14', 'stddev_by_state_id_on_demand_at_14', 'mean_by_state_id_on_sell_price_at_30', 'mean_by_state_id_on_demand_at_30', 'min_by_state_id_on_sell_price_at_30', 'min_by_state_id_on_demand_at_30', 'max_by_state_id_on_sell_price_at_30', 'max_by_state_id_on_demand_at_30', 'stddev_by_state_id_on_sell_price_at_30', 'stddev_by_state_id_on_demand_at_30', 'mean_by_state_id_on_sell_price_at_60', 'mean_by_state_id_on_demand_at_60', 'min_by_state_id_on_sell_price_at_60', 'min_by_state_id_on_demand_at_60', 'max_by_state_id_on_sell_price_at_60', 'max_by_state_id_on_demand_at_60', 'stddev_by_state_id_on_sell_price_at_60', 'stddev_by_state_id_on_demand_at_60', 'mean_by_state_id_on_sell_price_at_90', 'mean_by_state_id_on_demand_at_90', 'min_by_state_id_on_sell_price_at_90', 'min_by_state_id_on_demand_at_90', 'max_by_state_id_on_sell_price_at_90', 'max_by_state_id_on_demand_at_90', 'stddev_by_state_id_on_sell_price_at_90', 'stddev_by_state_id_on_demand_at_90', 'mean_by_dept_idstore_id_on_sell_price_at_7', 'mean_by_dept_idstore_id_on_demand_at_7', 'min_by_dept_idstore_id_on_sell_price_at_7', 'min_by_dept_idstore_id_on_demand_at_7', 'max_by_dept_idstore_id_on_sell_price_at_7', 'max_by_dept_idstore_id_on_demand_at_7', 'stddev_by_dept_idstore_id_on_sell_price_at_7', 'stddev_by_dept_idstore_id_on_demand_at_7', 'mean_by_dept_idstore_id_on_sell_price_at_14', 'mean_by_dept_idstore_id_on_demand_at_14', 'min_by_dept_idstore_id_on_sell_price_at_14', 'min_by_dept_idstore_id_on_demand_at_14', 'max_by_dept_idstore_id_on_sell_price_at_14', 'max_by_dept_idstore_id_on_demand_at_14', 'stddev_by_dept_idstore_id_on_sell_price_at_14', 'stddev_by_dept_idstore_id_on_demand_at_14', 'mean_by_dept_idstore_id_on_sell_price_at_30', 'mean_by_dept_idstore_id_on_demand_at_30', 'min_by_dept_idstore_id_on_sell_price_at_30', 'min_by_dept_idstore_id_on_demand_at_30', 'max_by_dept_idstore_id_on_sell_price_at_30', 'max_by_dept_idstore_id_on_demand_at_30', 'stddev_by_dept_idstore_id_on_sell_price_at_30', 'stddev_by_dept_idstore_id_on_demand_at_30', 'mean_by_dept_idstore_id_on_sell_price_at_60', 'mean_by_dept_idstore_id_on_demand_at_60', 'min_by_dept_idstore_id_on_sell_price_at_60', 'min_by_dept_idstore_id_on_demand_at_60', 'max_by_dept_idstore_id_on_sell_price_at_60', 'max_by_dept_idstore_id_on_demand_at_60', 'stddev_by_dept_idstore_id_on_sell_price_at_60', 'stddev_by_dept_idstore_id_on_demand_at_60', 'mean_by_dept_idstore_id_on_sell_price_at_90', 'mean_by_dept_idstore_id_on_demand_at_90', 'min_by_dept_idstore_id_on_sell_price_at_90', 'min_by_dept_idstore_id_on_demand_at_90', 'max_by_dept_idstore_id_on_sell_price_at_90', 'max_by_dept_idstore_id_on_demand_at_90', 'stddev_by_dept_idstore_id_on_sell_price_at_90', 'stddev_by_dept_idstore_id_on_demand_at_90']\n",
      "save cache to /mnt/m5_all_train_data/ex1_inference_shift=0_i=5.parquet with columns=281\n"
     ]
    },
    {
     "name": "stdout",
     "output_type": "stream",
     "text": [
      "3902440\n",
      "['day', 'cat_id', 'store_id', 'dept_id', 'state_id', 'item_id', 'id', 'demand', 'date', 'wm_yr_wk', 'event_type_1', 'event_type_2', 'snap_CA', 'snap_TX', 'snap_WI', 'sell_price', 'previous_sell_price_by_item_id&store_id_at_1', 'previous_sell_price_by_item_id&store_id_at_2', 'previous_sell_price_by_item_id&store_id_at_3', 'previous_sell_price_by_item_id&store_id_at_4', 'previous_sell_price_by_item_id&store_id_at_5', 'previous_sell_price_by_item_id&store_id_at_6', 'previous_sell_price_by_item_id&store_id_at_7', 'previous_sell_price_by_item_id&store_id_at_8', 'previous_sell_price_by_item_id&store_id_at_9', 'previous_demand_by_item_id&store_id_at_1', 'previous_demand_by_item_id&store_id_at_2', 'previous_demand_by_item_id&store_id_at_3', 'previous_demand_by_item_id&store_id_at_4', 'previous_demand_by_item_id&store_id_at_5', 'previous_demand_by_item_id&store_id_at_6', 'previous_demand_by_item_id&store_id_at_7', 'previous_demand_by_item_id&store_id_at_8', 'previous_demand_by_item_id&store_id_at_9', 'day_of_month', 'day_of_week', 'dat_of_year', 'month', 'year', 'quarter', 'week', 'mean_by_item_idstore_id_on_sell_price_at_7', 'mean_by_item_idstore_id_on_demand_at_7', 'min_by_item_idstore_id_on_sell_price_at_7', 'min_by_item_idstore_id_on_demand_at_7', 'max_by_item_idstore_id_on_sell_price_at_7', 'max_by_item_idstore_id_on_demand_at_7', 'stddev_by_item_idstore_id_on_sell_price_at_7', 'stddev_by_item_idstore_id_on_demand_at_7', 'mean_by_item_idstore_id_on_sell_price_at_14', 'mean_by_item_idstore_id_on_demand_at_14', 'min_by_item_idstore_id_on_sell_price_at_14', 'min_by_item_idstore_id_on_demand_at_14', 'max_by_item_idstore_id_on_sell_price_at_14', 'max_by_item_idstore_id_on_demand_at_14', 'stddev_by_item_idstore_id_on_sell_price_at_14', 'stddev_by_item_idstore_id_on_demand_at_14', 'mean_by_item_idstore_id_on_sell_price_at_30', 'mean_by_item_idstore_id_on_demand_at_30', 'min_by_item_idstore_id_on_sell_price_at_30', 'min_by_item_idstore_id_on_demand_at_30', 'max_by_item_idstore_id_on_sell_price_at_30', 'max_by_item_idstore_id_on_demand_at_30', 'stddev_by_item_idstore_id_on_sell_price_at_30', 'stddev_by_item_idstore_id_on_demand_at_30', 'mean_by_item_idstore_id_on_sell_price_at_60', 'mean_by_item_idstore_id_on_demand_at_60', 'min_by_item_idstore_id_on_sell_price_at_60', 'min_by_item_idstore_id_on_demand_at_60', 'max_by_item_idstore_id_on_sell_price_at_60', 'max_by_item_idstore_id_on_demand_at_60', 'stddev_by_item_idstore_id_on_sell_price_at_60', 'stddev_by_item_idstore_id_on_demand_at_60', 'mean_by_item_idstore_id_on_sell_price_at_90', 'mean_by_item_idstore_id_on_demand_at_90', 'min_by_item_idstore_id_on_sell_price_at_90', 'min_by_item_idstore_id_on_demand_at_90', 'max_by_item_idstore_id_on_sell_price_at_90', 'max_by_item_idstore_id_on_demand_at_90', 'stddev_by_item_idstore_id_on_sell_price_at_90', 'stddev_by_item_idstore_id_on_demand_at_90', 'mean_by_dept_id_on_sell_price_at_7', 'mean_by_dept_id_on_demand_at_7', 'min_by_dept_id_on_sell_price_at_7', 'min_by_dept_id_on_demand_at_7', 'max_by_dept_id_on_sell_price_at_7', 'max_by_dept_id_on_demand_at_7', 'stddev_by_dept_id_on_sell_price_at_7', 'stddev_by_dept_id_on_demand_at_7', 'mean_by_dept_id_on_sell_price_at_14', 'mean_by_dept_id_on_demand_at_14', 'min_by_dept_id_on_sell_price_at_14', 'min_by_dept_id_on_demand_at_14', 'max_by_dept_id_on_sell_price_at_14', 'max_by_dept_id_on_demand_at_14', 'stddev_by_dept_id_on_sell_price_at_14', 'stddev_by_dept_id_on_demand_at_14', 'mean_by_dept_id_on_sell_price_at_30', 'mean_by_dept_id_on_demand_at_30', 'min_by_dept_id_on_sell_price_at_30', 'min_by_dept_id_on_demand_at_30', 'max_by_dept_id_on_sell_price_at_30', 'max_by_dept_id_on_demand_at_30', 'stddev_by_dept_id_on_sell_price_at_30', 'stddev_by_dept_id_on_demand_at_30', 'mean_by_dept_id_on_sell_price_at_60', 'mean_by_dept_id_on_demand_at_60', 'min_by_dept_id_on_sell_price_at_60', 'min_by_dept_id_on_demand_at_60', 'max_by_dept_id_on_sell_price_at_60', 'max_by_dept_id_on_demand_at_60', 'stddev_by_dept_id_on_sell_price_at_60', 'stddev_by_dept_id_on_demand_at_60', 'mean_by_dept_id_on_sell_price_at_90', 'mean_by_dept_id_on_demand_at_90', 'min_by_dept_id_on_sell_price_at_90', 'min_by_dept_id_on_demand_at_90', 'max_by_dept_id_on_sell_price_at_90', 'max_by_dept_id_on_demand_at_90', 'stddev_by_dept_id_on_sell_price_at_90', 'stddev_by_dept_id_on_demand_at_90', 'mean_by_cat_id_on_sell_price_at_7', 'mean_by_cat_id_on_demand_at_7', 'min_by_cat_id_on_sell_price_at_7', 'min_by_cat_id_on_demand_at_7', 'max_by_cat_id_on_sell_price_at_7', 'max_by_cat_id_on_demand_at_7', 'stddev_by_cat_id_on_sell_price_at_7', 'stddev_by_cat_id_on_demand_at_7', 'mean_by_cat_id_on_sell_price_at_14', 'mean_by_cat_id_on_demand_at_14', 'min_by_cat_id_on_sell_price_at_14', 'min_by_cat_id_on_demand_at_14', 'max_by_cat_id_on_sell_price_at_14', 'max_by_cat_id_on_demand_at_14', 'stddev_by_cat_id_on_sell_price_at_14', 'stddev_by_cat_id_on_demand_at_14', 'mean_by_cat_id_on_sell_price_at_30', 'mean_by_cat_id_on_demand_at_30', 'min_by_cat_id_on_sell_price_at_30', 'min_by_cat_id_on_demand_at_30', 'max_by_cat_id_on_sell_price_at_30', 'max_by_cat_id_on_demand_at_30', 'stddev_by_cat_id_on_sell_price_at_30', 'stddev_by_cat_id_on_demand_at_30', 'mean_by_cat_id_on_sell_price_at_60', 'mean_by_cat_id_on_demand_at_60', 'min_by_cat_id_on_sell_price_at_60', 'min_by_cat_id_on_demand_at_60', 'max_by_cat_id_on_sell_price_at_60', 'max_by_cat_id_on_demand_at_60', 'stddev_by_cat_id_on_sell_price_at_60', 'stddev_by_cat_id_on_demand_at_60', 'mean_by_cat_id_on_sell_price_at_90', 'mean_by_cat_id_on_demand_at_90', 'min_by_cat_id_on_sell_price_at_90', 'min_by_cat_id_on_demand_at_90', 'max_by_cat_id_on_sell_price_at_90', 'max_by_cat_id_on_demand_at_90', 'stddev_by_cat_id_on_sell_price_at_90', 'stddev_by_cat_id_on_demand_at_90', 'mean_by_store_id_on_sell_price_at_7', 'mean_by_store_id_on_demand_at_7', 'min_by_store_id_on_sell_price_at_7', 'min_by_store_id_on_demand_at_7', 'max_by_store_id_on_sell_price_at_7', 'max_by_store_id_on_demand_at_7', 'stddev_by_store_id_on_sell_price_at_7', 'stddev_by_store_id_on_demand_at_7', 'mean_by_store_id_on_sell_price_at_14', 'mean_by_store_id_on_demand_at_14', 'min_by_store_id_on_sell_price_at_14', 'min_by_store_id_on_demand_at_14', 'max_by_store_id_on_sell_price_at_14', 'max_by_store_id_on_demand_at_14', 'stddev_by_store_id_on_sell_price_at_14', 'stddev_by_store_id_on_demand_at_14', 'mean_by_store_id_on_sell_price_at_30', 'mean_by_store_id_on_demand_at_30', 'min_by_store_id_on_sell_price_at_30', 'min_by_store_id_on_demand_at_30', 'max_by_store_id_on_sell_price_at_30', 'max_by_store_id_on_demand_at_30', 'stddev_by_store_id_on_sell_price_at_30', 'stddev_by_store_id_on_demand_at_30', 'mean_by_store_id_on_sell_price_at_60', 'mean_by_store_id_on_demand_at_60', 'min_by_store_id_on_sell_price_at_60', 'min_by_store_id_on_demand_at_60', 'max_by_store_id_on_sell_price_at_60', 'max_by_store_id_on_demand_at_60', 'stddev_by_store_id_on_sell_price_at_60', 'stddev_by_store_id_on_demand_at_60', 'mean_by_store_id_on_sell_price_at_90', 'mean_by_store_id_on_demand_at_90', 'min_by_store_id_on_sell_price_at_90', 'min_by_store_id_on_demand_at_90', 'max_by_store_id_on_sell_price_at_90', 'max_by_store_id_on_demand_at_90', 'stddev_by_store_id_on_sell_price_at_90', 'stddev_by_store_id_on_demand_at_90', 'mean_by_state_id_on_sell_price_at_7', 'mean_by_state_id_on_demand_at_7', 'min_by_state_id_on_sell_price_at_7', 'min_by_state_id_on_demand_at_7', 'max_by_state_id_on_sell_price_at_7', 'max_by_state_id_on_demand_at_7', 'stddev_by_state_id_on_sell_price_at_7', 'stddev_by_state_id_on_demand_at_7', 'mean_by_state_id_on_sell_price_at_14', 'mean_by_state_id_on_demand_at_14', 'min_by_state_id_on_sell_price_at_14', 'min_by_state_id_on_demand_at_14', 'max_by_state_id_on_sell_price_at_14', 'max_by_state_id_on_demand_at_14', 'stddev_by_state_id_on_sell_price_at_14', 'stddev_by_state_id_on_demand_at_14', 'mean_by_state_id_on_sell_price_at_30', 'mean_by_state_id_on_demand_at_30', 'min_by_state_id_on_sell_price_at_30', 'min_by_state_id_on_demand_at_30', 'max_by_state_id_on_sell_price_at_30', 'max_by_state_id_on_demand_at_30', 'stddev_by_state_id_on_sell_price_at_30', 'stddev_by_state_id_on_demand_at_30', 'mean_by_state_id_on_sell_price_at_60', 'mean_by_state_id_on_demand_at_60', 'min_by_state_id_on_sell_price_at_60', 'min_by_state_id_on_demand_at_60', 'max_by_state_id_on_sell_price_at_60', 'max_by_state_id_on_demand_at_60', 'stddev_by_state_id_on_sell_price_at_60', 'stddev_by_state_id_on_demand_at_60', 'mean_by_state_id_on_sell_price_at_90', 'mean_by_state_id_on_demand_at_90', 'min_by_state_id_on_sell_price_at_90', 'min_by_state_id_on_demand_at_90', 'max_by_state_id_on_sell_price_at_90', 'max_by_state_id_on_demand_at_90', 'stddev_by_state_id_on_sell_price_at_90', 'stddev_by_state_id_on_demand_at_90', 'mean_by_dept_idstore_id_on_sell_price_at_7', 'mean_by_dept_idstore_id_on_demand_at_7', 'min_by_dept_idstore_id_on_sell_price_at_7', 'min_by_dept_idstore_id_on_demand_at_7', 'max_by_dept_idstore_id_on_sell_price_at_7', 'max_by_dept_idstore_id_on_demand_at_7', 'stddev_by_dept_idstore_id_on_sell_price_at_7', 'stddev_by_dept_idstore_id_on_demand_at_7', 'mean_by_dept_idstore_id_on_sell_price_at_14', 'mean_by_dept_idstore_id_on_demand_at_14', 'min_by_dept_idstore_id_on_sell_price_at_14', 'min_by_dept_idstore_id_on_demand_at_14', 'max_by_dept_idstore_id_on_sell_price_at_14', 'max_by_dept_idstore_id_on_demand_at_14', 'stddev_by_dept_idstore_id_on_sell_price_at_14', 'stddev_by_dept_idstore_id_on_demand_at_14', 'mean_by_dept_idstore_id_on_sell_price_at_30', 'mean_by_dept_idstore_id_on_demand_at_30', 'min_by_dept_idstore_id_on_sell_price_at_30', 'min_by_dept_idstore_id_on_demand_at_30', 'max_by_dept_idstore_id_on_sell_price_at_30', 'max_by_dept_idstore_id_on_demand_at_30', 'stddev_by_dept_idstore_id_on_sell_price_at_30', 'stddev_by_dept_idstore_id_on_demand_at_30', 'mean_by_dept_idstore_id_on_sell_price_at_60', 'mean_by_dept_idstore_id_on_demand_at_60', 'min_by_dept_idstore_id_on_sell_price_at_60', 'min_by_dept_idstore_id_on_demand_at_60', 'max_by_dept_idstore_id_on_sell_price_at_60', 'max_by_dept_idstore_id_on_demand_at_60', 'stddev_by_dept_idstore_id_on_sell_price_at_60', 'stddev_by_dept_idstore_id_on_demand_at_60', 'mean_by_dept_idstore_id_on_sell_price_at_90', 'mean_by_dept_idstore_id_on_demand_at_90', 'min_by_dept_idstore_id_on_sell_price_at_90', 'min_by_dept_idstore_id_on_demand_at_90', 'max_by_dept_idstore_id_on_sell_price_at_90', 'max_by_dept_idstore_id_on_demand_at_90', 'stddev_by_dept_idstore_id_on_sell_price_at_90', 'stddev_by_dept_idstore_id_on_demand_at_90', 'mean_by_cat_idstore_id_on_sell_price_at_7', 'mean_by_cat_idstore_id_on_demand_at_7', 'min_by_cat_idstore_id_on_sell_price_at_7', 'min_by_cat_idstore_id_on_demand_at_7', 'max_by_cat_idstore_id_on_sell_price_at_7', 'max_by_cat_idstore_id_on_demand_at_7', 'stddev_by_cat_idstore_id_on_sell_price_at_7', 'stddev_by_cat_idstore_id_on_demand_at_7', 'mean_by_cat_idstore_id_on_sell_price_at_14', 'mean_by_cat_idstore_id_on_demand_at_14', 'min_by_cat_idstore_id_on_sell_price_at_14', 'min_by_cat_idstore_id_on_demand_at_14', 'max_by_cat_idstore_id_on_sell_price_at_14', 'max_by_cat_idstore_id_on_demand_at_14', 'stddev_by_cat_idstore_id_on_sell_price_at_14', 'stddev_by_cat_idstore_id_on_demand_at_14', 'mean_by_cat_idstore_id_on_sell_price_at_30', 'mean_by_cat_idstore_id_on_demand_at_30', 'min_by_cat_idstore_id_on_sell_price_at_30', 'min_by_cat_idstore_id_on_demand_at_30', 'max_by_cat_idstore_id_on_sell_price_at_30', 'max_by_cat_idstore_id_on_demand_at_30', 'stddev_by_cat_idstore_id_on_sell_price_at_30', 'stddev_by_cat_idstore_id_on_demand_at_30', 'mean_by_cat_idstore_id_on_sell_price_at_60', 'mean_by_cat_idstore_id_on_demand_at_60', 'min_by_cat_idstore_id_on_sell_price_at_60', 'min_by_cat_idstore_id_on_demand_at_60', 'max_by_cat_idstore_id_on_sell_price_at_60', 'max_by_cat_idstore_id_on_demand_at_60', 'stddev_by_cat_idstore_id_on_sell_price_at_60', 'stddev_by_cat_idstore_id_on_demand_at_60', 'mean_by_cat_idstore_id_on_sell_price_at_90', 'mean_by_cat_idstore_id_on_demand_at_90', 'min_by_cat_idstore_id_on_sell_price_at_90', 'min_by_cat_idstore_id_on_demand_at_90', 'max_by_cat_idstore_id_on_sell_price_at_90', 'max_by_cat_idstore_id_on_demand_at_90', 'stddev_by_cat_idstore_id_on_sell_price_at_90', 'stddev_by_cat_idstore_id_on_demand_at_90']\n",
      "save cache to /mnt/m5_all_train_data/ex1_inference_shift=0_i=6.parquet with columns=321\n"
     ]
    },
    {
     "name": "stdout",
     "output_type": "stream",
     "text": [
      "3902440\n",
      "generate 305 features\n"
     ]
    }
   ],
   "source": [
    "features = get_features(\n",
    "    inference_data,\n",
    "    cache_prefix=\"ex1_inference_\"\n",
    ").where(SF.col(\"day\") >= 1914)\n",
    "utils.write_parquet(features, f\"{train_data_dir}/ex1_inference_data.parquet\")"
   ]
  },
  {
   "cell_type": "code",
   "execution_count": 10,
   "metadata": {},
   "outputs": [],
   "source": [
    "train_features = utils \\\n",
    "    .read_parquet(f\"{train_data_dir}/ex1_train_data.parquet\") \\\n",
    "    .where(SF.col(\"day\") <= 1913)\n",
    "\n",
    "inference_features = utils \\\n",
    "    .read_parquet(f\"{train_data_dir}/ex1_inference_data.parquet\")\n",
    "\n",
    "features = utils.concatenate([inference_features, train_features])\n",
    "schema = features.schema\n",
    "\n",
    "cast_columns = []\n",
    "for field in schema.fields:\n",
    "    if type(field.dataType) is ST.DoubleType:\n",
    "        cast_columns.append(field.name)\n",
    "        \n",
    "for column in cast_columns:\n",
    "    features = features \\\n",
    "        .withColumn(column, SF.col(column).cast(ST.FloatType()))\n",
    "    \n",
    "utils.write_parquet(features, f\"{train_data_dir}/ex1_all_train_data_repartition.parquet\", single=True)"
   ]
  },
  {
   "cell_type": "code",
   "execution_count": 14,
   "metadata": {},
   "outputs": [],
   "source": [
    "params = {\n",
    "        'boosting_type': 'gbdt',\n",
    "        'objective': 'tweedie',\n",
    "        'tweedie_variance_power': 1.1,\n",
    "        'metric': 'rmse',\n",
    "        'subsample': 0.5,\n",
    "        'subsample_freq': 1,\n",
    "        'learning_rate': 0.03,\n",
    "        'num_leaves': 2**11-1,\n",
    "        'min_data_in_leaf': 2**12-1,\n",
    "        'feature_fraction': 0.5,\n",
    "        'max_bin': 100,\n",
    "        'boost_from_average': False,\n",
    "}"
   ]
  },
  {
   "cell_type": "code",
   "execution_count": 15,
   "metadata": {},
   "outputs": [],
   "source": [
    "# define custom loss function\n",
    "def custom_asymmetric_train(y_pred, y_true):\n",
    "    y_true = y_true.get_label()\n",
    "    residual = (y_true - y_pred).astype(\"float\")\n",
    "    grad = np.where(residual < 0, -2 * residual, -2 * residual * 1.15)\n",
    "    hess = np.where(residual < 0, 2, 2 * 1.15)\n",
    "    return grad, hess\n",
    "\n",
    "# define custom evaluation metric\n",
    "def custom_asymmetric_valid(y_pred, y_true):\n",
    "    y_true = y_true.get_label()\n",
    "    residual = (y_true - y_pred).astype(\"float\")\n",
    "    loss = np.where(residual < 0, (residual ** 2) , (residual ** 2) * 1.15) \n",
    "    return \"custom_asymmetric_eval\", np.mean(loss), False\n"
   ]
  },
  {
   "cell_type": "code",
   "execution_count": 9,
   "metadata": {
    "collapsed": true
   },
   "outputs": [
    {
     "name": "stdout",
     "output_type": "stream",
     "text": [
      "processing CA_1\n",
      "processing CA_2\n",
      "processing CA_3\n",
      "processing CA_4\n",
      "processing TX_1\n",
      "processing TX_2\n",
      "processing TX_3\n",
      "processing WI_1\n",
      "processing WI_2\n",
      "processing WI_3\n"
     ]
    }
   ],
   "source": [
    "from sklearn.metrics import mean_squared_error\n",
    "\n",
    "train_datas = []\n",
    "evaluate_datas = []\n",
    "\n",
    "for store_id in stores:\n",
    "    print(f\"processing {store_id}\")\n",
    "    features = utils.read_parquet(f\"{train_data_dir}/{store_id}_data.parquet\")\n",
    "    train_datas.append(features \\\n",
    "        .where(SF.col(\"day\") <= 1913) \\\n",
    "        .where(SF.col(\"day\") > 1120))\n",
    "\n",
    "    evaluate_datas.append(features \\\n",
    "        .where(SF.col(\"day\") > 1913) \\\n",
    "        .where(SF.col(\"day\") <= 1913 + 28))\n",
    "    \n",
    "utils.write_parquet(utils.concatenate(train_datas), \"/mnt/m5_all_train_data/all_train_features.parquet\", single=True)\n",
    "utils.write_parquet(utils.concatenate(evaluate_datas), \"/mnt/m5_all_train_data/all_eval_features.parquet\", single=True)"
   ]
  },
  {
   "cell_type": "code",
   "execution_count": 7,
   "metadata": {},
   "outputs": [],
   "source": [
    "train_data = utils.read_pandas_parquet_from_spark(f\"/mnt/m5_all_train_data/ex1_all_train_data_repartition.parquet/part-00000-2359a11b-2e74-4b5d-af61-adcf6edd274c-c000.snappy.parquet\")"
   ]
  },
  {
   "cell_type": "code",
   "execution_count": 8,
   "metadata": {},
   "outputs": [
    {
     "data": {
      "text/plain": [
       "(37586244, 321)"
      ]
     },
     "execution_count": 8,
     "metadata": {},
     "output_type": "execute_result"
    }
   ],
   "source": [
    "train_data.shape"
   ]
  },
  {
   "cell_type": "code",
   "execution_count": 9,
   "metadata": {},
   "outputs": [],
   "source": [
    "train_data[\"store_id\"] = train_data[\"store_id\"].apply(stores.index)"
   ]
  },
  {
   "cell_type": "code",
   "execution_count": 10,
   "metadata": {},
   "outputs": [],
   "source": [
    "target_length = 28\n",
    "evaluate_day = 1914\n",
    "test_start_day = evaluate_day - target_length * 10\n",
    "train_start_day = test_start_day - target_length * 16\n",
    "\n",
    "evaluate_data = train_data[train_data.day == evaluate_day]\n",
    "\n",
    "test_data = train_data[(train_data.day >= test_start_day) & (train_data.day < evaluate_day)]\n",
    "\n",
    "train_data = train_data[(train_data.day < test_start_day) & (train_data.day > train_start_day)]\n",
    "\n",
    "train_target = train_data[[\"id\", \"day\", \"demand\"]]\n",
    "train_data = train_data[train_data.day < test_start_day - target_length]\n",
    "\n",
    "test_target = test_data[[\"id\", \"day\", \"demand\"]]\n",
    "test_data = test_data[test_data.day < evaluate_day - target_length]"
   ]
  },
  {
   "cell_type": "code",
   "execution_count": 11,
   "metadata": {},
   "outputs": [],
   "source": [
    "def make_shift_target(df, target, k):\n",
    "    df = df[[\"id\", \"day\"]]\n",
    "    target = target[[\"id\", \"day\", \"demand\"]]\n",
    "    target.day = target.day - (k - 1) # because initial shift=1\n",
    "    df = df.merge(target, on=[\"id\", \"day\"], how=\"left\")\n",
    "    \n",
    "    print(f\"have nans {df.demand.isna().sum()} in {df.shape[0]} samples({float(df.demand.isna().sum()) / df.shape[0]}%)\")\n",
    "    \n",
    "#     df_shape = df.shape[0]\n",
    "#     df = df.dropna(subset=[\"demand\"])\n",
    "#     if df_shape != df.shape[0]:\n",
    "#         print(f\"пиздец, должно быть {df_shape} а получилось {df.shape[0]}, иди чини еблан\")\n",
    "        \n",
    "    return df[\"demand\"].fillna(0)"
   ]
  },
  {
   "cell_type": "code",
   "execution_count": 12,
   "metadata": {},
   "outputs": [],
   "source": [
    "# if without lags\n",
    "drop_columns = []\n",
    "\n",
    "for column in train_data.columns:\n",
    "    if column.startswith(\"previous_demand\"):\n",
    "        drop_columns.append(column)\n",
    "        \n",
    "train_data.drop(columns=drop_columns, inplace=True)\n",
    "evaluate_data.drop(columns=drop_columns, inplace=True)\n",
    "test_data.drop(columns=drop_columns, inplace=True)"
   ]
  },
  {
   "cell_type": "code",
   "execution_count": 12,
   "metadata": {},
   "outputs": [],
   "source": [
    "feature_names = list(train_data.columns)\n",
    "for column in non_feature_columns + ['demand']:\n",
    "    feature_names.remove(column)"
   ]
  },
  {
   "cell_type": "code",
   "execution_count": 16,
   "metadata": {},
   "outputs": [
    {
     "data": {
      "application/vnd.jupyter.widget-view+json": {
       "model_id": "c2e34a023e26488199a5a9b3040859fa",
       "version_major": 2,
       "version_minor": 0
      },
      "text/plain": [
       "HBox(children=(IntProgress(value=0, max=27), HTML(value='')))"
      ]
     },
     "metadata": {},
     "output_type": "display_data"
    },
    {
     "name": "stdout",
     "output_type": "stream",
     "text": [
      "make shifting..\n",
      "have nans 0 in 12277556 samples(0.0%)\n",
      "have nans 0 in 7672008 samples(0.0%)\n",
      "setting labels..\n",
      "start training..\n"
     ]
    },
    {
     "name": "stderr",
     "output_type": "stream",
     "text": [
      "/home/timothyxp/yes/lib/python3.7/site-packages/lightgbm/basic.py:1243: UserWarning: Using categorical_feature in Dataset.\n",
      "  warnings.warn('Using categorical_feature in Dataset.')\n"
     ]
    },
    {
     "name": "stdout",
     "output_type": "stream",
     "text": [
      "Training until validation scores don't improve for 50 rounds\n",
      "[50]\ttraining's rmse: 2.3123\ttraining's custom_asymmetric_eval: 6.04329\tvalid_1's rmse: 2.26409\tvalid_1's custom_asymmetric_eval: 5.78968\n",
      "[100]\ttraining's rmse: 2.11117\ttraining's custom_asymmetric_eval: 4.95997\tvalid_1's rmse: 2.07475\tvalid_1's custom_asymmetric_eval: 4.78909\n",
      "[150]\ttraining's rmse: 2.069\ttraining's custom_asymmetric_eval: 4.74016\tvalid_1's rmse: 2.04283\tvalid_1's custom_asymmetric_eval: 4.62489\n",
      "[200]\ttraining's rmse: 2.04256\ttraining's custom_asymmetric_eval: 4.61298\tvalid_1's rmse: 2.02783\tvalid_1's custom_asymmetric_eval: 4.55641\n",
      "[250]\ttraining's rmse: 2.02697\ttraining's custom_asymmetric_eval: 4.54081\tvalid_1's rmse: 2.021\tvalid_1's custom_asymmetric_eval: 4.52718\n",
      "[300]\ttraining's rmse: 2.01595\ttraining's custom_asymmetric_eval: 4.49054\tvalid_1's rmse: 2.01648\tvalid_1's custom_asymmetric_eval: 4.50864\n",
      "[350]\ttraining's rmse: 2.0067\ttraining's custom_asymmetric_eval: 4.44902\tvalid_1's rmse: 2.01283\tvalid_1's custom_asymmetric_eval: 4.4934\n",
      "[400]\ttraining's rmse: 1.99879\ttraining's custom_asymmetric_eval: 4.41342\tvalid_1's rmse: 2.01029\tvalid_1's custom_asymmetric_eval: 4.48267\n",
      "[450]\ttraining's rmse: 1.99207\ttraining's custom_asymmetric_eval: 4.38381\tvalid_1's rmse: 2.00937\tvalid_1's custom_asymmetric_eval: 4.47956\n",
      "[500]\ttraining's rmse: 1.98576\ttraining's custom_asymmetric_eval: 4.35596\tvalid_1's rmse: 2.00862\tvalid_1's custom_asymmetric_eval: 4.47777\n",
      "[550]\ttraining's rmse: 1.97976\ttraining's custom_asymmetric_eval: 4.32969\tvalid_1's rmse: 2.00771\tvalid_1's custom_asymmetric_eval: 4.47482\n",
      "[600]\ttraining's rmse: 1.974\ttraining's custom_asymmetric_eval: 4.30413\tvalid_1's rmse: 2.00662\tvalid_1's custom_asymmetric_eval: 4.47059\n",
      "[650]\ttraining's rmse: 1.96856\ttraining's custom_asymmetric_eval: 4.28004\tvalid_1's rmse: 2.00624\tvalid_1's custom_asymmetric_eval: 4.47022\n",
      "Early stopping, best iteration is:\n",
      "[618]\ttraining's rmse: 1.97208\ttraining's custom_asymmetric_eval: 4.29562\tvalid_1's rmse: 2.00629\tvalid_1's custom_asymmetric_eval: 4.46928\n",
      "make shifting..\n",
      "have nans 0 in 12277556 samples(0.0%)\n",
      "have nans 0 in 7672008 samples(0.0%)\n",
      "setting labels..\n",
      "start training..\n",
      "Training until validation scores don't improve for 50 rounds\n",
      "[50]\ttraining's rmse: 2.35224\ttraining's custom_asymmetric_eval: 6.25135\tvalid_1's rmse: 2.30087\tvalid_1's custom_asymmetric_eval: 5.98063\n",
      "[100]\ttraining's rmse: 2.15904\ttraining's custom_asymmetric_eval: 5.18616\tvalid_1's rmse: 2.11532\tvalid_1's custom_asymmetric_eval: 4.98074\n",
      "[150]\ttraining's rmse: 2.11811\ttraining's custom_asymmetric_eval: 4.9669\tvalid_1's rmse: 2.08694\tvalid_1's custom_asymmetric_eval: 4.82731\n",
      "[200]\ttraining's rmse: 2.09239\ttraining's custom_asymmetric_eval: 4.8401\tvalid_1's rmse: 2.07516\tvalid_1's custom_asymmetric_eval: 4.76926\n",
      "[250]\ttraining's rmse: 2.07561\ttraining's custom_asymmetric_eval: 4.76037\tvalid_1's rmse: 2.0696\tvalid_1's custom_asymmetric_eval: 4.74708\n",
      "[300]\ttraining's rmse: 2.06482\ttraining's custom_asymmetric_eval: 4.70984\tvalid_1's rmse: 2.06714\tvalid_1's custom_asymmetric_eval: 4.73778\n",
      "[350]\ttraining's rmse: 2.05587\ttraining's custom_asymmetric_eval: 4.66874\tvalid_1's rmse: 2.06609\tvalid_1's custom_asymmetric_eval: 4.73581\n",
      "[400]\ttraining's rmse: 2.0479\ttraining's custom_asymmetric_eval: 4.63193\tvalid_1's rmse: 2.06467\tvalid_1's custom_asymmetric_eval: 4.73041\n",
      "[450]\ttraining's rmse: 2.04083\ttraining's custom_asymmetric_eval: 4.59968\tvalid_1's rmse: 2.06429\tvalid_1's custom_asymmetric_eval: 4.73089\n",
      "Early stopping, best iteration is:\n",
      "[435]\ttraining's rmse: 2.04304\ttraining's custom_asymmetric_eval: 4.6098\tvalid_1's rmse: 2.06391\tvalid_1's custom_asymmetric_eval: 4.72761\n",
      "make shifting..\n",
      "have nans 0 in 12277556 samples(0.0%)\n",
      "have nans 0 in 7672008 samples(0.0%)\n",
      "setting labels..\n",
      "start training..\n",
      "Training until validation scores don't improve for 50 rounds\n",
      "[50]\ttraining's rmse: 2.37817\ttraining's custom_asymmetric_eval: 6.38834\tvalid_1's rmse: 2.32242\tvalid_1's custom_asymmetric_eval: 6.09434\n",
      "[100]\ttraining's rmse: 2.19045\ttraining's custom_asymmetric_eval: 5.33709\tvalid_1's rmse: 2.13773\tvalid_1's custom_asymmetric_eval: 5.09054\n",
      "[150]\ttraining's rmse: 2.15028\ttraining's custom_asymmetric_eval: 5.11838\tvalid_1's rmse: 2.10962\tvalid_1's custom_asymmetric_eval: 4.93761\n",
      "[200]\ttraining's rmse: 2.12349\ttraining's custom_asymmetric_eval: 4.98434\tvalid_1's rmse: 2.09423\tvalid_1's custom_asymmetric_eval: 4.86068\n",
      "[250]\ttraining's rmse: 2.10734\ttraining's custom_asymmetric_eval: 4.90641\tvalid_1's rmse: 2.08888\tvalid_1's custom_asymmetric_eval: 4.83813\n",
      "[300]\ttraining's rmse: 2.09632\ttraining's custom_asymmetric_eval: 4.85408\tvalid_1's rmse: 2.08564\tvalid_1's custom_asymmetric_eval: 4.82315\n",
      "[350]\ttraining's rmse: 2.08602\ttraining's custom_asymmetric_eval: 4.80583\tvalid_1's rmse: 2.08466\tvalid_1's custom_asymmetric_eval: 4.82119\n",
      "[400]\ttraining's rmse: 2.0767\ttraining's custom_asymmetric_eval: 4.76273\tvalid_1's rmse: 2.0838\tvalid_1's custom_asymmetric_eval: 4.81827\n",
      "Early stopping, best iteration is:\n",
      "[371]\ttraining's rmse: 2.08201\ttraining's custom_asymmetric_eval: 4.78734\tvalid_1's rmse: 2.08394\tvalid_1's custom_asymmetric_eval: 4.81765\n",
      "make shifting..\n",
      "have nans 0 in 12277556 samples(0.0%)\n",
      "have nans 0 in 7672008 samples(0.0%)\n",
      "setting labels..\n",
      "start training..\n",
      "Training until validation scores don't improve for 50 rounds\n",
      "[50]\ttraining's rmse: 2.39387\ttraining's custom_asymmetric_eval: 6.47155\tvalid_1's rmse: 2.33721\tvalid_1's custom_asymmetric_eval: 6.17241\n",
      "[100]\ttraining's rmse: 2.21051\ttraining's custom_asymmetric_eval: 5.43473\tvalid_1's rmse: 2.15471\tvalid_1's custom_asymmetric_eval: 5.17325\n",
      "[150]\ttraining's rmse: 2.17084\ttraining's custom_asymmetric_eval: 5.21631\tvalid_1's rmse: 2.12692\tvalid_1's custom_asymmetric_eval: 5.01954\n",
      "[200]\ttraining's rmse: 2.14389\ttraining's custom_asymmetric_eval: 5.0804\tvalid_1's rmse: 2.11136\tvalid_1's custom_asymmetric_eval: 4.93943\n",
      "[250]\ttraining's rmse: 2.12576\ttraining's custom_asymmetric_eval: 4.9921\tvalid_1's rmse: 2.10525\tvalid_1's custom_asymmetric_eval: 4.90853\n",
      "[300]\ttraining's rmse: 2.11401\ttraining's custom_asymmetric_eval: 4.93585\tvalid_1's rmse: 2.10315\tvalid_1's custom_asymmetric_eval: 4.90121\n",
      "[350]\ttraining's rmse: 2.10451\ttraining's custom_asymmetric_eval: 4.89123\tvalid_1's rmse: 2.10187\tvalid_1's custom_asymmetric_eval: 4.89773\n",
      "[400]\ttraining's rmse: 2.09474\ttraining's custom_asymmetric_eval: 4.8455\tvalid_1's rmse: 2.10136\tvalid_1's custom_asymmetric_eval: 4.89697\n",
      "[450]\ttraining's rmse: 2.08684\ttraining's custom_asymmetric_eval: 4.80869\tvalid_1's rmse: 2.10053\tvalid_1's custom_asymmetric_eval: 4.89273\n",
      "[500]\ttraining's rmse: 2.07968\ttraining's custom_asymmetric_eval: 4.7757\tvalid_1's rmse: 2.09987\tvalid_1's custom_asymmetric_eval: 4.89108\n",
      "[550]\ttraining's rmse: 2.07204\ttraining's custom_asymmetric_eval: 4.74061\tvalid_1's rmse: 2.09956\tvalid_1's custom_asymmetric_eval: 4.8902\n",
      "Early stopping, best iteration is:\n",
      "[546]\ttraining's rmse: 2.07262\ttraining's custom_asymmetric_eval: 4.74327\tvalid_1's rmse: 2.09936\tvalid_1's custom_asymmetric_eval: 4.88882\n",
      "make shifting..\n",
      "have nans 0 in 12277556 samples(0.0%)\n",
      "have nans 0 in 7672008 samples(0.0%)\n",
      "setting labels..\n",
      "start training..\n",
      "Training until validation scores don't improve for 50 rounds\n",
      "[50]\ttraining's rmse: 2.40428\ttraining's custom_asymmetric_eval: 6.5267\tvalid_1's rmse: 2.34489\tvalid_1's custom_asymmetric_eval: 6.21168\n",
      "[100]\ttraining's rmse: 2.22399\ttraining's custom_asymmetric_eval: 5.50055\tvalid_1's rmse: 2.1654\tvalid_1's custom_asymmetric_eval: 5.2249\n",
      "[150]\ttraining's rmse: 2.18342\ttraining's custom_asymmetric_eval: 5.27624\tvalid_1's rmse: 2.137\tvalid_1's custom_asymmetric_eval: 5.07055\n",
      "[200]\ttraining's rmse: 2.15589\ttraining's custom_asymmetric_eval: 5.13664\tvalid_1's rmse: 2.12434\tvalid_1's custom_asymmetric_eval: 5.00643\n",
      "[250]\ttraining's rmse: 2.13868\ttraining's custom_asymmetric_eval: 5.05243\tvalid_1's rmse: 2.11984\tvalid_1's custom_asymmetric_eval: 4.9844\n",
      "[300]\ttraining's rmse: 2.1258\ttraining's custom_asymmetric_eval: 4.991\tvalid_1's rmse: 2.11817\tvalid_1's custom_asymmetric_eval: 4.97949\n",
      "[350]\ttraining's rmse: 2.11489\ttraining's custom_asymmetric_eval: 4.93956\tvalid_1's rmse: 2.11779\tvalid_1's custom_asymmetric_eval: 4.97977\n",
      "[400]\ttraining's rmse: 2.10467\ttraining's custom_asymmetric_eval: 4.8916\tvalid_1's rmse: 2.11799\tvalid_1's custom_asymmetric_eval: 4.98327\n"
     ]
    },
    {
     "name": "stdout",
     "output_type": "stream",
     "text": [
      "Early stopping, best iteration is:\n",
      "[373]\ttraining's rmse: 2.10983\ttraining's custom_asymmetric_eval: 4.91583\tvalid_1's rmse: 2.1171\tvalid_1's custom_asymmetric_eval: 4.97669\n",
      "make shifting..\n",
      "have nans 0 in 12277556 samples(0.0%)\n",
      "have nans 0 in 7672008 samples(0.0%)\n",
      "setting labels..\n",
      "start training..\n",
      "Training until validation scores don't improve for 50 rounds\n",
      "[50]\ttraining's rmse: 2.41857\ttraining's custom_asymmetric_eval: 6.60366\tvalid_1's rmse: 2.35357\tvalid_1's custom_asymmetric_eval: 6.25555\n",
      "[100]\ttraining's rmse: 2.24198\ttraining's custom_asymmetric_eval: 5.5893\tvalid_1's rmse: 2.17795\tvalid_1's custom_asymmetric_eval: 5.28311\n",
      "[150]\ttraining's rmse: 2.20004\ttraining's custom_asymmetric_eval: 5.35694\tvalid_1's rmse: 2.15071\tvalid_1's custom_asymmetric_eval: 5.13464\n",
      "[200]\ttraining's rmse: 2.17245\ttraining's custom_asymmetric_eval: 5.21633\tvalid_1's rmse: 2.13905\tvalid_1's custom_asymmetric_eval: 5.07584\n",
      "[250]\ttraining's rmse: 2.15444\ttraining's custom_asymmetric_eval: 5.12745\tvalid_1's rmse: 2.13387\tvalid_1's custom_asymmetric_eval: 5.05211\n",
      "[300]\ttraining's rmse: 2.14\ttraining's custom_asymmetric_eval: 5.05814\tvalid_1's rmse: 2.1325\tvalid_1's custom_asymmetric_eval: 5.04875\n",
      "[350]\ttraining's rmse: 2.12875\ttraining's custom_asymmetric_eval: 5.00485\tvalid_1's rmse: 2.13206\tvalid_1's custom_asymmetric_eval: 5.04873\n",
      "Early stopping, best iteration is:\n",
      "[333]\ttraining's rmse: 2.13219\ttraining's custom_asymmetric_eval: 5.02102\tvalid_1's rmse: 2.13194\tvalid_1's custom_asymmetric_eval: 5.04715\n",
      "make shifting..\n",
      "have nans 0 in 12277556 samples(0.0%)\n",
      "have nans 0 in 7672008 samples(0.0%)\n",
      "setting labels..\n",
      "start training..\n",
      "Training until validation scores don't improve for 50 rounds\n",
      "[50]\ttraining's rmse: 2.44272\ttraining's custom_asymmetric_eval: 6.73561\tvalid_1's rmse: 2.37927\tvalid_1's custom_asymmetric_eval: 6.3917\n",
      "[100]\ttraining's rmse: 2.26476\ttraining's custom_asymmetric_eval: 5.70376\tvalid_1's rmse: 2.20243\tvalid_1's custom_asymmetric_eval: 5.40008\n",
      "[150]\ttraining's rmse: 2.22162\ttraining's custom_asymmetric_eval: 5.46271\tvalid_1's rmse: 2.17516\tvalid_1's custom_asymmetric_eval: 5.24758\n",
      "[200]\ttraining's rmse: 2.19226\ttraining's custom_asymmetric_eval: 5.31214\tvalid_1's rmse: 2.16215\tvalid_1's custom_asymmetric_eval: 5.18345\n",
      "[250]\ttraining's rmse: 2.17325\ttraining's custom_asymmetric_eval: 5.21781\tvalid_1's rmse: 2.15715\tvalid_1's custom_asymmetric_eval: 5.15987\n",
      "[300]\ttraining's rmse: 2.1593\ttraining's custom_asymmetric_eval: 5.1502\tvalid_1's rmse: 2.15477\tvalid_1's custom_asymmetric_eval: 5.15183\n",
      "[350]\ttraining's rmse: 2.14665\ttraining's custom_asymmetric_eval: 5.08967\tvalid_1's rmse: 2.15452\tvalid_1's custom_asymmetric_eval: 5.15291\n",
      "Early stopping, best iteration is:\n",
      "[326]\ttraining's rmse: 2.15237\ttraining's custom_asymmetric_eval: 5.11704\tvalid_1's rmse: 2.15425\tvalid_1's custom_asymmetric_eval: 5.14958\n",
      "make shifting..\n",
      "have nans 0 in 12277556 samples(0.0%)\n",
      "have nans 0 in 7672008 samples(0.0%)\n",
      "setting labels..\n",
      "start training..\n",
      "Training until validation scores don't improve for 50 rounds\n",
      "[50]\ttraining's rmse: 2.45898\ttraining's custom_asymmetric_eval: 6.82491\tvalid_1's rmse: 2.39631\tvalid_1's custom_asymmetric_eval: 6.48392\n",
      "[100]\ttraining's rmse: 2.28238\ttraining's custom_asymmetric_eval: 5.79275\tvalid_1's rmse: 2.22296\tvalid_1's custom_asymmetric_eval: 5.50446\n",
      "[150]\ttraining's rmse: 2.24028\ttraining's custom_asymmetric_eval: 5.5551\tvalid_1's rmse: 2.19562\tvalid_1's custom_asymmetric_eval: 5.34866\n",
      "[200]\ttraining's rmse: 2.21151\ttraining's custom_asymmetric_eval: 5.40631\tvalid_1's rmse: 2.1824\tvalid_1's custom_asymmetric_eval: 5.28109\n",
      "[250]\ttraining's rmse: 2.19103\ttraining's custom_asymmetric_eval: 5.30362\tvalid_1's rmse: 2.17576\tvalid_1's custom_asymmetric_eval: 5.24976\n",
      "[300]\ttraining's rmse: 2.17659\ttraining's custom_asymmetric_eval: 5.23286\tvalid_1's rmse: 2.17328\tvalid_1's custom_asymmetric_eval: 5.23858\n",
      "[350]\ttraining's rmse: 2.16406\ttraining's custom_asymmetric_eval: 5.17252\tvalid_1's rmse: 2.1711\tvalid_1's custom_asymmetric_eval: 5.22857\n",
      "Early stopping, best iteration is:\n",
      "[334]\ttraining's rmse: 2.16776\ttraining's custom_asymmetric_eval: 5.19032\tvalid_1's rmse: 2.17106\tvalid_1's custom_asymmetric_eval: 5.22762\n",
      "make shifting..\n",
      "have nans 0 in 12277556 samples(0.0%)\n",
      "have nans 0 in 7672008 samples(0.0%)\n",
      "setting labels..\n",
      "start training..\n",
      "Training until validation scores don't improve for 50 rounds\n",
      "[50]\ttraining's rmse: 2.46958\ttraining's custom_asymmetric_eval: 6.88285\tvalid_1's rmse: 2.41388\tvalid_1's custom_asymmetric_eval: 6.58225\n",
      "[100]\ttraining's rmse: 2.29321\ttraining's custom_asymmetric_eval: 5.8472\tvalid_1's rmse: 2.24033\tvalid_1's custom_asymmetric_eval: 5.59358\n",
      "[150]\ttraining's rmse: 2.25015\ttraining's custom_asymmetric_eval: 5.60369\tvalid_1's rmse: 2.21437\tvalid_1's custom_asymmetric_eval: 5.44427\n",
      "[200]\ttraining's rmse: 2.2211\ttraining's custom_asymmetric_eval: 5.45266\tvalid_1's rmse: 2.20125\tvalid_1's custom_asymmetric_eval: 5.37543\n",
      "[250]\ttraining's rmse: 2.20003\ttraining's custom_asymmetric_eval: 5.34738\tvalid_1's rmse: 2.19583\tvalid_1's custom_asymmetric_eval: 5.34958\n",
      "[300]\ttraining's rmse: 2.18322\ttraining's custom_asymmetric_eval: 5.2649\tvalid_1's rmse: 2.19269\tvalid_1's custom_asymmetric_eval: 5.33611\n",
      "[350]\ttraining's rmse: 2.17131\ttraining's custom_asymmetric_eval: 5.20715\tvalid_1's rmse: 2.19181\tvalid_1's custom_asymmetric_eval: 5.33221\n",
      "[400]\ttraining's rmse: 2.1602\ttraining's custom_asymmetric_eval: 5.15385\tvalid_1's rmse: 2.19127\tvalid_1's custom_asymmetric_eval: 5.33083\n",
      "[450]\ttraining's rmse: 2.15012\ttraining's custom_asymmetric_eval: 5.10596\tvalid_1's rmse: 2.19127\tvalid_1's custom_asymmetric_eval: 5.33196\n",
      "Early stopping, best iteration is:\n",
      "[430]\ttraining's rmse: 2.15398\ttraining's custom_asymmetric_eval: 5.12414\tvalid_1's rmse: 2.19075\tvalid_1's custom_asymmetric_eval: 5.32867\n",
      "make shifting..\n",
      "have nans 0 in 12277556 samples(0.0%)\n",
      "have nans 0 in 7672008 samples(0.0%)\n",
      "setting labels..\n",
      "start training..\n",
      "Training until validation scores don't improve for 50 rounds\n",
      "[50]\ttraining's rmse: 2.48082\ttraining's custom_asymmetric_eval: 6.94463\tvalid_1's rmse: 2.4292\tvalid_1's custom_asymmetric_eval: 6.66831\n",
      "[100]\ttraining's rmse: 2.30515\ttraining's custom_asymmetric_eval: 5.90785\tvalid_1's rmse: 2.25615\tvalid_1's custom_asymmetric_eval: 5.67889\n",
      "[150]\ttraining's rmse: 2.25814\ttraining's custom_asymmetric_eval: 5.64401\tvalid_1's rmse: 2.22671\tvalid_1's custom_asymmetric_eval: 5.51167\n",
      "[200]\ttraining's rmse: 2.22941\ttraining's custom_asymmetric_eval: 5.49351\tvalid_1's rmse: 2.21102\tvalid_1's custom_asymmetric_eval: 5.42827\n",
      "[250]\ttraining's rmse: 2.20957\ttraining's custom_asymmetric_eval: 5.39417\tvalid_1's rmse: 2.20595\tvalid_1's custom_asymmetric_eval: 5.40509\n",
      "[300]\ttraining's rmse: 2.19369\ttraining's custom_asymmetric_eval: 5.31617\tvalid_1's rmse: 2.20272\tvalid_1's custom_asymmetric_eval: 5.39161\n",
      "[350]\ttraining's rmse: 2.18118\ttraining's custom_asymmetric_eval: 5.25546\tvalid_1's rmse: 2.20242\tvalid_1's custom_asymmetric_eval: 5.3928\n",
      "Early stopping, best iteration is:\n",
      "[319]\ttraining's rmse: 2.18858\ttraining's custom_asymmetric_eval: 5.29133\tvalid_1's rmse: 2.20203\tvalid_1's custom_asymmetric_eval: 5.38891\n",
      "make shifting..\n",
      "have nans 0 in 12277556 samples(0.0%)\n",
      "have nans 0 in 7672008 samples(0.0%)\n",
      "setting labels..\n",
      "start training..\n",
      "Training until validation scores don't improve for 50 rounds\n",
      "[50]\ttraining's rmse: 2.4879\ttraining's custom_asymmetric_eval: 6.98327\tvalid_1's rmse: 2.43584\tvalid_1's custom_asymmetric_eval: 6.70354\n",
      "[100]\ttraining's rmse: 2.31354\ttraining's custom_asymmetric_eval: 5.94988\tvalid_1's rmse: 2.2641\tvalid_1's custom_asymmetric_eval: 5.7171\n",
      "[150]\ttraining's rmse: 2.26625\ttraining's custom_asymmetric_eval: 5.68397\tvalid_1's rmse: 2.23413\tvalid_1's custom_asymmetric_eval: 5.53726\n",
      "[200]\ttraining's rmse: 2.23584\ttraining's custom_asymmetric_eval: 5.52503\tvalid_1's rmse: 2.2193\tvalid_1's custom_asymmetric_eval: 5.45044\n",
      "[250]\ttraining's rmse: 2.21389\ttraining's custom_asymmetric_eval: 5.41521\tvalid_1's rmse: 2.21344\tvalid_1's custom_asymmetric_eval: 5.42172\n",
      "[300]\ttraining's rmse: 2.19717\ttraining's custom_asymmetric_eval: 5.333\tvalid_1's rmse: 2.21106\tvalid_1's custom_asymmetric_eval: 5.4112\n",
      "[350]\ttraining's rmse: 2.18462\ttraining's custom_asymmetric_eval: 5.27195\tvalid_1's rmse: 2.20961\tvalid_1's custom_asymmetric_eval: 5.40558\n"
     ]
    },
    {
     "name": "stdout",
     "output_type": "stream",
     "text": [
      "[400]\ttraining's rmse: 2.17328\ttraining's custom_asymmetric_eval: 5.21734\tvalid_1's rmse: 2.20909\tvalid_1's custom_asymmetric_eval: 5.40299\n",
      "Early stopping, best iteration is:\n",
      "[387]\ttraining's rmse: 2.17595\ttraining's custom_asymmetric_eval: 5.23014\tvalid_1's rmse: 2.20883\tvalid_1's custom_asymmetric_eval: 5.40097\n",
      "make shifting..\n",
      "have nans 0 in 12277556 samples(0.0%)\n",
      "have nans 0 in 7672008 samples(0.0%)\n",
      "setting labels..\n",
      "start training..\n",
      "Training until validation scores don't improve for 50 rounds\n",
      "[50]\ttraining's rmse: 2.49389\ttraining's custom_asymmetric_eval: 7.01602\tvalid_1's rmse: 2.42831\tvalid_1's custom_asymmetric_eval: 6.65705\n",
      "[100]\ttraining's rmse: 2.32058\ttraining's custom_asymmetric_eval: 5.98588\tvalid_1's rmse: 2.25691\tvalid_1's custom_asymmetric_eval: 5.66136\n",
      "[150]\ttraining's rmse: 2.27126\ttraining's custom_asymmetric_eval: 5.70886\tvalid_1's rmse: 2.2358\tvalid_1's custom_asymmetric_eval: 5.49084\n",
      "[200]\ttraining's rmse: 2.23895\ttraining's custom_asymmetric_eval: 5.54041\tvalid_1's rmse: 2.23336\tvalid_1's custom_asymmetric_eval: 5.45203\n",
      "[250]\ttraining's rmse: 2.21536\ttraining's custom_asymmetric_eval: 5.42266\tvalid_1's rmse: 2.23165\tvalid_1's custom_asymmetric_eval: 5.43763\n",
      "[300]\ttraining's rmse: 2.19956\ttraining's custom_asymmetric_eval: 5.34494\tvalid_1's rmse: 2.22943\tvalid_1's custom_asymmetric_eval: 5.42605\n",
      "[350]\ttraining's rmse: 2.18632\ttraining's custom_asymmetric_eval: 5.2806\tvalid_1's rmse: 2.22724\tvalid_1's custom_asymmetric_eval: 5.41825\n",
      "[400]\ttraining's rmse: 2.17335\ttraining's custom_asymmetric_eval: 5.21779\tvalid_1's rmse: 2.22673\tvalid_1's custom_asymmetric_eval: 5.41636\n",
      "[450]\ttraining's rmse: 2.16267\ttraining's custom_asymmetric_eval: 5.16667\tvalid_1's rmse: 2.2256\tvalid_1's custom_asymmetric_eval: 5.4132\n",
      "[500]\ttraining's rmse: 2.15315\ttraining's custom_asymmetric_eval: 5.12125\tvalid_1's rmse: 2.22489\tvalid_1's custom_asymmetric_eval: 5.41135\n",
      "[550]\ttraining's rmse: 2.1446\ttraining's custom_asymmetric_eval: 5.08097\tvalid_1's rmse: 2.22442\tvalid_1's custom_asymmetric_eval: 5.41164\n",
      "Early stopping, best iteration is:\n",
      "[516]\ttraining's rmse: 2.15021\ttraining's custom_asymmetric_eval: 5.10734\tvalid_1's rmse: 2.22412\tvalid_1's custom_asymmetric_eval: 5.40943\n",
      "make shifting..\n",
      "have nans 0 in 12277556 samples(0.0%)\n",
      "have nans 0 in 7672008 samples(0.0%)\n",
      "setting labels..\n",
      "start training..\n",
      "Training until validation scores don't improve for 50 rounds\n",
      "[50]\ttraining's rmse: 2.50029\ttraining's custom_asymmetric_eval: 7.05164\tvalid_1's rmse: 2.43218\tvalid_1's custom_asymmetric_eval: 6.67648\n",
      "[100]\ttraining's rmse: 2.3283\ttraining's custom_asymmetric_eval: 6.02574\tvalid_1's rmse: 2.26841\tvalid_1's custom_asymmetric_eval: 5.72668\n",
      "[150]\ttraining's rmse: 2.28005\ttraining's custom_asymmetric_eval: 5.75265\tvalid_1's rmse: 2.24484\tvalid_1's custom_asymmetric_eval: 5.57614\n",
      "[200]\ttraining's rmse: 2.24625\ttraining's custom_asymmetric_eval: 5.57625\tvalid_1's rmse: 2.24411\tvalid_1's custom_asymmetric_eval: 5.56056\n",
      "[250]\ttraining's rmse: 2.22266\ttraining's custom_asymmetric_eval: 5.458\tvalid_1's rmse: 2.23896\tvalid_1's custom_asymmetric_eval: 5.53583\n",
      "[300]\ttraining's rmse: 2.20634\ttraining's custom_asymmetric_eval: 5.37711\tvalid_1's rmse: 2.23685\tvalid_1's custom_asymmetric_eval: 5.52971\n",
      "Early stopping, best iteration is:\n",
      "[290]\ttraining's rmse: 2.20933\ttraining's custom_asymmetric_eval: 5.39186\tvalid_1's rmse: 2.23668\tvalid_1's custom_asymmetric_eval: 5.52829\n",
      "make shifting..\n",
      "have nans 0 in 12277556 samples(0.0%)\n",
      "have nans 0 in 7672008 samples(0.0%)\n",
      "setting labels..\n",
      "start training..\n",
      "Training until validation scores don't improve for 50 rounds\n",
      "[50]\ttraining's rmse: 2.51153\ttraining's custom_asymmetric_eval: 7.11475\tvalid_1's rmse: 2.44276\tvalid_1's custom_asymmetric_eval: 6.73286\n",
      "[100]\ttraining's rmse: 2.33608\ttraining's custom_asymmetric_eval: 6.0664\tvalid_1's rmse: 2.27963\tvalid_1's custom_asymmetric_eval: 5.78167\n",
      "[150]\ttraining's rmse: 2.28659\ttraining's custom_asymmetric_eval: 5.7863\tvalid_1's rmse: 2.25448\tvalid_1's custom_asymmetric_eval: 5.63039\n",
      "[200]\ttraining's rmse: 2.25351\ttraining's custom_asymmetric_eval: 5.61307\tvalid_1's rmse: 2.24623\tvalid_1's custom_asymmetric_eval: 5.59576\n",
      "[250]\ttraining's rmse: 2.23018\ttraining's custom_asymmetric_eval: 5.49504\tvalid_1's rmse: 2.24291\tvalid_1's custom_asymmetric_eval: 5.58766\n",
      "[300]\ttraining's rmse: 2.21405\ttraining's custom_asymmetric_eval: 5.41513\tvalid_1's rmse: 2.24151\tvalid_1's custom_asymmetric_eval: 5.58523\n",
      "[350]\ttraining's rmse: 2.19986\ttraining's custom_asymmetric_eval: 5.34574\tvalid_1's rmse: 2.24072\tvalid_1's custom_asymmetric_eval: 5.58417\n",
      "Early stopping, best iteration is:\n",
      "[321]\ttraining's rmse: 2.20799\ttraining's custom_asymmetric_eval: 5.38538\tvalid_1's rmse: 2.24063\tvalid_1's custom_asymmetric_eval: 5.58096\n",
      "make shifting..\n",
      "have nans 0 in 12277556 samples(0.0%)\n",
      "have nans 0 in 7672008 samples(0.0%)\n",
      "setting labels..\n",
      "start training..\n",
      "Training until validation scores don't improve for 50 rounds\n",
      "[50]\ttraining's rmse: 2.51992\ttraining's custom_asymmetric_eval: 7.16196\tvalid_1's rmse: 2.45096\tvalid_1's custom_asymmetric_eval: 6.77725\n",
      "[100]\ttraining's rmse: 2.34897\ttraining's custom_asymmetric_eval: 6.1316\tvalid_1's rmse: 2.28917\tvalid_1's custom_asymmetric_eval: 5.82574\n",
      "[150]\ttraining's rmse: 2.29921\ttraining's custom_asymmetric_eval: 5.84885\tvalid_1's rmse: 2.26505\tvalid_1's custom_asymmetric_eval: 5.676\n",
      "[200]\ttraining's rmse: 2.26364\ttraining's custom_asymmetric_eval: 5.66262\tvalid_1's rmse: 2.25429\tvalid_1's custom_asymmetric_eval: 5.6186\n",
      "[250]\ttraining's rmse: 2.2398\ttraining's custom_asymmetric_eval: 5.54186\tvalid_1's rmse: 2.25\tvalid_1's custom_asymmetric_eval: 5.60173\n",
      "[300]\ttraining's rmse: 2.22161\ttraining's custom_asymmetric_eval: 5.45149\tvalid_1's rmse: 2.24739\tvalid_1's custom_asymmetric_eval: 5.58997\n",
      "[350]\ttraining's rmse: 2.20674\ttraining's custom_asymmetric_eval: 5.37892\tvalid_1's rmse: 2.24661\tvalid_1's custom_asymmetric_eval: 5.5894\n",
      "Early stopping, best iteration is:\n",
      "[304]\ttraining's rmse: 2.22035\ttraining's custom_asymmetric_eval: 5.4452\tvalid_1's rmse: 2.24722\tvalid_1's custom_asymmetric_eval: 5.58908\n",
      "make shifting..\n",
      "have nans 0 in 12277556 samples(0.0%)\n",
      "have nans 0 in 7672008 samples(0.0%)\n",
      "setting labels..\n",
      "start training..\n",
      "Training until validation scores don't improve for 50 rounds\n",
      "[50]\ttraining's rmse: 2.52649\ttraining's custom_asymmetric_eval: 7.19804\tvalid_1's rmse: 2.46147\tvalid_1's custom_asymmetric_eval: 6.83711\n",
      "[100]\ttraining's rmse: 2.35571\ttraining's custom_asymmetric_eval: 6.16604\tvalid_1's rmse: 2.30051\tvalid_1's custom_asymmetric_eval: 5.88362\n",
      "[150]\ttraining's rmse: 2.30585\ttraining's custom_asymmetric_eval: 5.88193\tvalid_1's rmse: 2.2783\tvalid_1's custom_asymmetric_eval: 5.74369\n",
      "[200]\ttraining's rmse: 2.27225\ttraining's custom_asymmetric_eval: 5.70495\tvalid_1's rmse: 2.26937\tvalid_1's custom_asymmetric_eval: 5.69514\n",
      "[250]\ttraining's rmse: 2.24803\ttraining's custom_asymmetric_eval: 5.58224\tvalid_1's rmse: 2.2635\tvalid_1's custom_asymmetric_eval: 5.66724\n",
      "[300]\ttraining's rmse: 2.23204\ttraining's custom_asymmetric_eval: 5.50243\tvalid_1's rmse: 2.26105\tvalid_1's custom_asymmetric_eval: 5.65595\n",
      "[350]\ttraining's rmse: 2.21578\ttraining's custom_asymmetric_eval: 5.42281\tvalid_1's rmse: 2.2608\tvalid_1's custom_asymmetric_eval: 5.65548\n",
      "[400]\ttraining's rmse: 2.2028\ttraining's custom_asymmetric_eval: 5.35939\tvalid_1's rmse: 2.26066\tvalid_1's custom_asymmetric_eval: 5.65591\n",
      "Early stopping, best iteration is:\n",
      "[355]\ttraining's rmse: 2.21437\ttraining's custom_asymmetric_eval: 5.41587\tvalid_1's rmse: 2.26075\tvalid_1's custom_asymmetric_eval: 5.65538\n",
      "make shifting..\n",
      "have nans 0 in 12277556 samples(0.0%)\n",
      "have nans 0 in 7672008 samples(0.0%)\n",
      "setting labels..\n",
      "start training..\n",
      "Training until validation scores don't improve for 50 rounds\n",
      "[50]\ttraining's rmse: 2.53069\ttraining's custom_asymmetric_eval: 7.22133\tvalid_1's rmse: 2.46488\tvalid_1's custom_asymmetric_eval: 6.85478\n",
      "[100]\ttraining's rmse: 2.35743\ttraining's custom_asymmetric_eval: 6.17506\tvalid_1's rmse: 2.30611\tvalid_1's custom_asymmetric_eval: 5.91002\n",
      "[150]\ttraining's rmse: 2.30595\ttraining's custom_asymmetric_eval: 5.88304\tvalid_1's rmse: 2.28316\tvalid_1's custom_asymmetric_eval: 5.76524\n",
      "[200]\ttraining's rmse: 2.27097\ttraining's custom_asymmetric_eval: 5.69913\tvalid_1's rmse: 2.27299\tvalid_1's custom_asymmetric_eval: 5.70701\n"
     ]
    },
    {
     "name": "stdout",
     "output_type": "stream",
     "text": [
      "[250]\ttraining's rmse: 2.24836\ttraining's custom_asymmetric_eval: 5.58449\tvalid_1's rmse: 2.26933\tvalid_1's custom_asymmetric_eval: 5.68823\n",
      "[300]\ttraining's rmse: 2.23135\ttraining's custom_asymmetric_eval: 5.49984\tvalid_1's rmse: 2.26746\tvalid_1's custom_asymmetric_eval: 5.68002\n",
      "[350]\ttraining's rmse: 2.21479\ttraining's custom_asymmetric_eval: 5.41847\tvalid_1's rmse: 2.26662\tvalid_1's custom_asymmetric_eval: 5.67777\n",
      "Early stopping, best iteration is:\n",
      "[328]\ttraining's rmse: 2.2215\ttraining's custom_asymmetric_eval: 5.45108\tvalid_1's rmse: 2.26638\tvalid_1's custom_asymmetric_eval: 5.67471\n",
      "make shifting..\n",
      "have nans 0 in 12277556 samples(0.0%)\n",
      "have nans 0 in 7672008 samples(0.0%)\n",
      "setting labels..\n",
      "start training..\n",
      "Training until validation scores don't improve for 50 rounds\n",
      "[50]\ttraining's rmse: 2.53307\ttraining's custom_asymmetric_eval: 7.23429\tvalid_1's rmse: 2.46637\tvalid_1's custom_asymmetric_eval: 6.86193\n",
      "[100]\ttraining's rmse: 2.36094\ttraining's custom_asymmetric_eval: 6.19335\tvalid_1's rmse: 2.30895\tvalid_1's custom_asymmetric_eval: 5.9261\n",
      "[150]\ttraining's rmse: 2.30967\ttraining's custom_asymmetric_eval: 5.90192\tvalid_1's rmse: 2.28638\tvalid_1's custom_asymmetric_eval: 5.77914\n",
      "[200]\ttraining's rmse: 2.27294\ttraining's custom_asymmetric_eval: 5.70887\tvalid_1's rmse: 2.27811\tvalid_1's custom_asymmetric_eval: 5.73013\n",
      "[250]\ttraining's rmse: 2.24795\ttraining's custom_asymmetric_eval: 5.58243\tvalid_1's rmse: 2.27408\tvalid_1's custom_asymmetric_eval: 5.70871\n",
      "[300]\ttraining's rmse: 2.23116\ttraining's custom_asymmetric_eval: 5.49873\tvalid_1's rmse: 2.2734\tvalid_1's custom_asymmetric_eval: 5.70671\n",
      "[350]\ttraining's rmse: 2.21544\ttraining's custom_asymmetric_eval: 5.42191\tvalid_1's rmse: 2.27211\tvalid_1's custom_asymmetric_eval: 5.70072\n",
      "[400]\ttraining's rmse: 2.20152\ttraining's custom_asymmetric_eval: 5.35378\tvalid_1's rmse: 2.27131\tvalid_1's custom_asymmetric_eval: 5.69796\n",
      "Early stopping, best iteration is:\n",
      "[396]\ttraining's rmse: 2.20281\ttraining's custom_asymmetric_eval: 5.36008\tvalid_1's rmse: 2.27109\tvalid_1's custom_asymmetric_eval: 5.69649\n",
      "make shifting..\n",
      "have nans 0 in 12277556 samples(0.0%)\n",
      "have nans 0 in 7672008 samples(0.0%)\n",
      "setting labels..\n",
      "start training..\n",
      "Training until validation scores don't improve for 50 rounds\n",
      "[50]\ttraining's rmse: 2.53341\ttraining's custom_asymmetric_eval: 7.23539\tvalid_1's rmse: 2.4628\tvalid_1's custom_asymmetric_eval: 6.8396\n",
      "[100]\ttraining's rmse: 2.3637\ttraining's custom_asymmetric_eval: 6.20661\tvalid_1's rmse: 2.30712\tvalid_1's custom_asymmetric_eval: 5.91054\n",
      "[150]\ttraining's rmse: 2.3125\ttraining's custom_asymmetric_eval: 5.91543\tvalid_1's rmse: 2.28576\tvalid_1's custom_asymmetric_eval: 5.77892\n",
      "[200]\ttraining's rmse: 2.27647\ttraining's custom_asymmetric_eval: 5.72618\tvalid_1's rmse: 2.2754\tvalid_1's custom_asymmetric_eval: 5.72352\n",
      "[250]\ttraining's rmse: 2.24893\ttraining's custom_asymmetric_eval: 5.58708\tvalid_1's rmse: 2.2711\tvalid_1's custom_asymmetric_eval: 5.70682\n",
      "[300]\ttraining's rmse: 2.23069\ttraining's custom_asymmetric_eval: 5.4966\tvalid_1's rmse: 2.27123\tvalid_1's custom_asymmetric_eval: 5.71108\n",
      "Early stopping, best iteration is:\n",
      "[250]\ttraining's rmse: 2.24893\ttraining's custom_asymmetric_eval: 5.58708\tvalid_1's rmse: 2.2711\tvalid_1's custom_asymmetric_eval: 5.70682\n",
      "make shifting..\n",
      "have nans 0 in 12277556 samples(0.0%)\n",
      "have nans 0 in 7672008 samples(0.0%)\n",
      "setting labels..\n",
      "start training..\n",
      "Training until validation scores don't improve for 50 rounds\n",
      "[50]\ttraining's rmse: 2.53647\ttraining's custom_asymmetric_eval: 7.2525\tvalid_1's rmse: 2.46057\tvalid_1's custom_asymmetric_eval: 6.82454\n",
      "[100]\ttraining's rmse: 2.36569\ttraining's custom_asymmetric_eval: 6.21776\tvalid_1's rmse: 2.30725\tvalid_1's custom_asymmetric_eval: 5.90704\n",
      "[150]\ttraining's rmse: 2.31449\ttraining's custom_asymmetric_eval: 5.92637\tvalid_1's rmse: 2.2867\tvalid_1's custom_asymmetric_eval: 5.77532\n",
      "[200]\ttraining's rmse: 2.27857\ttraining's custom_asymmetric_eval: 5.73739\tvalid_1's rmse: 2.27803\tvalid_1's custom_asymmetric_eval: 5.7258\n",
      "[250]\ttraining's rmse: 2.25101\ttraining's custom_asymmetric_eval: 5.59792\tvalid_1's rmse: 2.27338\tvalid_1's custom_asymmetric_eval: 5.7049\n",
      "[300]\ttraining's rmse: 2.23151\ttraining's custom_asymmetric_eval: 5.50108\tvalid_1's rmse: 2.27152\tvalid_1's custom_asymmetric_eval: 5.69761\n",
      "[350]\ttraining's rmse: 2.21583\ttraining's custom_asymmetric_eval: 5.42429\tvalid_1's rmse: 2.27067\tvalid_1's custom_asymmetric_eval: 5.69515\n",
      "[400]\ttraining's rmse: 2.20359\ttraining's custom_asymmetric_eval: 5.36431\tvalid_1's rmse: 2.27044\tvalid_1's custom_asymmetric_eval: 5.69481\n",
      "[450]\ttraining's rmse: 2.19118\ttraining's custom_asymmetric_eval: 5.30424\tvalid_1's rmse: 2.2705\tvalid_1's custom_asymmetric_eval: 5.6956\n",
      "Early stopping, best iteration is:\n",
      "[429]\ttraining's rmse: 2.19575\ttraining's custom_asymmetric_eval: 5.32624\tvalid_1's rmse: 2.27004\tvalid_1's custom_asymmetric_eval: 5.69207\n",
      "make shifting..\n",
      "have nans 0 in 12277556 samples(0.0%)\n",
      "have nans 0 in 7672008 samples(0.0%)\n",
      "setting labels..\n",
      "start training..\n",
      "Training until validation scores don't improve for 50 rounds\n",
      "[50]\ttraining's rmse: 2.54715\ttraining's custom_asymmetric_eval: 7.31352\tvalid_1's rmse: 2.46435\tvalid_1's custom_asymmetric_eval: 6.84204\n",
      "[100]\ttraining's rmse: 2.3734\ttraining's custom_asymmetric_eval: 6.25786\tvalid_1's rmse: 2.31258\tvalid_1's custom_asymmetric_eval: 5.93064\n",
      "[150]\ttraining's rmse: 2.32057\ttraining's custom_asymmetric_eval: 5.95741\tvalid_1's rmse: 2.28912\tvalid_1's custom_asymmetric_eval: 5.78425\n",
      "[200]\ttraining's rmse: 2.28355\ttraining's custom_asymmetric_eval: 5.76197\tvalid_1's rmse: 2.2777\tvalid_1's custom_asymmetric_eval: 5.72113\n",
      "[250]\ttraining's rmse: 2.25936\ttraining's custom_asymmetric_eval: 5.63928\tvalid_1's rmse: 2.27382\tvalid_1's custom_asymmetric_eval: 5.70001\n",
      "[300]\ttraining's rmse: 2.24056\ttraining's custom_asymmetric_eval: 5.54533\tvalid_1's rmse: 2.27279\tvalid_1's custom_asymmetric_eval: 5.69683\n",
      "[350]\ttraining's rmse: 2.2237\ttraining's custom_asymmetric_eval: 5.46177\tvalid_1's rmse: 2.27258\tvalid_1's custom_asymmetric_eval: 5.69562\n",
      "Early stopping, best iteration is:\n",
      "[322]\ttraining's rmse: 2.23351\ttraining's custom_asymmetric_eval: 5.51009\tvalid_1's rmse: 2.2722\tvalid_1's custom_asymmetric_eval: 5.69246\n",
      "make shifting..\n",
      "have nans 0 in 12277556 samples(0.0%)\n",
      "have nans 0 in 7672008 samples(0.0%)\n",
      "setting labels..\n",
      "start training..\n",
      "Training until validation scores don't improve for 50 rounds\n",
      "[50]\ttraining's rmse: 2.5516\ttraining's custom_asymmetric_eval: 7.33864\tvalid_1's rmse: 2.46952\tvalid_1's custom_asymmetric_eval: 6.87065\n",
      "[100]\ttraining's rmse: 2.38086\ttraining's custom_asymmetric_eval: 6.29711\tvalid_1's rmse: 2.32043\tvalid_1's custom_asymmetric_eval: 5.96697\n",
      "[150]\ttraining's rmse: 2.32985\ttraining's custom_asymmetric_eval: 6.0042\tvalid_1's rmse: 2.29992\tvalid_1's custom_asymmetric_eval: 5.83394\n",
      "[200]\ttraining's rmse: 2.29072\ttraining's custom_asymmetric_eval: 5.79754\tvalid_1's rmse: 2.28899\tvalid_1's custom_asymmetric_eval: 5.77509\n",
      "[250]\ttraining's rmse: 2.2636\ttraining's custom_asymmetric_eval: 5.66007\tvalid_1's rmse: 2.2846\tvalid_1's custom_asymmetric_eval: 5.75157\n",
      "[300]\ttraining's rmse: 2.24345\ttraining's custom_asymmetric_eval: 5.55964\tvalid_1's rmse: 2.28263\tvalid_1's custom_asymmetric_eval: 5.744\n",
      "[350]\ttraining's rmse: 2.22601\ttraining's custom_asymmetric_eval: 5.47364\tvalid_1's rmse: 2.28209\tvalid_1's custom_asymmetric_eval: 5.74408\n",
      "Early stopping, best iteration is:\n",
      "[334]\ttraining's rmse: 2.23182\ttraining's custom_asymmetric_eval: 5.50214\tvalid_1's rmse: 2.28202\tvalid_1's custom_asymmetric_eval: 5.74266\n",
      "make shifting..\n",
      "have nans 0 in 12277556 samples(0.0%)\n",
      "have nans 0 in 7672008 samples(0.0%)\n",
      "setting labels..\n",
      "start training..\n",
      "Training until validation scores don't improve for 50 rounds\n",
      "[50]\ttraining's rmse: 2.55784\ttraining's custom_asymmetric_eval: 7.37459\tvalid_1's rmse: 2.4789\tvalid_1's custom_asymmetric_eval: 6.92571\n",
      "[100]\ttraining's rmse: 2.38651\ttraining's custom_asymmetric_eval: 6.32691\tvalid_1's rmse: 2.32962\tvalid_1's custom_asymmetric_eval: 6.01633\n",
      "[150]\ttraining's rmse: 2.33403\ttraining's custom_asymmetric_eval: 6.02617\tvalid_1's rmse: 2.30956\tvalid_1's custom_asymmetric_eval: 5.88329\n",
      "[200]\ttraining's rmse: 2.29701\ttraining's custom_asymmetric_eval: 5.83022\tvalid_1's rmse: 2.29651\tvalid_1's custom_asymmetric_eval: 5.8154\n"
     ]
    },
    {
     "name": "stdout",
     "output_type": "stream",
     "text": [
      "[250]\ttraining's rmse: 2.27073\ttraining's custom_asymmetric_eval: 5.69605\tvalid_1's rmse: 2.29194\tvalid_1's custom_asymmetric_eval: 5.7964\n",
      "[300]\ttraining's rmse: 2.25133\ttraining's custom_asymmetric_eval: 5.59876\tvalid_1's rmse: 2.29045\tvalid_1's custom_asymmetric_eval: 5.78903\n",
      "[350]\ttraining's rmse: 2.23495\ttraining's custom_asymmetric_eval: 5.51771\tvalid_1's rmse: 2.29095\tvalid_1's custom_asymmetric_eval: 5.79222\n",
      "Early stopping, best iteration is:\n",
      "[305]\ttraining's rmse: 2.24943\ttraining's custom_asymmetric_eval: 5.58949\tvalid_1's rmse: 2.29029\tvalid_1's custom_asymmetric_eval: 5.78822\n",
      "make shifting..\n",
      "have nans 0 in 12277556 samples(0.0%)\n",
      "have nans 0 in 7672008 samples(0.0%)\n",
      "setting labels..\n",
      "start training..\n",
      "Training until validation scores don't improve for 50 rounds\n",
      "[50]\ttraining's rmse: 2.56187\ttraining's custom_asymmetric_eval: 7.3976\tvalid_1's rmse: 2.48248\tvalid_1's custom_asymmetric_eval: 6.94497\n",
      "[100]\ttraining's rmse: 2.39047\ttraining's custom_asymmetric_eval: 6.34755\tvalid_1's rmse: 2.33622\tvalid_1's custom_asymmetric_eval: 6.05268\n",
      "[150]\ttraining's rmse: 2.33555\ttraining's custom_asymmetric_eval: 6.03382\tvalid_1's rmse: 2.31527\tvalid_1's custom_asymmetric_eval: 5.91358\n",
      "[200]\ttraining's rmse: 2.29934\ttraining's custom_asymmetric_eval: 5.84222\tvalid_1's rmse: 2.30348\tvalid_1's custom_asymmetric_eval: 5.84791\n",
      "[250]\ttraining's rmse: 2.27293\ttraining's custom_asymmetric_eval: 5.70657\tvalid_1's rmse: 2.2989\tvalid_1's custom_asymmetric_eval: 5.82625\n",
      "[300]\ttraining's rmse: 2.25448\ttraining's custom_asymmetric_eval: 5.61391\tvalid_1's rmse: 2.29623\tvalid_1's custom_asymmetric_eval: 5.81313\n",
      "[350]\ttraining's rmse: 2.23836\ttraining's custom_asymmetric_eval: 5.53447\tvalid_1's rmse: 2.29677\tvalid_1's custom_asymmetric_eval: 5.82159\n",
      "Early stopping, best iteration is:\n",
      "[306]\ttraining's rmse: 2.25277\ttraining's custom_asymmetric_eval: 5.60537\tvalid_1's rmse: 2.29599\tvalid_1's custom_asymmetric_eval: 5.81197\n",
      "make shifting..\n",
      "have nans 0 in 12277556 samples(0.0%)\n",
      "have nans 0 in 7672008 samples(0.0%)\n",
      "setting labels..\n",
      "start training..\n",
      "Training until validation scores don't improve for 50 rounds\n",
      "[50]\ttraining's rmse: 2.56278\ttraining's custom_asymmetric_eval: 7.4026\tvalid_1's rmse: 2.48283\tvalid_1's custom_asymmetric_eval: 6.94664\n",
      "[100]\ttraining's rmse: 2.39107\ttraining's custom_asymmetric_eval: 6.35121\tvalid_1's rmse: 2.33596\tvalid_1's custom_asymmetric_eval: 6.04974\n",
      "[150]\ttraining's rmse: 2.33509\ttraining's custom_asymmetric_eval: 6.03191\tvalid_1's rmse: 2.316\tvalid_1's custom_asymmetric_eval: 5.91976\n",
      "[200]\ttraining's rmse: 2.29729\ttraining's custom_asymmetric_eval: 5.83178\tvalid_1's rmse: 2.30596\tvalid_1's custom_asymmetric_eval: 5.86479\n",
      "[250]\ttraining's rmse: 2.2725\ttraining's custom_asymmetric_eval: 5.7043\tvalid_1's rmse: 2.3017\tvalid_1's custom_asymmetric_eval: 5.84319\n",
      "[300]\ttraining's rmse: 2.25537\ttraining's custom_asymmetric_eval: 5.61858\tvalid_1's rmse: 2.30021\tvalid_1's custom_asymmetric_eval: 5.83955\n",
      "Early stopping, best iteration is:\n",
      "[273]\ttraining's rmse: 2.26476\ttraining's custom_asymmetric_eval: 5.66535\tvalid_1's rmse: 2.30022\tvalid_1's custom_asymmetric_eval: 5.83777\n",
      "make shifting..\n",
      "have nans 0 in 12277556 samples(0.0%)\n",
      "have nans 0 in 7672008 samples(0.0%)\n",
      "setting labels..\n",
      "start training..\n",
      "Training until validation scores don't improve for 50 rounds\n",
      "[50]\ttraining's rmse: 2.56289\ttraining's custom_asymmetric_eval: 7.40263\tvalid_1's rmse: 2.47787\tvalid_1's custom_asymmetric_eval: 6.91623\n",
      "[100]\ttraining's rmse: 2.39016\ttraining's custom_asymmetric_eval: 6.34525\tvalid_1's rmse: 2.33221\tvalid_1's custom_asymmetric_eval: 6.02672\n",
      "[150]\ttraining's rmse: 2.33771\ttraining's custom_asymmetric_eval: 6.04443\tvalid_1's rmse: 2.3153\tvalid_1's custom_asymmetric_eval: 5.90837\n",
      "[200]\ttraining's rmse: 2.30034\ttraining's custom_asymmetric_eval: 5.84621\tvalid_1's rmse: 2.30631\tvalid_1's custom_asymmetric_eval: 5.85502\n",
      "[250]\ttraining's rmse: 2.2738\ttraining's custom_asymmetric_eval: 5.71043\tvalid_1's rmse: 2.30287\tvalid_1's custom_asymmetric_eval: 5.84018\n",
      "[300]\ttraining's rmse: 2.25559\ttraining's custom_asymmetric_eval: 5.61922\tvalid_1's rmse: 2.30116\tvalid_1's custom_asymmetric_eval: 5.84009\n",
      "[350]\ttraining's rmse: 2.23954\ttraining's custom_asymmetric_eval: 5.54012\tvalid_1's rmse: 2.29927\tvalid_1's custom_asymmetric_eval: 5.83175\n",
      "Early stopping, best iteration is:\n",
      "[337]\ttraining's rmse: 2.2439\ttraining's custom_asymmetric_eval: 5.56128\tvalid_1's rmse: 2.29911\tvalid_1's custom_asymmetric_eval: 5.82974\n",
      "make shifting..\n",
      "have nans 0 in 12277556 samples(0.0%)\n",
      "have nans 0 in 7672008 samples(0.0%)\n",
      "setting labels..\n",
      "start training..\n",
      "Training until validation scores don't improve for 50 rounds\n",
      "[50]\ttraining's rmse: 2.56596\ttraining's custom_asymmetric_eval: 7.42021\tvalid_1's rmse: 2.47471\tvalid_1's custom_asymmetric_eval: 6.89482\n",
      "[100]\ttraining's rmse: 2.39494\ttraining's custom_asymmetric_eval: 6.37047\tvalid_1's rmse: 2.33354\tvalid_1's custom_asymmetric_eval: 6.03028\n",
      "[150]\ttraining's rmse: 2.34283\ttraining's custom_asymmetric_eval: 6.07049\tvalid_1's rmse: 2.31697\tvalid_1's custom_asymmetric_eval: 5.91978\n",
      "[200]\ttraining's rmse: 2.3042\ttraining's custom_asymmetric_eval: 5.86567\tvalid_1's rmse: 2.31076\tvalid_1's custom_asymmetric_eval: 5.89332\n",
      "[250]\ttraining's rmse: 2.2767\ttraining's custom_asymmetric_eval: 5.72499\tvalid_1's rmse: 2.30868\tvalid_1's custom_asymmetric_eval: 5.89148\n",
      "Early stopping, best iteration is:\n",
      "[230]\ttraining's rmse: 2.286\ttraining's custom_asymmetric_eval: 5.77231\tvalid_1's rmse: 2.30879\tvalid_1's custom_asymmetric_eval: 5.88752\n"
     ]
    }
   ],
   "source": [
    "for i in tqdm_notebook(range(2, 29)):\n",
    "    train_set = lgb.Dataset(train_data[feature_names],\n",
    "        categorical_feature=cat_features, feature_name=feature_names)\n",
    "\n",
    "    valid_set = lgb.Dataset(test_data[feature_names],\n",
    "    categorical_feature=cat_features, feature_name=feature_names)\n",
    "    \n",
    "    print(\"make shifting..\")\n",
    "    fold_train_target = make_shift_target(train_data, train_target, i)\n",
    "    fold_test_target = make_shift_target(test_data, test_target, i)\n",
    "\n",
    "    print(\"setting labels..\")\n",
    "    train_set.set_label(fold_train_target)\n",
    "    valid_set.set_label(fold_test_target)\n",
    "\n",
    "    print(\"start training..\")\n",
    "    model = lgb.train(\n",
    "        params,\n",
    "        train_set,\n",
    "        valid_sets = [train_set, valid_set],\n",
    "        verbose_eval = 50,\n",
    "        num_boost_round = 2000,\n",
    "        early_stopping_rounds = 50, \n",
    "        feval = custom_asymmetric_valid\n",
    "    )\n",
    "    utils.save_pickle(f\"fold_{i}.pkl\", model)\n",
    "    \n",
    "#     train_data[f\"prediction_{i}\"] = model.predict(train_data[feature_names])\n",
    "#     test_data[f\"prediction_{i}\"] = model.predict(test_data[feature_names])\n",
    "#     feature_names.append(f\"prediction_{i}\")\n"
   ]
  },
  {
   "cell_type": "code",
   "execution_count": 115,
   "metadata": {},
   "outputs": [],
   "source": [
    "feature_names = feature_names[:-28]"
   ]
  },
  {
   "cell_type": "code",
   "execution_count": null,
   "metadata": {},
   "outputs": [],
   "source": []
  },
  {
   "cell_type": "code",
   "execution_count": 17,
   "metadata": {
    "scrolled": true
   },
   "outputs": [
    {
     "data": {
      "application/vnd.jupyter.widget-view+json": {
       "model_id": "fc918237fa72484ea7b50951ccb38849",
       "version_major": 2,
       "version_minor": 0
      },
      "text/plain": [
       "HBox(children=(IntProgress(value=0, max=28), HTML(value='')))"
      ]
     },
     "metadata": {},
     "output_type": "display_data"
    }
   ],
   "source": [
    "predictions = []\n",
    "\n",
    "for i in tqdm_notebook(range(1, 29)):\n",
    "    model = utils.load_pickle(f\"fold_{i}.pkl\")\n",
    "    prediction = evaluate_data[[\"id\"]].reset_index(drop=True)\n",
    "    prediction[\"day\"] = 1913 + i\n",
    "    prediction[\"prediction\"] = model.predict(evaluate_data[feature_names])\n",
    "#     evaluate_data[f\"prediction_{i}\"] = prediction[\"prediction\"]\n",
    "#     feature_names.append(f\"prediction_{i}\")\n",
    "    predictions.append(prediction)"
   ]
  },
  {
   "cell_type": "code",
   "execution_count": 18,
   "metadata": {},
   "outputs": [],
   "source": [
    "predictions = pd.concat(predictions)"
   ]
  },
  {
   "cell_type": "code",
   "execution_count": 21,
   "metadata": {},
   "outputs": [
    {
     "data": {
      "application/vnd.jupyter.widget-view+json": {
       "model_id": "d84c4f531912463a9c3136e08f1b450f",
       "version_major": 2,
       "version_minor": 0
      },
      "text/plain": [
       "HBox(children=(IntProgress(value=0, max=30490), HTML(value='')))"
      ]
     },
     "metadata": {},
     "output_type": "display_data"
    },
    {
     "name": "stdout",
     "output_type": "stream",
     "text": [
      "(60980, 29)\n"
     ]
    }
   ],
   "source": [
    "make_submission(predictions)"
   ]
  },
  {
   "cell_type": "code",
   "execution_count": null,
   "metadata": {},
   "outputs": [],
   "source": []
  },
  {
   "cell_type": "code",
   "execution_count": null,
   "metadata": {},
   "outputs": [],
   "source": []
  },
  {
   "cell_type": "code",
   "execution_count": 16,
   "metadata": {},
   "outputs": [
    {
     "name": "stdout",
     "output_type": "stream",
     "text": [
      "have for train (21234917, 312)\n"
     ]
    },
    {
     "ename": "KeyboardInterrupt",
     "evalue": "",
     "output_type": "error",
     "traceback": [
      "\u001b[0;31m---------------------------------------------------------------------------\u001b[0m",
      "\u001b[0;31mKeyboardInterrupt\u001b[0m                         Traceback (most recent call last)",
      "\u001b[0;32m<ipython-input-16-4f347af603c0>\u001b[0m in \u001b[0;36m<module>\u001b[0;34m()\u001b[0m\n\u001b[1;32m      8\u001b[0m \u001b[0;34m\u001b[0m\u001b[0m\n\u001b[1;32m      9\u001b[0m \u001b[0mprint\u001b[0m\u001b[0;34m(\u001b[0m\u001b[0;34mf\"have for train {train_data.shape}\"\u001b[0m\u001b[0;34m)\u001b[0m\u001b[0;34m\u001b[0m\u001b[0;34m\u001b[0m\u001b[0m\n\u001b[0;32m---> 10\u001b[0;31m \u001b[0mgroups\u001b[0m \u001b[0;34m=\u001b[0m \u001b[0mtrain_data\u001b[0m\u001b[0;34m[\u001b[0m\u001b[0;34m\"week\"\u001b[0m\u001b[0;34m]\u001b[0m\u001b[0;34m.\u001b[0m\u001b[0mapply\u001b[0m\u001b[0;34m(\u001b[0m\u001b[0mstr\u001b[0m\u001b[0;34m)\u001b[0m \u001b[0;34m+\u001b[0m \u001b[0;34m\"_\"\u001b[0m \u001b[0;34m+\u001b[0m \u001b[0mtrain_data\u001b[0m\u001b[0;34m[\u001b[0m\u001b[0;34m\"year\"\u001b[0m\u001b[0;34m]\u001b[0m\u001b[0;34m.\u001b[0m\u001b[0mapply\u001b[0m\u001b[0;34m(\u001b[0m\u001b[0mstr\u001b[0m\u001b[0;34m)\u001b[0m\u001b[0;34m\u001b[0m\u001b[0;34m\u001b[0m\u001b[0m\n\u001b[0m\u001b[1;32m     11\u001b[0m \u001b[0;32mfor\u001b[0m \u001b[0mfold_number\u001b[0m\u001b[0;34m,\u001b[0m \u001b[0;34m(\u001b[0m\u001b[0mtrain_idx\u001b[0m\u001b[0;34m,\u001b[0m \u001b[0mval_idx\u001b[0m\u001b[0;34m)\u001b[0m \u001b[0;32min\u001b[0m \u001b[0menumerate\u001b[0m\u001b[0;34m(\u001b[0m\u001b[0mkf\u001b[0m\u001b[0;34m.\u001b[0m\u001b[0msplit\u001b[0m\u001b[0;34m(\u001b[0m\u001b[0mtrain_data\u001b[0m\u001b[0;34m,\u001b[0m \u001b[0mtarget\u001b[0m\u001b[0;34m,\u001b[0m \u001b[0mgroups\u001b[0m\u001b[0;34m)\u001b[0m\u001b[0;34m)\u001b[0m\u001b[0;34m:\u001b[0m\u001b[0;34m\u001b[0m\u001b[0;34m\u001b[0m\u001b[0m\n\u001b[1;32m     12\u001b[0m     \u001b[0mprint\u001b[0m\u001b[0;34m(\u001b[0m\u001b[0;34mf\"{fold_number} iteration\"\u001b[0m\u001b[0;34m)\u001b[0m\u001b[0;34m\u001b[0m\u001b[0;34m\u001b[0m\u001b[0m\n",
      "\u001b[0;32m~/yes/lib/python3.7/site-packages/pandas/core/series.py\u001b[0m in \u001b[0;36mapply\u001b[0;34m(self, func, convert_dtype, args, **kwds)\u001b[0m\n\u001b[1;32m   4043\u001b[0m             \u001b[0;32melse\u001b[0m\u001b[0;34m:\u001b[0m\u001b[0;34m\u001b[0m\u001b[0;34m\u001b[0m\u001b[0m\n\u001b[1;32m   4044\u001b[0m                 \u001b[0mvalues\u001b[0m \u001b[0;34m=\u001b[0m \u001b[0mself\u001b[0m\u001b[0;34m.\u001b[0m\u001b[0mastype\u001b[0m\u001b[0;34m(\u001b[0m\u001b[0mobject\u001b[0m\u001b[0;34m)\u001b[0m\u001b[0;34m.\u001b[0m\u001b[0mvalues\u001b[0m\u001b[0;34m\u001b[0m\u001b[0;34m\u001b[0m\u001b[0m\n\u001b[0;32m-> 4045\u001b[0;31m                 \u001b[0mmapped\u001b[0m \u001b[0;34m=\u001b[0m \u001b[0mlib\u001b[0m\u001b[0;34m.\u001b[0m\u001b[0mmap_infer\u001b[0m\u001b[0;34m(\u001b[0m\u001b[0mvalues\u001b[0m\u001b[0;34m,\u001b[0m \u001b[0mf\u001b[0m\u001b[0;34m,\u001b[0m \u001b[0mconvert\u001b[0m\u001b[0;34m=\u001b[0m\u001b[0mconvert_dtype\u001b[0m\u001b[0;34m)\u001b[0m\u001b[0;34m\u001b[0m\u001b[0;34m\u001b[0m\u001b[0m\n\u001b[0m\u001b[1;32m   4046\u001b[0m \u001b[0;34m\u001b[0m\u001b[0m\n\u001b[1;32m   4047\u001b[0m         \u001b[0;32mif\u001b[0m \u001b[0mlen\u001b[0m\u001b[0;34m(\u001b[0m\u001b[0mmapped\u001b[0m\u001b[0;34m)\u001b[0m \u001b[0;32mand\u001b[0m \u001b[0misinstance\u001b[0m\u001b[0;34m(\u001b[0m\u001b[0mmapped\u001b[0m\u001b[0;34m[\u001b[0m\u001b[0;36m0\u001b[0m\u001b[0;34m]\u001b[0m\u001b[0;34m,\u001b[0m \u001b[0mSeries\u001b[0m\u001b[0;34m)\u001b[0m\u001b[0;34m:\u001b[0m\u001b[0;34m\u001b[0m\u001b[0;34m\u001b[0m\u001b[0m\n",
      "\u001b[0;32mpandas/_libs/lib.pyx\u001b[0m in \u001b[0;36mpandas._libs.lib.map_infer\u001b[0;34m()\u001b[0m\n",
      "\u001b[0;31mKeyboardInterrupt\u001b[0m: "
     ]
    }
   ],
   "source": [
    "from sklearn.model_selection import GroupKFold\n",
    "k=3\n",
    "kf = GroupKFold(k)\n",
    "target = train_data[\"demand\"]\n",
    "\n",
    "prediction = np.zeros(evaluate_data.shape[0])\n",
    "vall = np.zeros(target.shape[0])\n",
    "\n",
    "print(f\"have for train {train_data.shape}\")\n",
    "groups = train_data[\"week\"].apply(str) + \"_\" + train_data[\"year\"].apply(str)\n",
    "for fold_number, (train_idx, val_idx) in enumerate(kf.split(train_data, target, groups)):\n",
    "    print(f\"{fold_number} iteration\")\n",
    "    train_set = lgb.Dataset(\n",
    "        train_data.iloc[train_idx].drop(columns=non_feature_columns + ['demand']),\n",
    "        label=target.iloc[train_idx],\n",
    "        categorical_feature=cat_features)\n",
    "\n",
    "    valid_set = lgb.Dataset(\n",
    "        train_data.iloc[val_idx].drop(columns=non_feature_columns + ['demand']),\n",
    "        label=target.iloc[val_idx],\n",
    "        categorical_feature=cat_features)\n",
    "\n",
    "    model = lgb.train(\n",
    "        params,\n",
    "        train_set,\n",
    "        valid_sets = [train_set, valid_set],\n",
    "        verbose_eval = 50,\n",
    "        num_boost_round = 2000,\n",
    "        early_stopping_rounds = 50, \n",
    "        fobj = custom_asymmetric_train, \n",
    "        feval = custom_asymmetric_valid\n",
    "    )\n",
    "    utils.save_pickle(f\"/mnt/m5_all_train_data/fold_{fold_number}.pkl\", model)\n",
    "    \n",
    "    prediction += model.predict(evaluate_data.drop(columns=non_feature_columns + ['demand'])) / k\n",
    "    vall[val_idx] = model.predict(train_data.iloc[val_idx].drop(columns=non_feature_columns + ['demand']))"
   ]
  },
  {
   "cell_type": "code",
   "execution_count": 16,
   "metadata": {},
   "outputs": [
    {
     "name": "stdout",
     "output_type": "stream",
     "text": [
      "0 iteration\n",
      "1 iteration\n",
      "2 iteration\n"
     ]
    }
   ],
   "source": [
    "k=3\n",
    "prediction = np.zeros(evaluate_data.shape[0])\n",
    "\n",
    "for fold_number in range(k):\n",
    "    print(f\"{fold_number} iteration\")\n",
    "    \n",
    "    model = utils.load_pickle(f\"/mnt/m5_all_train_data/fold_{fold_number}.pkl\")\n",
    "    \n",
    "    prediction += model.predict(evaluate_data.drop(columns=non_feature_columns + ['demand'])) / k"
   ]
  },
  {
   "cell_type": "code",
   "execution_count": 17,
   "metadata": {},
   "outputs": [
    {
     "data": {
      "text/plain": [
       "(853720,)"
      ]
     },
     "execution_count": 17,
     "metadata": {},
     "output_type": "execute_result"
    }
   ],
   "source": [
    "prediction.shape"
   ]
  },
  {
   "cell_type": "code",
   "execution_count": 18,
   "metadata": {},
   "outputs": [
    {
     "data": {
      "text/plain": [
       "array([0.75460327, 2.06362885, 1.5948935 , ..., 0.23694366, 0.23694366,\n",
       "       0.32777138])"
      ]
     },
     "execution_count": 18,
     "metadata": {},
     "output_type": "execute_result"
    }
   ],
   "source": [
    "prediction"
   ]
  },
  {
   "cell_type": "code",
   "execution_count": 15,
   "metadata": {},
   "outputs": [],
   "source": [
    "def feature_selection(model, data, target, metric=mean_squared_error):\n",
    "    standart_score = metric(target, model.predict(data))\n",
    "    column_score = {}\n",
    "    \n",
    "    for column in tqdm_notebook(data.columns):\n",
    "        column_copy = data[column].copy() # for restore after\n",
    "        \n",
    "        data[column] = np.random.permutation(data[column].values)\n",
    "        prediction = model.predict(data)\n",
    "        score = metric(target, prediction)\n",
    "        column_score[column] = standart_score - score\n",
    "        \n",
    "        data[column] = column_copy\n",
    "    \n",
    "    return column_score\n",
    "    "
   ]
  },
  {
   "cell_type": "code",
   "execution_count": 10,
   "metadata": {},
   "outputs": [
    {
     "data": {
      "text/plain": [
       "(23457073, 135)"
      ]
     },
     "execution_count": 10,
     "metadata": {},
     "output_type": "execute_result"
    }
   ],
   "source": [
    "train_data.shape"
   ]
  },
  {
   "cell_type": "code",
   "execution_count": 11,
   "metadata": {},
   "outputs": [],
   "source": [
    "model = utils.load_pickle(\"model_last_lqb.pickle\")"
   ]
  },
  {
   "cell_type": "code",
   "execution_count": null,
   "metadata": {},
   "outputs": [
    {
     "data": {
      "application/vnd.jupyter.widget-view+json": {
       "model_id": "583b2faf5b1543cd95148b9eeb0a679f",
       "version_major": 2,
       "version_minor": 0
      },
      "text/plain": [
       "HBox(children=(IntProgress(value=0, max=129), HTML(value='')))"
      ]
     },
     "metadata": {},
     "output_type": "display_data"
    }
   ],
   "source": [
    "sample_data = train_data.sample(n=1000000)\n",
    "\n",
    "scores = feature_selection(model, sample_data.drop(columns=non_feature_columns + ['demand']), sample_data['demand'])"
   ]
  },
  {
   "cell_type": "code",
   "execution_count": 18,
   "metadata": {},
   "outputs": [],
   "source": [
    "stat = list(scores.items())"
   ]
  },
  {
   "cell_type": "code",
   "execution_count": 21,
   "metadata": {},
   "outputs": [
    {
     "data": {
      "text/plain": [
       "[('mean_by_item_id_on_demand_at_56', -8.362889550913088),\n",
       " ('mean_by_item_id_on_demand_at_28', -2.483399785295159),\n",
       " ('sell_price', -1.5392525650632765),\n",
       " ('mean_by_item_id_on_demand_at_14', -1.2828870109179906),\n",
       " ('stddev_by_item_id_on_demand_at_56', -0.7929109543216972),\n",
       " ('max_by_item_id_on_demand_at_14', -0.546092736574149),\n",
       " ('max_by_item_id_on_demand_at_56', -0.45393249096581023),\n",
       " ('day_of_week', -0.43255045789472835),\n",
       " ('mean_by_item_id_on_sell_price_at_56', -0.339888555306155),\n",
       " ('stddev_by_item_id_on_demand_at_28', -0.3257408588468418),\n",
       " ('stddev_by_item_id_on_demand_at_14', -0.32442980723089354),\n",
       " ('max_by_item_id_on_sell_price_at_56', -0.309442211217029),\n",
       " ('dat_of_year', -0.283672609639952),\n",
       " ('store_id', -0.26281563178926914),\n",
       " ('previous_demand_by_item_id_at_1', -0.23594022054598263),\n",
       " ('stddev_by_cat_id_on_demand_at_14', -0.23575187947201082),\n",
       " ('min_by_item_id_on_sell_price_at_14', -0.23110244734017282),\n",
       " ('max_by_item_id_on_demand_at_28', -0.2279290607896951),\n",
       " ('mean_by_item_id_on_sell_price_at_28', -0.18114515463350722),\n",
       " ('dept_id', -0.17691733918237906),\n",
       " ('min_by_item_id_on_sell_price_at_56', -0.17450980824102835),\n",
       " ('previous_demand_by_item_id_at_3', -0.1425696248956445),\n",
       " ('min_by_item_id_on_sell_price_at_28', -0.1274486286296317),\n",
       " ('previous_demand_by_item_id_at_2', -0.1265499004225057),\n",
       " ('previous_demand_by_item_id_at_4', -0.12516408917473676),\n",
       " ('wm_yr_wk', -0.1112576445542337),\n",
       " ('day_of_month', -0.11054044032176291),\n",
       " ('stddev_by_cat_id_on_demand_at_56', -0.10946056895949008),\n",
       " ('previous_demand_by_cat_id_at_3agg_mean_', -0.09976954455617992),\n",
       " ('week', -0.09085860834027226),\n",
       " ('mean_by_dept_id_on_demand_at_28', -0.08413750905962036),\n",
       " ('max_by_item_id_on_sell_price_at_28', -0.08176653382190091),\n",
       " ('stddev_by_cat_id_on_demand_at_28', -0.07799598297729338),\n",
       " ('stddev_by_dept_id_on_sell_price_at_56', -0.07611353941805366),\n",
       " ('previous_sell_price_by_item_id_at_1', -0.07569361318806189),\n",
       " ('min_by_item_id_on_demand_at_14', -0.07566442949048247),\n",
       " ('previous_sell_price_by_item_id_at_4', -0.0682173781588804),\n",
       " ('stddev_by_cat_id_on_sell_price_at_56', -0.06776206873328405),\n",
       " ('stddev_by_dept_id_on_demand_at_28', -0.06675739484504595),\n",
       " ('previous_demand_by_cat_id_at_3agg_sum_', -0.06564052193989545),\n",
       " ('previous_sell_price_by_item_id_at_2', -0.06345632840153703),\n",
       " ('stddev_by_cat_id_on_sell_price_at_28', -0.06310400524541437),\n",
       " ('previous_sell_price_by_item_id_at_3', -0.06202524929802822),\n",
       " ('max_by_item_id_on_sell_price_at_14', -0.06138919847477231),\n",
       " ('stddev_by_dept_id_on_demand_at_56', -0.060677274824936234),\n",
       " ('min_by_dept_id_on_demand_at_56', -0.05877334427145131),\n",
       " ('stddev_by_dept_id_on_sell_price_at_28', -0.05800450740715801),\n",
       " ('stddev_by_cat_id_on_sell_price_at_14', -0.05539207477114427),\n",
       " ('mean_by_cat_id_on_demand_at_56', -0.0542656864129345),\n",
       " ('stddev_by_dept_id_on_sell_price_at_14', -0.0529952369310136),\n",
       " ('previous_demand_by_dept_id_at_2agg_mean_', -0.051914584998370206),\n",
       " ('previous_demand_by_cat_id_at_4agg_sum_', -0.0510658543568594),\n",
       " ('stddev_by_dept_id_on_demand_at_14', -0.05087061725832065),\n",
       " ('previous_demand_by_dept_id_at_1agg_mean_', -0.05060547181351982),\n",
       " ('min_by_item_id_on_demand_at_56', -0.05044875548442551),\n",
       " ('min_by_item_id_on_demand_at_28', -0.050190553753829636),\n",
       " ('previous_demand_by_dept_id_at_1agg_sum_', -0.04927245611485276),\n",
       " ('previous_demand_by_dept_id_at_3agg_mean_', -0.04887790320454721),\n",
       " ('snap_WI', -0.04741879239713365),\n",
       " ('max_by_dept_id_on_demand_at_28', -0.047358166308451466),\n",
       " ('previous_demand_by_cat_id_at_1agg_sum_', -0.04700894813075607),\n",
       " ('previous_demand_by_cat_id_at_2agg_mean_', -0.04583515189468379),\n",
       " ('max_by_dept_id_on_demand_at_14', -0.045088732152860356),\n",
       " ('min_by_dept_id_on_demand_at_28', -0.04505498658441498),\n",
       " ('max_by_cat_id_on_demand_at_28', -0.043070366904958135),\n",
       " ('mean_by_item_id_on_sell_price_at_14', -0.04291971708524267),\n",
       " ('previous_demand_by_dept_id_at_4agg_mean_', -0.04060774836363823),\n",
       " ('mean_by_dept_id_on_demand_at_14', -0.04051638293641391),\n",
       " ('max_by_dept_id_on_demand_at_56', -0.04013268411940185),\n",
       " ('previous_demand_by_cat_id_at_1agg_mean_', -0.039512695649022156),\n",
       " ('previous_demand_by_cat_id_at_2agg_sum_', -0.03935008272225993),\n",
       " ('previous_demand_by_dept_id_at_3agg_sum_', -0.03863303945563912),\n",
       " ('previous_demand_by_cat_id_at_4agg_mean_', -0.03745063070314547),\n",
       " ('previous_demand_by_dept_id_at_2agg_sum_', -0.03592654313092014),\n",
       " ('previous_demand_by_dept_id_at_4agg_sum_', -0.03575908596088073),\n",
       " ('max_by_cat_id_on_demand_at_56', -0.03533075721568535),\n",
       " ('min_by_dept_id_on_demand_at_14', -0.035083180603886266),\n",
       " ('mean_by_cat_id_on_demand_at_28', -0.034737076282478796),\n",
       " ('previous_sell_price_by_dept_id_at_1agg_mean_', -0.0346313723884899),\n",
       " ('min_by_cat_id_on_demand_at_56', -0.033639992547421116),\n",
       " ('min_by_cat_id_on_demand_at_14', -0.03324503937331125),\n",
       " ('min_by_cat_id_on_demand_at_28', -0.032802831002393784),\n",
       " ('previous_sell_price_by_dept_id_at_4agg_mean_', -0.03173547839717861),\n",
       " ('previous_sell_price_by_dept_id_at_2agg_sum_', -0.0317280930125321),\n",
       " ('previous_sell_price_by_cat_id_at_2agg_mean_', -0.03134472695131052),\n",
       " ('previous_sell_price_by_cat_id_at_1agg_mean_', -0.031002343485516892),\n",
       " ('mean_by_dept_id_on_demand_at_56', -0.030804652024009282),\n",
       " ('min_by_cat_id_on_sell_price_at_56', -0.030280158492359543),\n",
       " ('mean_by_cat_id_on_demand_at_14', -0.029343872296356377),\n",
       " ('previous_sell_price_by_cat_id_at_2agg_sum_', -0.02924810966237157),\n",
       " ('previous_sell_price_by_dept_id_at_2agg_mean_', -0.02842794045426489),\n",
       " ('max_by_cat_id_on_demand_at_14', -0.028305706212659487),\n",
       " ('stddev_by_item_id_on_sell_price_at_56', -0.02816273087113519),\n",
       " ('previous_sell_price_by_dept_id_at_3agg_mean_', -0.02785603935250691),\n",
       " ('min_by_dept_id_on_sell_price_at_56', -0.027729614162811167),\n",
       " ('previous_sell_price_by_cat_id_at_3agg_mean_', -0.02748815107734215),\n",
       " ('max_by_cat_id_on_sell_price_at_28', -0.027301165289514984),\n",
       " ('previous_sell_price_by_cat_id_at_4agg_mean_', -0.02599747587033363),\n",
       " ('mean_by_cat_id_on_sell_price_at_28', -0.025810239320396278),\n",
       " ('mean_by_dept_id_on_sell_price_at_56', -0.025655397713787664),\n",
       " ('min_by_cat_id_on_sell_price_at_28', -0.02540198023605278),\n",
       " ('mean_by_cat_id_on_sell_price_at_56', -0.024255603233859446),\n",
       " ('previous_sell_price_by_cat_id_at_4agg_sum_', -0.021281069162082833),\n",
       " ('max_by_dept_id_on_sell_price_at_28', -0.020677840309351492),\n",
       " ('previous_sell_price_by_dept_id_at_1agg_sum_', -0.0203560910659637),\n",
       " ('previous_sell_price_by_cat_id_at_1agg_sum_', -0.019625811676271976),\n",
       " ('previous_sell_price_by_dept_id_at_4agg_sum_', -0.019232250568387066),\n",
       " ('mean_by_dept_id_on_sell_price_at_28', -0.018676689692323833),\n",
       " ('month', -0.01853976116768008),\n",
       " ('min_by_dept_id_on_sell_price_at_28', -0.018172097713169855),\n",
       " ('previous_sell_price_by_dept_id_at_3agg_sum_', -0.016478888491145316),\n",
       " ('mean_by_dept_id_on_sell_price_at_14', -0.015531891059867409),\n",
       " ('mean_by_cat_id_on_sell_price_at_14', -0.015196346044729303),\n",
       " ('previous_sell_price_by_cat_id_at_3agg_sum_', -0.01505599510929434),\n",
       " ('snap_TX', -0.015047101990017353),\n",
       " ('min_by_dept_id_on_sell_price_at_14', -0.015024703398928363),\n",
       " ('stddev_by_item_id_on_sell_price_at_14', -0.014989615975482984),\n",
       " ('min_by_cat_id_on_sell_price_at_14', -0.014149082444005145),\n",
       " ('max_by_dept_id_on_sell_price_at_56', -0.012888138529238535),\n",
       " ('max_by_cat_id_on_sell_price_at_56', -0.009959223954278507),\n",
       " ('stddev_by_item_id_on_sell_price_at_28', -0.008421495460835704),\n",
       " ('cat_id', -0.008203250939814666),\n",
       " ('max_by_dept_id_on_sell_price_at_14', -0.007900386504879009),\n",
       " ('max_by_cat_id_on_sell_price_at_14', -0.007538252939768508),\n",
       " ('snap_CA', -0.004149550757620801),\n",
       " ('year', -0.0014447569969968654),\n",
       " ('quarter', -0.000531328351679683),\n",
       " ('event_type_1', 0.0),\n",
       " ('event_type_2', 0.0)]"
      ]
     },
     "execution_count": 21,
     "metadata": {},
     "output_type": "execute_result"
    }
   ],
   "source": [
    "sorted(stat, key = lambda x: x[1])"
   ]
  },
  {
   "cell_type": "code",
   "execution_count": null,
   "metadata": {},
   "outputs": [],
   "source": []
  },
  {
   "cell_type": "code",
   "execution_count": 20,
   "metadata": {},
   "outputs": [],
   "source": [
    "def make_submission(data, predictions = None, name=\"submission.csv\"):\n",
    "    if predictions is not None:\n",
    "        preds = data[[\"id\", \"day\"]]\n",
    "        preds[\"prediction\"] = predictions\n",
    "    else:\n",
    "        preds = data[[\"id\", \"day\", \"prediction\"]]\n",
    "\n",
    "    submission = []\n",
    "\n",
    "    for iid, group in tqdm_notebook(preds.groupby(\"id\")):\n",
    "        group = group[group.day > 1913].sort_values(\"day\")\n",
    "        assert group.shape[0] == 28\n",
    "        submission.append([iid] + group.prediction.tolist())\n",
    "        \n",
    "    predict_columns = [f\"F{i}\" for i in range(1, 29)]\n",
    "    submission = pd.DataFrame(submission, columns=[\"id\"] + predict_columns)\n",
    "    sample = pd.read_csv('sample_submission.csv')\n",
    "    sample = sample[~sample.id.isin(submission.id)]\n",
    "\n",
    "    result_submission = pd.concat([submission, sample])\n",
    "    print(result_submission.shape)\n",
    "    result_submission.to_csv(name, index=False)"
   ]
  },
  {
   "cell_type": "code",
   "execution_count": 22,
   "metadata": {},
   "outputs": [
    {
     "name": "stderr",
     "output_type": "stream",
     "text": [
      "/home/timothyxp/yes/lib/python3.7/site-packages/ipykernel_launcher.py:3: SettingWithCopyWarning: \n",
      "A value is trying to be set on a copy of a slice from a DataFrame.\n",
      "Try using .loc[row_indexer,col_indexer] = value instead\n",
      "\n",
      "See the caveats in the documentation: http://pandas.pydata.org/pandas-docs/stable/user_guide/indexing.html#returning-a-view-versus-a-copy\n",
      "  This is separate from the ipykernel package so we can avoid doing imports until\n"
     ]
    },
    {
     "data": {
      "application/vnd.jupyter.widget-view+json": {
       "model_id": "0d6952c437e146d787e1cf7be9543a56",
       "version_major": 2,
       "version_minor": 0
      },
      "text/plain": [
       "HBox(children=(IntProgress(value=0, max=30490), HTML(value='')))"
      ]
     },
     "metadata": {},
     "output_type": "display_data"
    },
    {
     "name": "stdout",
     "output_type": "stream",
     "text": [
      "\n",
      "(60980, 29)\n"
     ]
    }
   ],
   "source": [
    "make_submission(evaluate_data, prediction)"
   ]
  },
  {
   "cell_type": "code",
   "execution_count": 30,
   "metadata": {
    "collapsed": true
   },
   "outputs": [
    {
     "name": "stderr",
     "output_type": "stream",
     "text": [
      "/home/timothyxp/yes/lib/python3.7/site-packages/ipykernel_launcher.py:5: SettingWithCopyWarning: \n",
      "A value is trying to be set on a copy of a slice from a DataFrame.\n",
      "Try using .loc[row_indexer,col_indexer] = value instead\n",
      "\n",
      "See the caveats in the documentation: http://pandas.pydata.org/pandas-docs/stable/user_guide/indexing.html#returning-a-view-versus-a-copy\n",
      "  \"\"\"\n"
     ]
    },
    {
     "data": {
      "application/vnd.jupyter.widget-view+json": {
       "model_id": "46484d2c6a934072896a4665a4e62549",
       "version_major": 2,
       "version_minor": 0
      },
      "text/plain": [
       "HBox(children=(IntProgress(value=0, max=30490), HTML(value='')))"
      ]
     },
     "metadata": {},
     "output_type": "display_data"
    },
    {
     "name": "stdout",
     "output_type": "stream",
     "text": [
      "\n",
      "(60980, 29)\n"
     ]
    }
   ],
   "source": [
    "prediction = model.predict(evaluate_data.drop(columns=non_feature_columns + ['demand']))\n",
    "make_submission(evaluate_data, prediction)"
   ]
  },
  {
   "cell_type": "code",
   "execution_count": 18,
   "metadata": {},
   "outputs": [
    {
     "data": {
      "text/plain": [
       "5.069556186646546"
      ]
     },
     "execution_count": 18,
     "metadata": {},
     "output_type": "execute_result"
    }
   ],
   "source": [
    "mean_squared_error(target, vall)"
   ]
  },
  {
   "cell_type": "code",
   "execution_count": 25,
   "metadata": {},
   "outputs": [
    {
     "name": "stdout",
     "output_type": "stream",
     "text": [
      "processing CA_1\n"
     ]
    },
    {
     "name": "stderr",
     "output_type": "stream",
     "text": [
      "/home/timothyxp/yes/lib/python3.7/site-packages/pyarrow/__init__.py:157: UserWarning: pyarrow.open_stream is deprecated, please use pyarrow.ipc.open_stream\n",
      "  warnings.warn(\"pyarrow.open_stream is deprecated, please use \"\n",
      "/home/timothyxp/yes/lib/python3.7/site-packages/pyarrow/__init__.py:157: UserWarning: pyarrow.open_stream is deprecated, please use pyarrow.ipc.open_stream\n",
      "  warnings.warn(\"pyarrow.open_stream is deprecated, please use \"\n"
     ]
    },
    {
     "name": "stdout",
     "output_type": "stream",
     "text": [
      "have for train (2276492, 128), test (85372, 128)\n"
     ]
    },
    {
     "name": "stderr",
     "output_type": "stream",
     "text": [
      "/home/timothyxp/yes/lib/python3.7/site-packages/lightgbm/basic.py:1243: UserWarning: Using categorical_feature in Dataset.\n",
      "  warnings.warn('Using categorical_feature in Dataset.')\n"
     ]
    },
    {
     "name": "stdout",
     "output_type": "stream",
     "text": [
      "Training until validation scores don't improve for 50 rounds\n",
      "[50]\ttraining's custom_asymmetric_eval: 5.28413\tvalid_1's custom_asymmetric_eval: 5.28686\n",
      "Early stopping, best iteration is:\n",
      "[48]\ttraining's custom_asymmetric_eval: 5.32168\tvalid_1's custom_asymmetric_eval: 5.27534\n",
      "mse = 4.803474874533536\n",
      "processing CA_2\n"
     ]
    },
    {
     "name": "stderr",
     "output_type": "stream",
     "text": [
      "/home/timothyxp/yes/lib/python3.7/site-packages/pyarrow/__init__.py:157: UserWarning: pyarrow.open_stream is deprecated, please use pyarrow.ipc.open_stream\n",
      "  warnings.warn(\"pyarrow.open_stream is deprecated, please use \"\n",
      "/home/timothyxp/yes/lib/python3.7/site-packages/pyarrow/__init__.py:157: UserWarning: pyarrow.open_stream is deprecated, please use pyarrow.ipc.open_stream\n",
      "  warnings.warn(\"pyarrow.open_stream is deprecated, please use \"\n"
     ]
    },
    {
     "name": "stdout",
     "output_type": "stream",
     "text": [
      "have for train (2144577, 128), test (85372, 128)\n"
     ]
    },
    {
     "name": "stderr",
     "output_type": "stream",
     "text": [
      "/home/timothyxp/yes/lib/python3.7/site-packages/lightgbm/basic.py:1243: UserWarning: Using categorical_feature in Dataset.\n",
      "  warnings.warn('Using categorical_feature in Dataset.')\n"
     ]
    },
    {
     "name": "stdout",
     "output_type": "stream",
     "text": [
      "Training until validation scores don't improve for 50 rounds\n",
      "[50]\ttraining's custom_asymmetric_eval: 3.61668\tvalid_1's custom_asymmetric_eval: 4.70584\n",
      "Early stopping, best iteration is:\n",
      "[40]\ttraining's custom_asymmetric_eval: 3.72185\tvalid_1's custom_asymmetric_eval: 4.69407\n",
      "mse = 4.266637403726252\n",
      "processing CA_3\n"
     ]
    },
    {
     "name": "stderr",
     "output_type": "stream",
     "text": [
      "/home/timothyxp/yes/lib/python3.7/site-packages/pyarrow/__init__.py:157: UserWarning: pyarrow.open_stream is deprecated, please use pyarrow.ipc.open_stream\n",
      "  warnings.warn(\"pyarrow.open_stream is deprecated, please use \"\n",
      "/home/timothyxp/yes/lib/python3.7/site-packages/pyarrow/__init__.py:157: UserWarning: pyarrow.open_stream is deprecated, please use pyarrow.ipc.open_stream\n",
      "  warnings.warn(\"pyarrow.open_stream is deprecated, please use \"\n"
     ]
    },
    {
     "name": "stdout",
     "output_type": "stream",
     "text": [
      "have for train (2273097, 128), test (85372, 128)\n"
     ]
    },
    {
     "name": "stderr",
     "output_type": "stream",
     "text": [
      "/home/timothyxp/yes/lib/python3.7/site-packages/lightgbm/basic.py:1243: UserWarning: Using categorical_feature in Dataset.\n",
      "  warnings.warn('Using categorical_feature in Dataset.')\n"
     ]
    },
    {
     "name": "stdout",
     "output_type": "stream",
     "text": [
      "Training until validation scores don't improve for 50 rounds\n",
      "[50]\ttraining's custom_asymmetric_eval: 9.67373\tvalid_1's custom_asymmetric_eval: 8.84125\n",
      "[100]\ttraining's custom_asymmetric_eval: 8.4713\tvalid_1's custom_asymmetric_eval: 8.81137\n",
      "Early stopping, best iteration is:\n",
      "[81]\ttraining's custom_asymmetric_eval: 8.83927\tvalid_1's custom_asymmetric_eval: 8.78487\n",
      "mse = 8.136635648989277\n",
      "processing CA_4\n"
     ]
    },
    {
     "name": "stderr",
     "output_type": "stream",
     "text": [
      "/home/timothyxp/yes/lib/python3.7/site-packages/pyarrow/__init__.py:157: UserWarning: pyarrow.open_stream is deprecated, please use pyarrow.ipc.open_stream\n",
      "  warnings.warn(\"pyarrow.open_stream is deprecated, please use \"\n",
      "/home/timothyxp/yes/lib/python3.7/site-packages/pyarrow/__init__.py:157: UserWarning: pyarrow.open_stream is deprecated, please use pyarrow.ipc.open_stream\n",
      "  warnings.warn(\"pyarrow.open_stream is deprecated, please use \"\n"
     ]
    },
    {
     "name": "stdout",
     "output_type": "stream",
     "text": [
      "have for train (2257060, 128), test (85372, 128)\n"
     ]
    },
    {
     "name": "stderr",
     "output_type": "stream",
     "text": [
      "/home/timothyxp/yes/lib/python3.7/site-packages/lightgbm/basic.py:1243: UserWarning: Using categorical_feature in Dataset.\n",
      "  warnings.warn('Using categorical_feature in Dataset.')\n"
     ]
    },
    {
     "name": "stdout",
     "output_type": "stream",
     "text": [
      "Training until validation scores don't improve for 50 rounds\n",
      "[50]\ttraining's custom_asymmetric_eval: 2.14694\tvalid_1's custom_asymmetric_eval: 2.20869\n",
      "Early stopping, best iteration is:\n",
      "[36]\ttraining's custom_asymmetric_eval: 2.2183\tvalid_1's custom_asymmetric_eval: 2.20515\n",
      "mse = 1.9962724377856542\n",
      "processing TX_1\n"
     ]
    },
    {
     "name": "stderr",
     "output_type": "stream",
     "text": [
      "/home/timothyxp/yes/lib/python3.7/site-packages/pyarrow/__init__.py:157: UserWarning: pyarrow.open_stream is deprecated, please use pyarrow.ipc.open_stream\n",
      "  warnings.warn(\"pyarrow.open_stream is deprecated, please use \"\n",
      "/home/timothyxp/yes/lib/python3.7/site-packages/pyarrow/__init__.py:157: UserWarning: pyarrow.open_stream is deprecated, please use pyarrow.ipc.open_stream\n",
      "  warnings.warn(\"pyarrow.open_stream is deprecated, please use \"\n"
     ]
    },
    {
     "name": "stdout",
     "output_type": "stream",
     "text": [
      "have for train (2279516, 128), test (85372, 128)\n"
     ]
    },
    {
     "name": "stderr",
     "output_type": "stream",
     "text": [
      "/home/timothyxp/yes/lib/python3.7/site-packages/lightgbm/basic.py:1243: UserWarning: Using categorical_feature in Dataset.\n",
      "  warnings.warn('Using categorical_feature in Dataset.')\n"
     ]
    },
    {
     "name": "stdout",
     "output_type": "stream",
     "text": [
      "Training until validation scores don't improve for 50 rounds\n",
      "[50]\ttraining's custom_asymmetric_eval: 3.64844\tvalid_1's custom_asymmetric_eval: 3.56351\n",
      "Early stopping, best iteration is:\n",
      "[31]\ttraining's custom_asymmetric_eval: 3.9282\tvalid_1's custom_asymmetric_eval: 3.48184\n",
      "mse = 3.1599931965224193\n",
      "processing TX_2\n"
     ]
    },
    {
     "name": "stderr",
     "output_type": "stream",
     "text": [
      "/home/timothyxp/yes/lib/python3.7/site-packages/pyarrow/__init__.py:157: UserWarning: pyarrow.open_stream is deprecated, please use pyarrow.ipc.open_stream\n",
      "  warnings.warn(\"pyarrow.open_stream is deprecated, please use \"\n",
      "/home/timothyxp/yes/lib/python3.7/site-packages/pyarrow/__init__.py:157: UserWarning: pyarrow.open_stream is deprecated, please use pyarrow.ipc.open_stream\n",
      "  warnings.warn(\"pyarrow.open_stream is deprecated, please use \"\n"
     ]
    },
    {
     "name": "stdout",
     "output_type": "stream",
     "text": [
      "have for train (2278389, 128), test (85372, 128)\n"
     ]
    },
    {
     "name": "stderr",
     "output_type": "stream",
     "text": [
      "/home/timothyxp/yes/lib/python3.7/site-packages/lightgbm/basic.py:1243: UserWarning: Using categorical_feature in Dataset.\n",
      "  warnings.warn('Using categorical_feature in Dataset.')\n"
     ]
    },
    {
     "name": "stdout",
     "output_type": "stream",
     "text": [
      "Training until validation scores don't improve for 50 rounds\n",
      "[50]\ttraining's custom_asymmetric_eval: 4.64998\tvalid_1's custom_asymmetric_eval: 4.1466\n",
      "Early stopping, best iteration is:\n",
      "[23]\ttraining's custom_asymmetric_eval: 5.42237\tvalid_1's custom_asymmetric_eval: 3.91691\n",
      "mse = 3.5658944818311618\n",
      "processing TX_3\n"
     ]
    },
    {
     "name": "stderr",
     "output_type": "stream",
     "text": [
      "/home/timothyxp/yes/lib/python3.7/site-packages/pyarrow/__init__.py:157: UserWarning: pyarrow.open_stream is deprecated, please use pyarrow.ipc.open_stream\n",
      "  warnings.warn(\"pyarrow.open_stream is deprecated, please use \"\n",
      "/home/timothyxp/yes/lib/python3.7/site-packages/pyarrow/__init__.py:157: UserWarning: pyarrow.open_stream is deprecated, please use pyarrow.ipc.open_stream\n",
      "  warnings.warn(\"pyarrow.open_stream is deprecated, please use \"\n"
     ]
    },
    {
     "name": "stdout",
     "output_type": "stream",
     "text": [
      "have for train (2267567, 128), test (85372, 128)\n"
     ]
    },
    {
     "name": "stderr",
     "output_type": "stream",
     "text": [
      "/home/timothyxp/yes/lib/python3.7/site-packages/lightgbm/basic.py:1243: UserWarning: Using categorical_feature in Dataset.\n",
      "  warnings.warn('Using categorical_feature in Dataset.')\n"
     ]
    },
    {
     "name": "stdout",
     "output_type": "stream",
     "text": [
      "Training until validation scores don't improve for 50 rounds\n",
      "[50]\ttraining's custom_asymmetric_eval: 4.1545\tvalid_1's custom_asymmetric_eval: 4.06623\n",
      "Early stopping, best iteration is:\n",
      "[23]\ttraining's custom_asymmetric_eval: 4.75005\tvalid_1's custom_asymmetric_eval: 3.95547\n",
      "mse = 3.5923416950845755\n",
      "processing WI_1\n"
     ]
    },
    {
     "name": "stderr",
     "output_type": "stream",
     "text": [
      "/home/timothyxp/yes/lib/python3.7/site-packages/pyarrow/__init__.py:157: UserWarning: pyarrow.open_stream is deprecated, please use pyarrow.ipc.open_stream\n",
      "  warnings.warn(\"pyarrow.open_stream is deprecated, please use \"\n",
      "/home/timothyxp/yes/lib/python3.7/site-packages/pyarrow/__init__.py:157: UserWarning: pyarrow.open_stream is deprecated, please use pyarrow.ipc.open_stream\n",
      "  warnings.warn(\"pyarrow.open_stream is deprecated, please use \"\n"
     ]
    },
    {
     "name": "stdout",
     "output_type": "stream",
     "text": [
      "have for train (2277493, 128), test (85372, 128)\n"
     ]
    },
    {
     "name": "stderr",
     "output_type": "stream",
     "text": [
      "/home/timothyxp/yes/lib/python3.7/site-packages/lightgbm/basic.py:1243: UserWarning: Using categorical_feature in Dataset.\n",
      "  warnings.warn('Using categorical_feature in Dataset.')\n"
     ]
    },
    {
     "name": "stdout",
     "output_type": "stream",
     "text": [
      "Training until validation scores don't improve for 50 rounds\n",
      "[50]\ttraining's custom_asymmetric_eval: 3.09331\tvalid_1's custom_asymmetric_eval: 3.22568\n",
      "[100]\ttraining's custom_asymmetric_eval: 2.8412\tvalid_1's custom_asymmetric_eval: 3.27913\n",
      "Early stopping, best iteration is:\n",
      "[51]\ttraining's custom_asymmetric_eval: 3.08641\tvalid_1's custom_asymmetric_eval: 3.22277\n",
      "mse = 2.9458078199969537\n",
      "processing WI_2\n"
     ]
    },
    {
     "name": "stderr",
     "output_type": "stream",
     "text": [
      "/home/timothyxp/yes/lib/python3.7/site-packages/pyarrow/__init__.py:157: UserWarning: pyarrow.open_stream is deprecated, please use pyarrow.ipc.open_stream\n",
      "  warnings.warn(\"pyarrow.open_stream is deprecated, please use \"\n",
      "/home/timothyxp/yes/lib/python3.7/site-packages/pyarrow/__init__.py:157: UserWarning: pyarrow.open_stream is deprecated, please use pyarrow.ipc.open_stream\n",
      "  warnings.warn(\"pyarrow.open_stream is deprecated, please use \"\n"
     ]
    },
    {
     "name": "stdout",
     "output_type": "stream",
     "text": [
      "have for train (2276604, 128), test (85372, 128)\n"
     ]
    },
    {
     "name": "stderr",
     "output_type": "stream",
     "text": [
      "/home/timothyxp/yes/lib/python3.7/site-packages/lightgbm/basic.py:1243: UserWarning: Using categorical_feature in Dataset.\n",
      "  warnings.warn('Using categorical_feature in Dataset.')\n"
     ]
    },
    {
     "name": "stdout",
     "output_type": "stream",
     "text": [
      "Training until validation scores don't improve for 50 rounds\n",
      "[50]\ttraining's custom_asymmetric_eval: 6.51876\tvalid_1's custom_asymmetric_eval: 10.5165\n",
      "[100]\ttraining's custom_asymmetric_eval: 5.5164\tvalid_1's custom_asymmetric_eval: 10.3331\n",
      "[150]\ttraining's custom_asymmetric_eval: 5.00204\tvalid_1's custom_asymmetric_eval: 10.3276\n",
      "Early stopping, best iteration is:\n",
      "[103]\ttraining's custom_asymmetric_eval: 5.47311\tvalid_1's custom_asymmetric_eval: 10.3104\n",
      "mse = 9.347140120664857\n",
      "processing WI_3\n"
     ]
    },
    {
     "name": "stderr",
     "output_type": "stream",
     "text": [
      "/home/timothyxp/yes/lib/python3.7/site-packages/pyarrow/__init__.py:157: UserWarning: pyarrow.open_stream is deprecated, please use pyarrow.ipc.open_stream\n",
      "  warnings.warn(\"pyarrow.open_stream is deprecated, please use \"\n",
      "/home/timothyxp/yes/lib/python3.7/site-packages/pyarrow/__init__.py:157: UserWarning: pyarrow.open_stream is deprecated, please use pyarrow.ipc.open_stream\n",
      "  warnings.warn(\"pyarrow.open_stream is deprecated, please use \"\n"
     ]
    },
    {
     "name": "stdout",
     "output_type": "stream",
     "text": [
      "have for train (2272558, 128), test (85372, 128)\n"
     ]
    },
    {
     "name": "stderr",
     "output_type": "stream",
     "text": [
      "/home/timothyxp/yes/lib/python3.7/site-packages/lightgbm/basic.py:1243: UserWarning: Using categorical_feature in Dataset.\n",
      "  warnings.warn('Using categorical_feature in Dataset.')\n"
     ]
    },
    {
     "name": "stdout",
     "output_type": "stream",
     "text": [
      "Training until validation scores don't improve for 50 rounds\n",
      "[50]\ttraining's custom_asymmetric_eval: 3.72283\tvalid_1's custom_asymmetric_eval: 4.82572\n",
      "[100]\ttraining's custom_asymmetric_eval: 3.2996\tvalid_1's custom_asymmetric_eval: 4.81875\n",
      "Early stopping, best iteration is:\n",
      "[56]\ttraining's custom_asymmetric_eval: 3.64919\tvalid_1's custom_asymmetric_eval: 4.79747\n",
      "mse = 4.374154486800307\n"
     ]
    }
   ],
   "source": [
    "for store_id in stores:\n",
    "    print(f\"processing {store_id}\")\n",
    "    features = utils.read_parquet(f\"{train_data_dir}/{store_id}_data.parquet\")\n",
    "    train_data = features \\\n",
    "        .where(SF.col(\"day\") <= 1885) \\\n",
    "        .where(SF.col(\"day\") > 1120) \\\n",
    "        .toPandas()\n",
    "\n",
    "    test_data = features \\\n",
    "        .where(SF.col(\"day\") > 1885) \\\n",
    "        .where(SF.col(\"day\") <= 1913) \\\n",
    "        .toPandas()\n",
    "    \n",
    "\n",
    "    target = train_data[\"demand\"]\n",
    "    train_data.drop(columns=non_feature_columns + [\"demand\"], inplace=True)\n",
    "    \n",
    "    test_target = test_data[\"demand\"]\n",
    "    test_data.drop(columns=non_feature_columns + [\"demand\"], inplace=True)\n",
    "    \n",
    "    print(f\"have for train {train_data.shape}, test {test_data.shape}\")\n",
    "    \n",
    "    train_data = lgb.Dataset(train_data, label=target, categorical_feature=cat_features)\n",
    "    \n",
    "    valid_data = lgb.Dataset(test_data, label=test_target, categorical_feature=cat_features)\n",
    "    \n",
    "    model = lgb.train(\n",
    "        params,\n",
    "        train_data,\n",
    "        valid_sets = [train_data, valid_data],\n",
    "        verbose_eval = 50,\n",
    "        num_boost_round = 10000,\n",
    "        early_stopping_rounds = 50, \n",
    "        fobj = custom_asymmetric_train, \n",
    "        feval = custom_asymmetric_valid\n",
    "    )\n",
    "    preds = model.predict(test_data)\n",
    "    print(f\"mse = {mean_squared_error(test_target, preds)}\")\n",
    "    \n",
    "    utils.save_pickle(f\"{train_data_dir}/{store_id}_model.bin\", model)"
   ]
  },
  {
   "cell_type": "code",
   "execution_count": 26,
   "metadata": {},
   "outputs": [],
   "source": [
    "features_columns = train_data.feature_name\n",
    "utils.save_pickle(\"/mnt/m5_features.json\", features_columns)"
   ]
  },
  {
   "cell_type": "code",
   "execution_count": 27,
   "metadata": {},
   "outputs": [],
   "source": [
    "features_columns = utils.load_pickle(\"/mnt/m5_features.json\")"
   ]
  },
  {
   "cell_type": "code",
   "execution_count": 28,
   "metadata": {
    "collapsed": true
   },
   "outputs": [
    {
     "data": {
      "application/vnd.jupyter.widget-view+json": {
       "model_id": "ec974ec2a0a24bf5b6b09f0e43ff8075",
       "version_major": 2,
       "version_minor": 0
      },
      "text/plain": [
       "HBox(children=(IntProgress(value=0, max=10), HTML(value='')))"
      ]
     },
     "metadata": {},
     "output_type": "display_data"
    },
    {
     "name": "stderr",
     "output_type": "stream",
     "text": [
      "/home/timothyxp/yes/lib/python3.7/site-packages/pyarrow/__init__.py:157: UserWarning: pyarrow.open_stream is deprecated, please use pyarrow.ipc.open_stream\n",
      "  warnings.warn(\"pyarrow.open_stream is deprecated, please use \"\n",
      "/home/timothyxp/yes/lib/python3.7/site-packages/ipykernel_launcher.py:9: SettingWithCopyWarning: \n",
      "A value is trying to be set on a copy of a slice from a DataFrame.\n",
      "Try using .loc[row_indexer,col_indexer] = value instead\n",
      "\n",
      "See the caveats in the documentation: http://pandas.pydata.org/pandas-docs/stable/user_guide/indexing.html#returning-a-view-versus-a-copy\n",
      "  if __name__ == '__main__':\n",
      "/home/timothyxp/yes/lib/python3.7/site-packages/pyarrow/__init__.py:157: UserWarning: pyarrow.open_stream is deprecated, please use pyarrow.ipc.open_stream\n",
      "  warnings.warn(\"pyarrow.open_stream is deprecated, please use \"\n",
      "/home/timothyxp/yes/lib/python3.7/site-packages/pyarrow/__init__.py:157: UserWarning: pyarrow.open_stream is deprecated, please use pyarrow.ipc.open_stream\n",
      "  warnings.warn(\"pyarrow.open_stream is deprecated, please use \"\n",
      "/home/timothyxp/yes/lib/python3.7/site-packages/pyarrow/__init__.py:157: UserWarning: pyarrow.open_stream is deprecated, please use pyarrow.ipc.open_stream\n",
      "  warnings.warn(\"pyarrow.open_stream is deprecated, please use \"\n",
      "/home/timothyxp/yes/lib/python3.7/site-packages/pyarrow/__init__.py:157: UserWarning: pyarrow.open_stream is deprecated, please use pyarrow.ipc.open_stream\n",
      "  warnings.warn(\"pyarrow.open_stream is deprecated, please use \"\n",
      "/home/timothyxp/yes/lib/python3.7/site-packages/pyarrow/__init__.py:157: UserWarning: pyarrow.open_stream is deprecated, please use pyarrow.ipc.open_stream\n",
      "  warnings.warn(\"pyarrow.open_stream is deprecated, please use \"\n",
      "/home/timothyxp/yes/lib/python3.7/site-packages/pyarrow/__init__.py:157: UserWarning: pyarrow.open_stream is deprecated, please use pyarrow.ipc.open_stream\n",
      "  warnings.warn(\"pyarrow.open_stream is deprecated, please use \"\n",
      "/home/timothyxp/yes/lib/python3.7/site-packages/pyarrow/__init__.py:157: UserWarning: pyarrow.open_stream is deprecated, please use pyarrow.ipc.open_stream\n",
      "  warnings.warn(\"pyarrow.open_stream is deprecated, please use \"\n",
      "/home/timothyxp/yes/lib/python3.7/site-packages/pyarrow/__init__.py:157: UserWarning: pyarrow.open_stream is deprecated, please use pyarrow.ipc.open_stream\n",
      "  warnings.warn(\"pyarrow.open_stream is deprecated, please use \"\n",
      "/home/timothyxp/yes/lib/python3.7/site-packages/pyarrow/__init__.py:157: UserWarning: pyarrow.open_stream is deprecated, please use pyarrow.ipc.open_stream\n",
      "  warnings.warn(\"pyarrow.open_stream is deprecated, please use \"\n"
     ]
    },
    {
     "name": "stdout",
     "output_type": "stream",
     "text": [
      "\n"
     ]
    }
   ],
   "source": [
    "from tqdm import tqdm_notebook\n",
    "preds = []\n",
    "\n",
    "for store_id in tqdm_notebook(stores):\n",
    "    model = utils.load_pickle(f\"{train_data_dir}/{store_id}_model.bin\")\n",
    "    inference_features = utils \\\n",
    "        .read_parquet(f\"{train_data_dir}/{store_id}_data.parquet\") \\\n",
    "        .where(SF.col(\"day\") > 1913) \\\n",
    "        .toPandas()\n",
    "    pred = inference_features[[\"id\", \"day\"]]\n",
    "    prediction = model.predict(inference_features[features_columns])\n",
    "    pred[\"prediction\"] = prediction\n",
    "    preds.append(pred)\n"
   ]
  },
  {
   "cell_type": "code",
   "execution_count": 29,
   "metadata": {},
   "outputs": [],
   "source": [
    "preds = pd.concat(preds)"
   ]
  },
  {
   "cell_type": "code",
   "execution_count": 30,
   "metadata": {},
   "outputs": [],
   "source": [
    "submission = []\n",
    "\n",
    "for iid, group in tqdm_notebook(preds.groupby(\"id\")):\n",
    "    group = group[group.day > 1913].sort_values(\"day\")\n",
    "    assert group.shape[0] == 28\n",
    "    submission.append([iid] + group.prediction.tolist())"
   ]
  },
  {
   "cell_type": "code",
   "execution_count": 31,
   "metadata": {},
   "outputs": [
    {
     "name": "stdout",
     "output_type": "stream",
     "text": [
      "(60980, 29)\n"
     ]
    }
   ],
   "source": [
    "predict_columns = [f\"F{i}\" for i in range(1, 29)]\n",
    "submission = pd.DataFrame(submission, columns=[\"id\"] + predict_columns)\n",
    "sample = pd.read_csv('sample_submission.csv')\n",
    "sample = sample[~sample.id.isin(submission.id)]\n",
    "\n",
    "result_submission = pd.concat([submission, sample])\n",
    "print(result_submission.shape)\n",
    "result_submission.to_csv(\"submission.csv\", index=False)"
   ]
  },
  {
   "cell_type": "code",
   "execution_count": null,
   "metadata": {},
   "outputs": [],
   "source": []
  },
  {
   "cell_type": "code",
   "execution_count": null,
   "metadata": {},
   "outputs": [],
   "source": [
    "import pyspark.sql.types as ST\n",
    "from tqdm import tqdm_notebook\n",
    "\n",
    "for i in tqdm_notebook(range(1, 29)):    \n",
    "    print(f\"processing {i} day\")\n",
    "    \n",
    "    models = {}\n",
    "    features = []\n",
    "    \n",
    "    for store_id in stores:\n",
    "        models[store_id] = utils.load_pickle(f\"{train_data_dir}/{store_id}_model.bin\")\n",
    "        features.append(utils \\\n",
    "            .read_parquet(f\"{train_data_dir}/{store_id}_data.parquet\") \\\n",
    "            .withColumn(\"demand\", SF.col(\"demand\").cast(ST.FloatType())) \\\n",
    "            .where(SF.col(\"dat\") > 1913 - 60) \\\n",
    "            .toPandas())\n",
    "    features = pd.concat(features)    \n",
    "    \n",
    "    \n",
    "    \n",
    "    schema = features.select(meta_columns + feature_meta_columns).schema\n",
    "    schema = schema.add(ST.StructField(\"demand\", ST.FloatType(), True))\n",
    "\n",
    "    @SF.pandas_udf(schema, SF.PandasUDFType.GROUPED_MAP)\n",
    "    def predict_func(df):\n",
    "        store = df[\"store_id\"].iloc[0]\n",
    "        preds =  models[store].predict(df[features_columns].astype(float))\n",
    "        df[\"demand\"] = preds\n",
    "        return df[meta_columns + feature_meta_columns + [\"demand\"]]\n",
    "\n",
    "    \n",
    "    data = features \\\n",
    "        .where(SF.col(\"day\") > 1913 - 60) \\\n",
    "        .where(SF.col(\"day\") <= 1913) \\\n",
    "        .select(meta_columns + feature_meta_columns + [\"demand\"])\n",
    "\n",
    "    for_prediction = features \\\n",
    "            .where(SF.col(\"day\") == 1914)\n",
    "    \n",
    "    predictions = for_prediction.groupby(\"store_id\").apply(predict_func)\n",
    "\n",
    "    next_data = features \\\n",
    "        .where(SF.col(\"day\") == 1913 + i + 1) \\\n",
    "        .select(meta_columns + feature_meta_columns)\n",
    "\n",
    "    if i == 28:\n",
    "        data = utils.concatenate([data, predictions])\n",
    "        utils.write_parquet(data, f\"{train_data_dir}/inference_{i}.parquet\")\n",
    "        break\n",
    "    else:\n",
    "        data = utils.concatenate([data, predictions, next_data])\n",
    "        \n",
    "    data = get_features(data, inference=True)\n",
    "    \n",
    "    utils.write_parquet(data, f\"{train_data_dir}/inference_{i}.parquet\")\n",
    "    data = utils.read_parquet(f\"{train_data_dir}/inference_{i}.parquet\").cache()\n",
    "\n",
    "    for_prediction = data.where(SF.col(\"day\") == 1913 + i + 1)\n",
    "\n",
    "    data = data.where(SF.col(\"day\") < 1913 + i + 1).select(meta_columns + feature_meta_columns)\n",
    "\n"
   ]
  },
  {
   "cell_type": "code",
   "execution_count": 114,
   "metadata": {},
   "outputs": [
    {
     "name": "stderr",
     "output_type": "stream",
     "text": [
      "/home/timothyxp/yes/lib/python3.7/site-packages/pyarrow/__init__.py:157: UserWarning: pyarrow.open_stream is deprecated, please use pyarrow.ipc.open_stream\n",
      "  warnings.warn(\"pyarrow.open_stream is deprecated, please use \"\n"
     ]
    }
   ],
   "source": [
    "tes =  utils.read_parquet(\"/mnt/m5_all_train_data/CA_1_1_iter_inference.parquet\").toPandas()"
   ]
  },
  {
   "cell_type": "code",
   "execution_count": null,
   "metadata": {},
   "outputs": [],
   "source": []
  },
  {
   "cell_type": "code",
   "execution_count": 124,
   "metadata": {},
   "outputs": [
    {
     "data": {
      "text/plain": [
       "dtype('O')"
      ]
     },
     "execution_count": 124,
     "metadata": {},
     "output_type": "execute_result"
    }
   ],
   "source": [
    "tes.dtypes[\"previous_demand_by_item_id&store_id_at_1\"]"
   ]
  },
  {
   "cell_type": "code",
   "execution_count": 118,
   "metadata": {},
   "outputs": [
    {
     "data": {
      "text/plain": [
       "3049"
      ]
     },
     "execution_count": 118,
     "metadata": {},
     "output_type": "execute_result"
    }
   ],
   "source": [
    "tes.demand.isna().sum()"
   ]
  },
  {
   "cell_type": "code",
   "execution_count": null,
   "metadata": {},
   "outputs": [],
   "source": []
  },
  {
   "cell_type": "code",
   "execution_count": 9,
   "metadata": {},
   "outputs": [],
   "source": [
    "test_data = pd.read_parquet(\"/mnt/m5_test_data.parquet\")\n",
    "inference_data = pd.read_parquet(\"/mnt/m5_inference_data.parquet\")"
   ]
  },
  {
   "cell_type": "code",
   "execution_count": 10,
   "metadata": {},
   "outputs": [
    {
     "data": {
      "application/vnd.jupyter.widget-view+json": {
       "model_id": "92fbd9a1038a41f89b86b65118699a6c",
       "version_major": 2,
       "version_minor": 0
      },
      "text/plain": [
       "HBox(children=(IntProgress(value=0, max=36), HTML(value='')))"
      ]
     },
     "metadata": {},
     "output_type": "display_data"
    },
    {
     "name": "stdout",
     "output_type": "stream",
     "text": [
      "\n"
     ]
    }
   ],
   "source": [
    "train_data = utils.read_pandas_parquet_from_spark('/mnt/m5_train_data.parquet')\n",
    "# потому что ебучий спарк не может отправить в пандас такой объем данных"
   ]
  },
  {
   "cell_type": "code",
   "execution_count": 11,
   "metadata": {},
   "outputs": [
    {
     "data": {
      "text/plain": [
       "(16845993, 235)"
      ]
     },
     "execution_count": 11,
     "metadata": {},
     "output_type": "execute_result"
    }
   ],
   "source": [
    "train_data.shape"
   ]
  },
  {
   "cell_type": "code",
   "execution_count": 12,
   "metadata": {},
   "outputs": [
    {
     "data": {
      "text/plain": [
       "array([dtype('int64'), dtype('int32'), dtype('float32'), dtype('float64')],\n",
       "      dtype=object)"
      ]
     },
     "execution_count": 12,
     "metadata": {},
     "output_type": "execute_result"
    }
   ],
   "source": [
    "meta_columns = [\"store_id\", \"state_id\", \"cat_id\", \"dept_id\", \"item_id\", \"id\"]\n",
    "target = train_data[\"demand\"]\n",
    "train_data.drop(columns= meta_columns + [\"demand\"], inplace=True)\n",
    "train_data.dtypes.unique() # check for types"
   ]
  },
  {
   "cell_type": "code",
   "execution_count": 13,
   "metadata": {},
   "outputs": [],
   "source": [
    "test_target = test_data[\"demand\"]\n",
    "test_data.drop(columns=meta_columns + [\"demand\"], inplace=True)"
   ]
  },
  {
   "cell_type": "code",
   "execution_count": 14,
   "metadata": {},
   "outputs": [],
   "source": [
    "for column in train_data.columns:\n",
    "    train_data[column] = train_data[column].astype(\"float32\")\n",
    "    test_data[column] = test_data[column].astype(\"float32\")"
   ]
  },
  {
   "cell_type": "code",
   "execution_count": 11,
   "metadata": {},
   "outputs": [],
   "source": [
    "def get_model(activation = \"tanh\"):\n",
    "    model = Sequential()\n",
    "    model.add(Dense(128, input_shape=(train_data.shape[1],)))\n",
    "    model.add(Activation(activation))\n",
    "    model.add(Dropout(0.4))\n",
    "    model.add(Dense(100))\n",
    "    model.add(Activation(activation))\n",
    "    model.add(Dense(64))\n",
    "    model.add(Activation(activation))\n",
    "    model.add(Dense(32))\n",
    "    model.add(Activation(activation))\n",
    "    model.add(Dropout(0.4))\n",
    "    model.add(Dense(1)) # result layer\n",
    "    return model"
   ]
  },
  {
   "cell_type": "code",
   "execution_count": 16,
   "metadata": {},
   "outputs": [
    {
     "name": "stdout",
     "output_type": "stream",
     "text": [
      "Model: \"sequential_3\"\n",
      "_________________________________________________________________\n",
      "Layer (type)                 Output Shape              Param #   \n",
      "=================================================================\n",
      "dense_11 (Dense)             (None, 128)               29312     \n",
      "_________________________________________________________________\n",
      "activation_9 (Activation)    (None, 128)               0         \n",
      "_________________________________________________________________\n",
      "dropout_5 (Dropout)          (None, 128)               0         \n",
      "_________________________________________________________________\n",
      "dense_12 (Dense)             (None, 100)               12900     \n",
      "_________________________________________________________________\n",
      "activation_10 (Activation)   (None, 100)               0         \n",
      "_________________________________________________________________\n",
      "dense_13 (Dense)             (None, 64)                6464      \n",
      "_________________________________________________________________\n",
      "activation_11 (Activation)   (None, 64)                0         \n",
      "_________________________________________________________________\n",
      "dense_14 (Dense)             (None, 32)                2080      \n",
      "_________________________________________________________________\n",
      "activation_12 (Activation)   (None, 32)                0         \n",
      "_________________________________________________________________\n",
      "dropout_6 (Dropout)          (None, 32)                0         \n",
      "_________________________________________________________________\n",
      "dense_15 (Dense)             (None, 1)                 33        \n",
      "=================================================================\n",
      "Total params: 50,789\n",
      "Trainable params: 50,789\n",
      "Non-trainable params: 0\n",
      "_________________________________________________________________\n"
     ]
    }
   ],
   "source": [
    "model = get_model()\n",
    "model.summary()\n",
    "\n",
    "lr = 0.0005\n",
    "decay = 2e-6\n",
    "tensorboard_callback = TensorBoard(\n",
    "    log_dir=f\"/home/timothyxp/kaggle/m5_accuracy/tensorboard_logs/mlp_fe1_lr={lr}_decay={decay}_ex=1\")\n",
    "model.compile(\n",
    "    loss=\"mse\",\n",
    "    optimizer=Adam(lr, decay=decay),\n",
    "    metrics=[\"mae\"]\n",
    ")"
   ]
  },
  {
   "cell_type": "code",
   "execution_count": 32,
   "metadata": {},
   "outputs": [
    {
     "data": {
      "text/html": [
       "<div>\n",
       "<style scoped>\n",
       "    .dataframe tbody tr th:only-of-type {\n",
       "        vertical-align: middle;\n",
       "    }\n",
       "\n",
       "    .dataframe tbody tr th {\n",
       "        vertical-align: top;\n",
       "    }\n",
       "\n",
       "    .dataframe thead th {\n",
       "        text-align: right;\n",
       "    }\n",
       "</style>\n",
       "<table border=\"1\" class=\"dataframe\">\n",
       "  <thead>\n",
       "    <tr style=\"text-align: right;\">\n",
       "      <th></th>\n",
       "      <th>store_id</th>\n",
       "      <th>state_id</th>\n",
       "      <th>cat_id</th>\n",
       "      <th>dept_id</th>\n",
       "      <th>item_id</th>\n",
       "      <th>id</th>\n",
       "      <th>prediction</th>\n",
       "      <th>day</th>\n",
       "    </tr>\n",
       "  </thead>\n",
       "  <tbody>\n",
       "    <tr>\n",
       "      <th>0</th>\n",
       "      <td>1</td>\n",
       "      <td>0</td>\n",
       "      <td>0</td>\n",
       "      <td>1</td>\n",
       "      <td>227</td>\n",
       "      <td>FOODS_2_012_CA_2_validation</td>\n",
       "      <td>0.641679</td>\n",
       "      <td>1940</td>\n",
       "    </tr>\n",
       "  </tbody>\n",
       "</table>\n",
       "</div>"
      ],
      "text/plain": [
       "   store_id  state_id  cat_id  dept_id  item_id                           id  \\\n",
       "0         1         0       0        1      227  FOODS_2_012_CA_2_validation   \n",
       "\n",
       "   prediction   day  \n",
       "0    0.641679  1940  "
      ]
     },
     "execution_count": 32,
     "metadata": {},
     "output_type": "execute_result"
    }
   ],
   "source": [
    "meta_data.head(1)"
   ]
  },
  {
   "cell_type": "code",
   "execution_count": 17,
   "metadata": {
    "collapsed": true
   },
   "outputs": [
    {
     "name": "stdout",
     "output_type": "stream",
     "text": [
      "Train on 16845993 samples, validate on 16845993 samples\n",
      "Epoch 1/200\n",
      " 2619392/16845993 [===>..........................] - ETA: 4:00 - loss: 12.8114 - mae: 1.6069"
     ]
    },
    {
     "ename": "KeyboardInterrupt",
     "evalue": "",
     "output_type": "error",
     "traceback": [
      "\u001b[0;31m---------------------------------------------------------------------------\u001b[0m",
      "\u001b[0;31mKeyboardInterrupt\u001b[0m                         Traceback (most recent call last)",
      "\u001b[0;32m<ipython-input-17-fa72bb32c173>\u001b[0m in \u001b[0;36m<module>\u001b[0;34m()\u001b[0m\n\u001b[1;32m      9\u001b[0m     validation_data=(\n\u001b[1;32m     10\u001b[0m         \u001b[0mtrain_data\u001b[0m\u001b[0;34m,\u001b[0m\u001b[0;34m\u001b[0m\u001b[0;34m\u001b[0m\u001b[0m\n\u001b[0;32m---> 11\u001b[0;31m         \u001b[0mtarget\u001b[0m\u001b[0;34m\u001b[0m\u001b[0;34m\u001b[0m\u001b[0m\n\u001b[0m\u001b[1;32m     12\u001b[0m     )\n\u001b[1;32m     13\u001b[0m )\n",
      "\u001b[0;32m~/yes/lib/python3.7/site-packages/keras/engine/training.py\u001b[0m in \u001b[0;36mfit\u001b[0;34m(self, x, y, batch_size, epochs, verbose, callbacks, validation_split, validation_data, shuffle, class_weight, sample_weight, initial_epoch, steps_per_epoch, validation_steps, validation_freq, max_queue_size, workers, use_multiprocessing, **kwargs)\u001b[0m\n\u001b[1;32m   1237\u001b[0m                                         \u001b[0msteps_per_epoch\u001b[0m\u001b[0;34m=\u001b[0m\u001b[0msteps_per_epoch\u001b[0m\u001b[0;34m,\u001b[0m\u001b[0;34m\u001b[0m\u001b[0;34m\u001b[0m\u001b[0m\n\u001b[1;32m   1238\u001b[0m                                         \u001b[0mvalidation_steps\u001b[0m\u001b[0;34m=\u001b[0m\u001b[0mvalidation_steps\u001b[0m\u001b[0;34m,\u001b[0m\u001b[0;34m\u001b[0m\u001b[0;34m\u001b[0m\u001b[0m\n\u001b[0;32m-> 1239\u001b[0;31m                                         validation_freq=validation_freq)\n\u001b[0m\u001b[1;32m   1240\u001b[0m \u001b[0;34m\u001b[0m\u001b[0m\n\u001b[1;32m   1241\u001b[0m     def evaluate(self,\n",
      "\u001b[0;32m~/yes/lib/python3.7/site-packages/keras/engine/training_arrays.py\u001b[0m in \u001b[0;36mfit_loop\u001b[0;34m(model, fit_function, fit_inputs, out_labels, batch_size, epochs, verbose, callbacks, val_function, val_inputs, shuffle, initial_epoch, steps_per_epoch, validation_steps, validation_freq)\u001b[0m\n\u001b[1;32m    194\u001b[0m                     \u001b[0mins_batch\u001b[0m\u001b[0;34m[\u001b[0m\u001b[0mi\u001b[0m\u001b[0;34m]\u001b[0m \u001b[0;34m=\u001b[0m \u001b[0mins_batch\u001b[0m\u001b[0;34m[\u001b[0m\u001b[0mi\u001b[0m\u001b[0;34m]\u001b[0m\u001b[0;34m.\u001b[0m\u001b[0mtoarray\u001b[0m\u001b[0;34m(\u001b[0m\u001b[0;34m)\u001b[0m\u001b[0;34m\u001b[0m\u001b[0;34m\u001b[0m\u001b[0m\n\u001b[1;32m    195\u001b[0m \u001b[0;34m\u001b[0m\u001b[0m\n\u001b[0;32m--> 196\u001b[0;31m                 \u001b[0mouts\u001b[0m \u001b[0;34m=\u001b[0m \u001b[0mfit_function\u001b[0m\u001b[0;34m(\u001b[0m\u001b[0mins_batch\u001b[0m\u001b[0;34m)\u001b[0m\u001b[0;34m\u001b[0m\u001b[0;34m\u001b[0m\u001b[0m\n\u001b[0m\u001b[1;32m    197\u001b[0m                 \u001b[0mouts\u001b[0m \u001b[0;34m=\u001b[0m \u001b[0mto_list\u001b[0m\u001b[0;34m(\u001b[0m\u001b[0mouts\u001b[0m\u001b[0;34m)\u001b[0m\u001b[0;34m\u001b[0m\u001b[0;34m\u001b[0m\u001b[0m\n\u001b[1;32m    198\u001b[0m                 \u001b[0;32mfor\u001b[0m \u001b[0ml\u001b[0m\u001b[0;34m,\u001b[0m \u001b[0mo\u001b[0m \u001b[0;32min\u001b[0m \u001b[0mzip\u001b[0m\u001b[0;34m(\u001b[0m\u001b[0mout_labels\u001b[0m\u001b[0;34m,\u001b[0m \u001b[0mouts\u001b[0m\u001b[0;34m)\u001b[0m\u001b[0;34m:\u001b[0m\u001b[0;34m\u001b[0m\u001b[0;34m\u001b[0m\u001b[0m\n",
      "\u001b[0;32m~/yes/lib/python3.7/site-packages/tensorflow/python/keras/backend.py\u001b[0m in \u001b[0;36m__call__\u001b[0;34m(self, inputs)\u001b[0m\n\u001b[1;32m   3074\u001b[0m \u001b[0;34m\u001b[0m\u001b[0m\n\u001b[1;32m   3075\u001b[0m     fetched = self._callable_fn(*array_vals,\n\u001b[0;32m-> 3076\u001b[0;31m                                 run_metadata=self.run_metadata)\n\u001b[0m\u001b[1;32m   3077\u001b[0m     \u001b[0mself\u001b[0m\u001b[0;34m.\u001b[0m\u001b[0m_call_fetch_callbacks\u001b[0m\u001b[0;34m(\u001b[0m\u001b[0mfetched\u001b[0m\u001b[0;34m[\u001b[0m\u001b[0;34m-\u001b[0m\u001b[0mlen\u001b[0m\u001b[0;34m(\u001b[0m\u001b[0mself\u001b[0m\u001b[0;34m.\u001b[0m\u001b[0m_fetches\u001b[0m\u001b[0;34m)\u001b[0m\u001b[0;34m:\u001b[0m\u001b[0;34m]\u001b[0m\u001b[0;34m)\u001b[0m\u001b[0;34m\u001b[0m\u001b[0;34m\u001b[0m\u001b[0m\n\u001b[1;32m   3078\u001b[0m     return nest.pack_sequence_as(self._outputs_structure,\n",
      "\u001b[0;32m~/yes/lib/python3.7/site-packages/tensorflow/python/client/session.py\u001b[0m in \u001b[0;36m__call__\u001b[0;34m(self, *args, **kwargs)\u001b[0m\n\u001b[1;32m   1437\u001b[0m           ret = tf_session.TF_SessionRunCallable(\n\u001b[1;32m   1438\u001b[0m               \u001b[0mself\u001b[0m\u001b[0;34m.\u001b[0m\u001b[0m_session\u001b[0m\u001b[0;34m.\u001b[0m\u001b[0m_session\u001b[0m\u001b[0;34m,\u001b[0m \u001b[0mself\u001b[0m\u001b[0;34m.\u001b[0m\u001b[0m_handle\u001b[0m\u001b[0;34m,\u001b[0m \u001b[0margs\u001b[0m\u001b[0;34m,\u001b[0m \u001b[0mstatus\u001b[0m\u001b[0;34m,\u001b[0m\u001b[0;34m\u001b[0m\u001b[0;34m\u001b[0m\u001b[0m\n\u001b[0;32m-> 1439\u001b[0;31m               run_metadata_ptr)\n\u001b[0m\u001b[1;32m   1440\u001b[0m         \u001b[0;32mif\u001b[0m \u001b[0mrun_metadata\u001b[0m\u001b[0;34m:\u001b[0m\u001b[0;34m\u001b[0m\u001b[0;34m\u001b[0m\u001b[0m\n\u001b[1;32m   1441\u001b[0m           \u001b[0mproto_data\u001b[0m \u001b[0;34m=\u001b[0m \u001b[0mtf_session\u001b[0m\u001b[0;34m.\u001b[0m\u001b[0mTF_GetBuffer\u001b[0m\u001b[0;34m(\u001b[0m\u001b[0mrun_metadata_ptr\u001b[0m\u001b[0;34m)\u001b[0m\u001b[0;34m\u001b[0m\u001b[0;34m\u001b[0m\u001b[0m\n",
      "\u001b[0;31mKeyboardInterrupt\u001b[0m: "
     ]
    }
   ],
   "source": [
    "model.fit(\n",
    "    train_data,\n",
    "    target,\n",
    "    batch_size=512,\n",
    "    epochs=200,\n",
    "    verbose=1,\n",
    "    shuffle=True,\n",
    "    callbacks=[tensorboard_callback],\n",
    "    validation_data=(\n",
    "        train_data,\n",
    "        target\n",
    "    )\n",
    ")"
   ]
  },
  {
   "cell_type": "code",
   "execution_count": 18,
   "metadata": {},
   "outputs": [],
   "source": [
    "params = {\n",
    "        'boosting_type': 'gbdt',\n",
    "        'objective': 'tweedie',\n",
    "        'tweedie_variance_power': 1.1,\n",
    "        'metric': 'rmse',\n",
    "        'subsample': 0.5,\n",
    "        'subsample_freq': 1,\n",
    "        'learning_rate': 0.03,\n",
    "        'n_estimators': 300,\n",
    "        'boost_from_average': False,\n",
    "} \n",
    "\n",
    "lqb_model = lgb.LGBMRegressor(**params)"
   ]
  },
  {
   "cell_type": "code",
   "execution_count": 19,
   "metadata": {},
   "outputs": [
    {
     "name": "stdout",
     "output_type": "stream",
     "text": [
      "[4]\tvalid_0's rmse: 3.50962\n",
      "[8]\tvalid_0's rmse: 3.38814\n",
      "[12]\tvalid_0's rmse: 3.26013\n",
      "[16]\tvalid_0's rmse: 3.13554\n",
      "[20]\tvalid_0's rmse: 3.01981\n",
      "[24]\tvalid_0's rmse: 2.91612\n",
      "[28]\tvalid_0's rmse: 2.82506\n",
      "[32]\tvalid_0's rmse: 2.74643\n",
      "[36]\tvalid_0's rmse: 2.68035\n",
      "[40]\tvalid_0's rmse: 2.62406\n",
      "[44]\tvalid_0's rmse: 2.57644\n",
      "[48]\tvalid_0's rmse: 2.53613\n",
      "[52]\tvalid_0's rmse: 2.50304\n",
      "[56]\tvalid_0's rmse: 2.47347\n",
      "[60]\tvalid_0's rmse: 2.45077\n",
      "[64]\tvalid_0's rmse: 2.43096\n",
      "[68]\tvalid_0's rmse: 2.4137\n",
      "[72]\tvalid_0's rmse: 2.39892\n",
      "[76]\tvalid_0's rmse: 2.38751\n",
      "[80]\tvalid_0's rmse: 2.37778\n",
      "[84]\tvalid_0's rmse: 2.36942\n",
      "[88]\tvalid_0's rmse: 2.3624\n",
      "[92]\tvalid_0's rmse: 2.35583\n",
      "[96]\tvalid_0's rmse: 2.35058\n",
      "[100]\tvalid_0's rmse: 2.34591\n",
      "[104]\tvalid_0's rmse: 2.34151\n",
      "[108]\tvalid_0's rmse: 2.33817\n",
      "[112]\tvalid_0's rmse: 2.3353\n",
      "[116]\tvalid_0's rmse: 2.33213\n",
      "[120]\tvalid_0's rmse: 2.3289\n",
      "[124]\tvalid_0's rmse: 2.32686\n",
      "[128]\tvalid_0's rmse: 2.32399\n",
      "[132]\tvalid_0's rmse: 2.3219\n",
      "[136]\tvalid_0's rmse: 2.31891\n",
      "[140]\tvalid_0's rmse: 2.31714\n",
      "[144]\tvalid_0's rmse: 2.31553\n",
      "[148]\tvalid_0's rmse: 2.31274\n",
      "[152]\tvalid_0's rmse: 2.3114\n",
      "[156]\tvalid_0's rmse: 2.30999\n",
      "[160]\tvalid_0's rmse: 2.30888\n",
      "[164]\tvalid_0's rmse: 2.30688\n",
      "[168]\tvalid_0's rmse: 2.3061\n",
      "[172]\tvalid_0's rmse: 2.3052\n",
      "[176]\tvalid_0's rmse: 2.30382\n",
      "[180]\tvalid_0's rmse: 2.3027\n",
      "[184]\tvalid_0's rmse: 2.30163\n",
      "[188]\tvalid_0's rmse: 2.30157\n",
      "[192]\tvalid_0's rmse: 2.30124\n",
      "[196]\tvalid_0's rmse: 2.30046\n",
      "[200]\tvalid_0's rmse: 2.30065\n",
      "[204]\tvalid_0's rmse: 2.30027\n",
      "[208]\tvalid_0's rmse: 2.30026\n",
      "[212]\tvalid_0's rmse: 2.30082\n",
      "[216]\tvalid_0's rmse: 2.30014\n",
      "[220]\tvalid_0's rmse: 2.30025\n",
      "[224]\tvalid_0's rmse: 2.29922\n",
      "[228]\tvalid_0's rmse: 2.29805\n",
      "[232]\tvalid_0's rmse: 2.2975\n",
      "[236]\tvalid_0's rmse: 2.29763\n",
      "[240]\tvalid_0's rmse: 2.29778\n",
      "[244]\tvalid_0's rmse: 2.29722\n",
      "[248]\tvalid_0's rmse: 2.29686\n",
      "[252]\tvalid_0's rmse: 2.29586\n",
      "[256]\tvalid_0's rmse: 2.29533\n",
      "[260]\tvalid_0's rmse: 2.2962\n",
      "[264]\tvalid_0's rmse: 2.29575\n",
      "[268]\tvalid_0's rmse: 2.29552\n",
      "[272]\tvalid_0's rmse: 2.29564\n",
      "[276]\tvalid_0's rmse: 2.29457\n",
      "[280]\tvalid_0's rmse: 2.29459\n",
      "[284]\tvalid_0's rmse: 2.29467\n",
      "[288]\tvalid_0's rmse: 2.29442\n",
      "[292]\tvalid_0's rmse: 2.29402\n",
      "[296]\tvalid_0's rmse: 2.29351\n",
      "[300]\tvalid_0's rmse: 2.29303\n"
     ]
    },
    {
     "data": {
      "text/plain": [
       "LGBMRegressor(boost_from_average=False, boosting_type='gbdt',\n",
       "       class_weight=None, colsample_bytree=1.0, importance_type='split',\n",
       "       learning_rate=0.03, max_depth=-1, metric='rmse',\n",
       "       min_child_samples=20, min_child_weight=0.001, min_split_gain=0.0,\n",
       "       n_estimators=300, n_jobs=-1, num_leaves=31, objective='tweedie',\n",
       "       random_state=None, reg_alpha=0.0, reg_lambda=0.0, silent=True,\n",
       "       subsample=0.5, subsample_for_bin=200000, subsample_freq=1,\n",
       "       tweedie_variance_power=1.1)"
      ]
     },
     "execution_count": 19,
     "metadata": {},
     "output_type": "execute_result"
    }
   ],
   "source": [
    "lqb_model.fit(train_data, target, eval_set=(test_data, test_target), verbose=4)"
   ]
  },
  {
   "cell_type": "code",
   "execution_count": 20,
   "metadata": {},
   "outputs": [
    {
     "data": {
      "text/plain": [
       "LGBMRegressor(boost_from_average=False, boosting_type='gbdt',\n",
       "       class_weight=None, colsample_bytree=1.0, importance_type='split',\n",
       "       learning_rate=0.03, max_depth=-1, metric='rmse',\n",
       "       min_child_samples=20, min_child_weight=0.001, min_split_gain=0.0,\n",
       "       n_estimators=300, n_jobs=-1, num_leaves=31, objective='tweedie',\n",
       "       random_state=None, reg_alpha=0.0, reg_lambda=0.0, silent=True,\n",
       "       subsample=0.5, subsample_for_bin=200000, subsample_freq=1,\n",
       "       tweedie_variance_power=1.1)"
      ]
     },
     "execution_count": 20,
     "metadata": {},
     "output_type": "execute_result"
    }
   ],
   "source": [
    "lqb_model"
   ]
  },
  {
   "cell_type": "code",
   "execution_count": 21,
   "metadata": {},
   "outputs": [],
   "source": [
    "test_pred = lqb_model.predict(test_data)"
   ]
  },
  {
   "cell_type": "code",
   "execution_count": 22,
   "metadata": {},
   "outputs": [
    {
     "data": {
      "text/plain": [
       "5.258001482143438"
      ]
     },
     "execution_count": 22,
     "metadata": {},
     "output_type": "execute_result"
    }
   ],
   "source": [
    "from sklearn.metrics import mean_squared_error\n",
    "mean_squared_error(test_target, test_pred)"
   ]
  },
  {
   "cell_type": "code",
   "execution_count": 23,
   "metadata": {},
   "outputs": [],
   "source": [
    "meta_data = inference_data[meta_columns]\n",
    "inference_data.drop(columns=meta_columns + [\"demand\"], inplace=True)"
   ]
  },
  {
   "cell_type": "code",
   "execution_count": 24,
   "metadata": {},
   "outputs": [],
   "source": [
    "preds = lqb_model.predict(inference_data)"
   ]
  },
  {
   "cell_type": "code",
   "execution_count": 25,
   "metadata": {
    "collapsed": true
   },
   "outputs": [
    {
     "name": "stderr",
     "output_type": "stream",
     "text": [
      "/home/timothyxp/yes/lib/python3.7/site-packages/ipykernel_launcher.py:1: SettingWithCopyWarning: \n",
      "A value is trying to be set on a copy of a slice from a DataFrame.\n",
      "Try using .loc[row_indexer,col_indexer] = value instead\n",
      "\n",
      "See the caveats in the documentation: http://pandas.pydata.org/pandas-docs/stable/user_guide/indexing.html#returning-a-view-versus-a-copy\n",
      "  \"\"\"Entry point for launching an IPython kernel.\n",
      "/home/timothyxp/yes/lib/python3.7/site-packages/ipykernel_launcher.py:2: SettingWithCopyWarning: \n",
      "A value is trying to be set on a copy of a slice from a DataFrame.\n",
      "Try using .loc[row_indexer,col_indexer] = value instead\n",
      "\n",
      "See the caveats in the documentation: http://pandas.pydata.org/pandas-docs/stable/user_guide/indexing.html#returning-a-view-versus-a-copy\n",
      "  \n"
     ]
    }
   ],
   "source": [
    "meta_data[\"prediction\"] = preds\n",
    "meta_data[\"day\"] = inference_data[\"day\"]"
   ]
  },
  {
   "cell_type": "code",
   "execution_count": 26,
   "metadata": {
    "collapsed": true
   },
   "outputs": [
    {
     "name": "stderr",
     "output_type": "stream",
     "text": [
      "/home/timothyxp/yes/lib/python3.7/site-packages/ipykernel_launcher.py:3: SettingWithCopyWarning: \n",
      "A value is trying to be set on a copy of a slice from a DataFrame.\n",
      "Try using .loc[row_indexer,col_indexer] = value instead\n",
      "\n",
      "See the caveats in the documentation: http://pandas.pydata.org/pandas-docs/stable/user_guide/indexing.html#returning-a-view-versus-a-copy\n",
      "  This is separate from the ipykernel package so we can avoid doing imports until\n"
     ]
    }
   ],
   "source": [
    "submit = []\n",
    "for iid, group in meta_data[[\"day\", \"prediction\", \"id\"]].groupby(\"id\"):\n",
    "    group[\"day\"] = \"F\" + (group[\"day\"] - 1913).apply(str)\n",
    "    group = group.sort_values(by=[\"day\"])\n",
    "    submit.append([iid] + group[\"prediction\"].tolist())"
   ]
  },
  {
   "cell_type": "code",
   "execution_count": 27,
   "metadata": {},
   "outputs": [],
   "source": [
    "predict_columns = [f\"F{i}\" for i in range(1, 29)]\n",
    "submission = pd.DataFrame(submit, columns=[\"id\"] + predict_columns)\n",
    "sample = pd.read_csv('sample_submission.csv')\n",
    "sample = sample[~sample.id.isin(submission.id)]\n",
    "\n",
    "result_submission = pd.concat([submission, sample])\n",
    "print(result_submission.shape)\n",
    "result_submission.to_csv(\"submission.csv\", index=False)"
   ]
  },
  {
   "cell_type": "code",
   "execution_count": 28,
   "metadata": {},
   "outputs": [],
   "source": []
  },
  {
   "cell_type": "code",
   "execution_count": 29,
   "metadata": {},
   "outputs": [],
   "source": []
  },
  {
   "cell_type": "code",
   "execution_count": 30,
   "metadata": {},
   "outputs": [
    {
     "data": {
      "text/plain": [
       "(60980, 29)"
      ]
     },
     "execution_count": 30,
     "metadata": {},
     "output_type": "execute_result"
    }
   ],
   "source": []
  },
  {
   "cell_type": "code",
   "execution_count": 31,
   "metadata": {},
   "outputs": [],
   "source": []
  },
  {
   "cell_type": "code",
   "execution_count": 119,
   "metadata": {},
   "outputs": [
    {
     "data": {
      "text/plain": [
       "(30490, 29)"
      ]
     },
     "execution_count": 119,
     "metadata": {},
     "output_type": "execute_result"
    }
   ],
   "source": [
    "sample.shape"
   ]
  },
  {
   "cell_type": "code",
   "execution_count": 120,
   "metadata": {},
   "outputs": [
    {
     "data": {
      "text/html": [
       "<div>\n",
       "<style scoped>\n",
       "    .dataframe tbody tr th:only-of-type {\n",
       "        vertical-align: middle;\n",
       "    }\n",
       "\n",
       "    .dataframe tbody tr th {\n",
       "        vertical-align: top;\n",
       "    }\n",
       "\n",
       "    .dataframe thead th {\n",
       "        text-align: right;\n",
       "    }\n",
       "</style>\n",
       "<table border=\"1\" class=\"dataframe\">\n",
       "  <thead>\n",
       "    <tr style=\"text-align: right;\">\n",
       "      <th></th>\n",
       "      <th>id</th>\n",
       "      <th>F1</th>\n",
       "      <th>F2</th>\n",
       "      <th>F3</th>\n",
       "      <th>F4</th>\n",
       "      <th>F5</th>\n",
       "      <th>F6</th>\n",
       "      <th>F7</th>\n",
       "      <th>F8</th>\n",
       "      <th>F9</th>\n",
       "      <th>...</th>\n",
       "      <th>F19</th>\n",
       "      <th>F20</th>\n",
       "      <th>F21</th>\n",
       "      <th>F22</th>\n",
       "      <th>F23</th>\n",
       "      <th>F24</th>\n",
       "      <th>F25</th>\n",
       "      <th>F26</th>\n",
       "      <th>F27</th>\n",
       "      <th>F28</th>\n",
       "    </tr>\n",
       "  </thead>\n",
       "  <tbody>\n",
       "    <tr>\n",
       "      <th>30490</th>\n",
       "      <td>HOBBIES_1_001_CA_1_evaluation</td>\n",
       "      <td>0</td>\n",
       "      <td>0</td>\n",
       "      <td>0</td>\n",
       "      <td>0</td>\n",
       "      <td>0</td>\n",
       "      <td>0</td>\n",
       "      <td>0</td>\n",
       "      <td>0</td>\n",
       "      <td>0</td>\n",
       "      <td>...</td>\n",
       "      <td>0</td>\n",
       "      <td>0</td>\n",
       "      <td>0</td>\n",
       "      <td>0</td>\n",
       "      <td>0</td>\n",
       "      <td>0</td>\n",
       "      <td>0</td>\n",
       "      <td>0</td>\n",
       "      <td>0</td>\n",
       "      <td>0</td>\n",
       "    </tr>\n",
       "    <tr>\n",
       "      <th>30491</th>\n",
       "      <td>HOBBIES_1_002_CA_1_evaluation</td>\n",
       "      <td>0</td>\n",
       "      <td>0</td>\n",
       "      <td>0</td>\n",
       "      <td>0</td>\n",
       "      <td>0</td>\n",
       "      <td>0</td>\n",
       "      <td>0</td>\n",
       "      <td>0</td>\n",
       "      <td>0</td>\n",
       "      <td>...</td>\n",
       "      <td>0</td>\n",
       "      <td>0</td>\n",
       "      <td>0</td>\n",
       "      <td>0</td>\n",
       "      <td>0</td>\n",
       "      <td>0</td>\n",
       "      <td>0</td>\n",
       "      <td>0</td>\n",
       "      <td>0</td>\n",
       "      <td>0</td>\n",
       "    </tr>\n",
       "    <tr>\n",
       "      <th>30492</th>\n",
       "      <td>HOBBIES_1_003_CA_1_evaluation</td>\n",
       "      <td>0</td>\n",
       "      <td>0</td>\n",
       "      <td>0</td>\n",
       "      <td>0</td>\n",
       "      <td>0</td>\n",
       "      <td>0</td>\n",
       "      <td>0</td>\n",
       "      <td>0</td>\n",
       "      <td>0</td>\n",
       "      <td>...</td>\n",
       "      <td>0</td>\n",
       "      <td>0</td>\n",
       "      <td>0</td>\n",
       "      <td>0</td>\n",
       "      <td>0</td>\n",
       "      <td>0</td>\n",
       "      <td>0</td>\n",
       "      <td>0</td>\n",
       "      <td>0</td>\n",
       "      <td>0</td>\n",
       "    </tr>\n",
       "    <tr>\n",
       "      <th>30493</th>\n",
       "      <td>HOBBIES_1_004_CA_1_evaluation</td>\n",
       "      <td>0</td>\n",
       "      <td>0</td>\n",
       "      <td>0</td>\n",
       "      <td>0</td>\n",
       "      <td>0</td>\n",
       "      <td>0</td>\n",
       "      <td>0</td>\n",
       "      <td>0</td>\n",
       "      <td>0</td>\n",
       "      <td>...</td>\n",
       "      <td>0</td>\n",
       "      <td>0</td>\n",
       "      <td>0</td>\n",
       "      <td>0</td>\n",
       "      <td>0</td>\n",
       "      <td>0</td>\n",
       "      <td>0</td>\n",
       "      <td>0</td>\n",
       "      <td>0</td>\n",
       "      <td>0</td>\n",
       "    </tr>\n",
       "    <tr>\n",
       "      <th>30494</th>\n",
       "      <td>HOBBIES_1_005_CA_1_evaluation</td>\n",
       "      <td>0</td>\n",
       "      <td>0</td>\n",
       "      <td>0</td>\n",
       "      <td>0</td>\n",
       "      <td>0</td>\n",
       "      <td>0</td>\n",
       "      <td>0</td>\n",
       "      <td>0</td>\n",
       "      <td>0</td>\n",
       "      <td>...</td>\n",
       "      <td>0</td>\n",
       "      <td>0</td>\n",
       "      <td>0</td>\n",
       "      <td>0</td>\n",
       "      <td>0</td>\n",
       "      <td>0</td>\n",
       "      <td>0</td>\n",
       "      <td>0</td>\n",
       "      <td>0</td>\n",
       "      <td>0</td>\n",
       "    </tr>\n",
       "  </tbody>\n",
       "</table>\n",
       "<p>5 rows × 29 columns</p>\n",
       "</div>"
      ],
      "text/plain": [
       "                                  id  F1  F2  F3  F4  F5  F6  F7  F8  F9  ...  \\\n",
       "30490  HOBBIES_1_001_CA_1_evaluation   0   0   0   0   0   0   0   0   0  ...   \n",
       "30491  HOBBIES_1_002_CA_1_evaluation   0   0   0   0   0   0   0   0   0  ...   \n",
       "30492  HOBBIES_1_003_CA_1_evaluation   0   0   0   0   0   0   0   0   0  ...   \n",
       "30493  HOBBIES_1_004_CA_1_evaluation   0   0   0   0   0   0   0   0   0  ...   \n",
       "30494  HOBBIES_1_005_CA_1_evaluation   0   0   0   0   0   0   0   0   0  ...   \n",
       "\n",
       "       F19  F20  F21  F22  F23  F24  F25  F26  F27  F28  \n",
       "30490    0    0    0    0    0    0    0    0    0    0  \n",
       "30491    0    0    0    0    0    0    0    0    0    0  \n",
       "30492    0    0    0    0    0    0    0    0    0    0  \n",
       "30493    0    0    0    0    0    0    0    0    0    0  \n",
       "30494    0    0    0    0    0    0    0    0    0    0  \n",
       "\n",
       "[5 rows x 29 columns]"
      ]
     },
     "execution_count": 120,
     "metadata": {},
     "output_type": "execute_result"
    }
   ],
   "source": [
    "sample.head()"
   ]
  },
  {
   "cell_type": "code",
   "execution_count": 70,
   "metadata": {},
   "outputs": [
    {
     "data": {
      "text/plain": [
       "(30490, 29)"
      ]
     },
     "execution_count": 70,
     "metadata": {},
     "output_type": "execute_result"
    }
   ],
   "source": [
    "sample.shape"
   ]
  },
  {
   "cell_type": "code",
   "execution_count": null,
   "metadata": {},
   "outputs": [],
   "source": []
  }
 ],
 "metadata": {
  "kernelspec": {
   "display_name": "Python 3",
   "language": "python",
   "name": "python3"
  },
  "language_info": {
   "codemirror_mode": {
    "name": "ipython",
    "version": 3
   },
   "file_extension": ".py",
   "mimetype": "text/x-python",
   "name": "python",
   "nbconvert_exporter": "python",
   "pygments_lexer": "ipython3",
   "version": "3.7.2"
  }
 },
 "nbformat": 4,
 "nbformat_minor": 2
}
